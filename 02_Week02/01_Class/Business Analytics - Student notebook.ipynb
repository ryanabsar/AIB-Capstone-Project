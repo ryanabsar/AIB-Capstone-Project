{
 "cells": [
  {
   "cell_type": "markdown",
   "id": "b50a5827-5cd1-4bb2-979e-31ef106aeeb7",
   "metadata": {},
   "source": [
    "# Role-Playing: Consulting Firm and Client Case"
   ]
  },
  {
   "cell_type": "markdown",
   "id": "913d248d-caf5-4511-9ade-4af17c37f7a0",
   "metadata": {},
   "source": [
    "**Note:** You might need to install new libraries to run this file."
   ]
  },
  {
   "cell_type": "markdown",
   "id": "10a5f63a-6967-474b-b293-039d41ce0b44",
   "metadata": {},
   "source": [
    "## The background: \n",
    "\n",
    "For this activity, you will participate in a role-playing business case involving a consulting firm and a client. \n",
    "\n",
    "The client is **GLOBAL MANUFACTURING SOLUTIONS**, a multinational company seeking to enhance its logistics and transportation operations between its factories. \n",
    "\n",
    "**GLOBAL MANUFACTURING SOLUTIONS** has enlisted the expertise of **IMPERIAL DYNAMICS CONSULTING**, a renowned consulting firm specializing in data analytics. \n",
    "\n",
    "**IMPERIAL DYNAMICS CONSULTING** will leverage their team of skilled data and business analysts to provide comprehensive data analytics consulting services. \n",
    "\n",
    "The goal is to gain deeper insights into the logistics and transportation processes of GLOBAL MANUFACTURING SOLUTIONS, identifying areas for improvement and optimization."
   ]
  },
  {
   "cell_type": "markdown",
   "id": "3b50ce87-1913-4db8-8b0f-6b7a8c22d5a2",
   "metadata": {},
   "source": [
    "## The Assignment \n",
    "\n",
    "To address the business case, we have outlined **four distinct scenarios**, each addressing a specific client question. \n",
    "\n",
    "The class will be divided into **four groups**, and each group will be randomly assigned **one of these scenarios** to answer a unique client question. \n",
    "\n",
    "To facilitate the role-playing exercise, each group will be divided into **two subgroups**. \n",
    "\n",
    "Within each group, the subgroups will simultaneously take on the roles of the consulting team and the client. In other words, you will wear two hats: one as the client and the other as the consultants. \n",
    "\n",
    "**As the consulting team**, your task will be to analyze the given data and provide answers and recommendations to the client's question. \n",
    "\n",
    "**As the client**, you will critically evaluate the suggestions provided by the consulting team. You will ask questions to ensure the recommendations are robust and well-thought-out."
   ]
  },
  {
   "cell_type": "markdown",
   "id": "a2ba7095-19c7-40c2-8b91-5b738d4d7453",
   "metadata": {},
   "source": [
    "## The client\n",
    "\n",
    "The client produces **one type of product** across **four different assembly factories** that require **four different parts** to be assembled together. That is:\n",
    "\n",
    "$$PRODUCT = PART 1 + PART 2 + PART 3 + PART 4$$\n",
    "\n",
    "The parts are produced in **four feeder factories** located in Hanoi, Milan, Mumbai, and Stockholm. The parts are then shipped to **four assembly factories** located in Chicago, Krakow, Munich, and Shanghai for final assembly into the client’s product.\n",
    "\n",
    "Each feeder factory produces **only one of the four types of parts** needed in the final product, \n",
    "\n",
    "+ Hanoi produces PART 1,\n",
    "+ Milan produces PART 2,\n",
    "+ Mumbai produces PART 3,\n",
    "+ Stockholm produces PART 4.\n",
    "\n",
    "Since the assembly factories need all four types of parts to assemble the final product, each feeder factory must deliver to all the final assembly factories. For example, the feeder factory in Mumbai will need to deliver PART 3 to Chicago, Krakow, Munich, and Shanghai for final assembly.\n",
    "\n",
    "In other words, since one of each type of part is needed for final assembly, each final assembly factory receives one part from each feeder factory. For example, the Chicago assembly factory receives Part 1 from Hanoi, Part 2 from Milan, Part 3 from Mumbai, and Part 4 from Stockholm. The other assembly factories receive parts in the same manner. The data that the client has shared captures the full picture of the movement of goods."
   ]
  },
  {
   "cell_type": "markdown",
   "id": "623abbd1-38b2-49c3-b2a1-e9133034828b",
   "metadata": {},
   "source": [
    "## The scenarios\n",
    "\n",
    "You will be assigned to one of the four scenarios. To provide the answers, you can make assumptions. Remember, **our focus is on presentation style and skills**, and how you adapt the content of the presentation to the right audience.\n",
    "\n",
    "**Scenario 1 – Visionary Insight**\n",
    "\n",
    "In this scenario, the CEO of GLOBAL MANUFACTURING SOLUTIONS, a visionary leader with a keen eye on the company's strategic direction, is contemplating redistributing operations to strengthen the company's market position and capture new growth opportunities. The sales team has projected a global demand of 125 final products per month. However, the critical question remains: Does the current production capacity suffice to meet this demand? If not, what operational changes are necessary, and what would be the expected operational expenditure (OPEX) implications? The CEO is particularly focused on understanding the market dynamics and business considerations that should guide this pivotal decision.\n",
    "\n",
    "**Scenario 2 – Foundation Building** \n",
    "\n",
    "In this scenario, the logistics department of GLOBAL MANUFACTURING SOLUTIONS has noticed a recurring anomaly in their operations: the feeder factory in Stockholm has reported abnormally high shipment costs. This anomaly has prompted a thorough investigation. The logistics team is interested in uncovering the root cause of this issue. Why is Stockholm's shipment cost so high? What factors are contributing to this anomaly? The logistics team is interested in learning from actionable insights to correct this issue and ensure smooth, cost-effective operations moving forward.\n",
    "\n",
    "**Scenario 3 – Engineer’s Edge** \n",
    "\n",
    "In this scenario, the operations team at GLOBAL MANUFACTURING SOLUTIONS is facing a critical challenge. Several assembly factories have reported complaints about delays at the feeder factory in Mumbai. The feeder factory manager in Mumbai claims that the assembly factories are not placing orders with sufficient lead time, causing a bottleneck in the production process. The operations team requires you to dive deep into the situation to provide clarity. What is causing these delays? Is it a communication breakdown, a logistical issue, or something else? The operations team expects that you identify the root cause and propose solutions to streamline the process and eliminate delays. They are particularly interested in understanding the technical details of how you uncovered the root cause.\n",
    "\n",
    "**Scenario 4 – Architect’s Vision** \n",
    "\n",
    "In this scenario, the CEO of GLOBAL MANUFACTURING SOLUTIONS, a leader with a strong technical interest, is facing mounting pressure from stakeholders to reduce the company's carbon emissions. The board has proposed a significant change: decreasing air shipments as a strategy to lower emissions. The CEO is determined to understand how exactly reducing air shipments will impact the company's carbon footprint. What methodology should be used to assess this impact accurately? The CEO seeks a comprehensive understanding of the methodology used to claim environmental impacts and the practical implications of this strategy."
   ]
  },
  {
   "cell_type": "markdown",
   "id": "fed89e7f-e43e-491c-9a57-a8543fe0b32b",
   "metadata": {},
   "source": [
    "## The data"
   ]
  },
  {
   "cell_type": "markdown",
   "id": "c91eaf3b-0e27-44bc-b9a9-786988486623",
   "metadata": {},
   "source": [
    "### Data description\n",
    "\n",
    "\n",
    "The client has shared **one month of their complete shipment data** for November 2024. The month shared represents a typical month. The data includes details about origins, destinations, order dates, dispatch dates, expected delivery dates, actual delivery dates, transportation modes, weights, and costs. For the sake of simplicity, each row corresponds to one part shipped.\n",
    "\n",
    "**Main file:**\n",
    "\n",
    "1. Shipment Data (Sheet: November_2024_Transportation)\n",
    "\n",
    "This sheet contains detailed information about individual shipments, including:\n",
    "\n",
    "* **Shipment ID:** Unique identifier for each shipment.\n",
    "* **Item:** The part being shipped.\n",
    "* **Order, Dispatch, Expected Delivery, and (Actual) Delivery Dates:** The date of order, dispatch, and expected and actual delivery timelines.\n",
    "* **Transportation Days:** Total transit time for each shipment.\n",
    "* **Origins and Destinations:** Cities where shipments start and end.\n",
    "* **Weight and Distance:** Weight of goods transported (in kilograms) and the distance traveled (in kilometers).\n",
    "* **Delivery Status:** Indicator of whether shipments were delivered on time. \n",
    "* **Transportation Mode:** Mode of transport (Road, Ocean, Air).\n",
    "* **Fixed, Variable, and Total Costs:** Fixed, variable and total costs in GBP.\n",
    "\n",
    "**Supporting files:**\n",
    "\n",
    "2. Transportation Cost Data (Sheet: Transportation Cost)\n",
    "\n",
    "This sheet provides unit costs for various transportation modes:\n",
    "\n",
    "* **Fixed Cost (£/km):** Cost associated with distance regardless of shipment weight.\n",
    "* **Variable Cost (£/kg):** Cost per kilogram of goods transported.\n",
    "* **Comments:** Descriptions of the advantages and disadvantages of each transportation mode (e.g., air freight is fast but expensive).\n",
    "\n",
    "3. Distances and Transport Preferences (Sheet: Distances)\n",
    "\n",
    "This sheet includes:\n",
    "\n",
    "* **Origins and Destinations:** Geographical details of the cities involved in transportation.\n",
    "* **Latitude and Longitude:** Coordinates for mapping and distance calculations.\n",
    "* **Country Codes:** Origin and destination countries for shipments.\n",
    "* **Distances (km):** Straight-line distances between origin and destination cities.\n",
    "* **Preferred Transport Modes:** Suggested modes of transport based on efficiency and cost-effectiveness.\n",
    "\n",
    "4. City Information (Sheet: Cities)\n",
    "\n",
    "This sheet lists:\n",
    "\n",
    "* **City Names:** Key cities involved in the transportation network.\n",
    "* **Coordinates:** Latitude and longitude for geospatial reference.\n",
    "* **Country Codes:** CoLet me know if you need any further assistance!"
   ]
  },
  {
   "cell_type": "markdown",
   "id": "a6c800eb-faab-48bf-afe1-2ffeffd7abb0",
   "metadata": {},
   "source": [
    "### Data quality analysis"
   ]
  },
  {
   "cell_type": "markdown",
   "id": "1661d327-4cee-4171-8fb4-5fb3bb58991d",
   "metadata": {},
   "source": [
    "Importing the data:"
   ]
  },
  {
   "cell_type": "code",
   "execution_count": 2,
   "id": "edcdc3de-89d2-4600-b927-da818d5f4d6f",
   "metadata": {},
   "outputs": [],
   "source": [
    "import pandas as pd\n",
    "from geopy.distance import geodesic\n",
    "\n",
    "# Load all sheets into a dictionary\n",
    "file_path = \"November_2024_Transportation_Dataset.xlsx\"\n",
    "all_sheets = pd.read_excel(file_path, sheet_name=None)\n",
    "\n",
    "shipments = all_sheets['November_2024_Transportation']\n",
    "transport_cost = all_sheets['Transportation cost']\n",
    "# Drop the 'Comments' column if it exists\n",
    "if 'Comments' in transport_cost.columns:\n",
    "    transport_cost = transport_cost.drop(columns=['Comments'])\n",
    "routes = all_sheets['Distances']\n",
    "\n",
    "cities = all_sheets['Cities']"
   ]
  },
  {
   "cell_type": "markdown",
   "id": "29d6a1e8-3105-4127-942b-7eb3879d7128",
   "metadata": {},
   "source": [
    "Visualising the first rows:"
   ]
  },
  {
   "cell_type": "code",
   "execution_count": 3,
   "id": "f2a52370-0cb1-4b00-a177-145a3e64c0a6",
   "metadata": {},
   "outputs": [
    {
     "data": {
      "text/html": [
       "<div>\n",
       "<style scoped>\n",
       "    .dataframe tbody tr th:only-of-type {\n",
       "        vertical-align: middle;\n",
       "    }\n",
       "\n",
       "    .dataframe tbody tr th {\n",
       "        vertical-align: top;\n",
       "    }\n",
       "\n",
       "    .dataframe thead th {\n",
       "        text-align: right;\n",
       "    }\n",
       "</style>\n",
       "<table border=\"1\" class=\"dataframe\">\n",
       "  <thead>\n",
       "    <tr style=\"text-align: right;\">\n",
       "      <th></th>\n",
       "      <th>Shipment_ID</th>\n",
       "      <th>Item</th>\n",
       "      <th>Order_Date</th>\n",
       "      <th>Dispatch_Date</th>\n",
       "      <th>Expected_Delivery_Date</th>\n",
       "      <th>Delivery_Date</th>\n",
       "      <th>Transportation_Days</th>\n",
       "      <th>Origin</th>\n",
       "      <th>Destination</th>\n",
       "      <th>Weight_kg</th>\n",
       "      <th>Distance_km</th>\n",
       "      <th>Delivery_Status</th>\n",
       "      <th>Transportation_Mode</th>\n",
       "      <th>Fixed_Cost_GBP</th>\n",
       "      <th>Variable_Cost_GBP</th>\n",
       "      <th>Total_Cost_GBP</th>\n",
       "    </tr>\n",
       "  </thead>\n",
       "  <tbody>\n",
       "    <tr>\n",
       "      <th>0</th>\n",
       "      <td>SHP00001</td>\n",
       "      <td>PART 1</td>\n",
       "      <td>2024-11-01</td>\n",
       "      <td>2024-11-01</td>\n",
       "      <td>2024-11-29</td>\n",
       "      <td>2024-11-29</td>\n",
       "      <td>28</td>\n",
       "      <td>Hanoi</td>\n",
       "      <td>Shanghai</td>\n",
       "      <td>761</td>\n",
       "      <td>1924.459238</td>\n",
       "      <td>On-Time</td>\n",
       "      <td>Ocean</td>\n",
       "      <td>673.560733</td>\n",
       "      <td>38.05</td>\n",
       "      <td>711.610733</td>\n",
       "    </tr>\n",
       "    <tr>\n",
       "      <th>1</th>\n",
       "      <td>SHP00002</td>\n",
       "      <td>PART 2</td>\n",
       "      <td>2024-11-01</td>\n",
       "      <td>2024-11-02</td>\n",
       "      <td>2024-11-10</td>\n",
       "      <td>2024-11-10</td>\n",
       "      <td>8</td>\n",
       "      <td>Milan</td>\n",
       "      <td>Krakow</td>\n",
       "      <td>1429</td>\n",
       "      <td>953.414225</td>\n",
       "      <td>On-Time</td>\n",
       "      <td>Road</td>\n",
       "      <td>476.707113</td>\n",
       "      <td>142.90</td>\n",
       "      <td>619.607113</td>\n",
       "    </tr>\n",
       "    <tr>\n",
       "      <th>2</th>\n",
       "      <td>SHP00003</td>\n",
       "      <td>PART 2</td>\n",
       "      <td>2024-11-01</td>\n",
       "      <td>2024-11-02</td>\n",
       "      <td>2024-11-10</td>\n",
       "      <td>2024-11-10</td>\n",
       "      <td>8</td>\n",
       "      <td>Milan</td>\n",
       "      <td>Krakow</td>\n",
       "      <td>1429</td>\n",
       "      <td>953.414225</td>\n",
       "      <td>On-Time</td>\n",
       "      <td>Road</td>\n",
       "      <td>476.707113</td>\n",
       "      <td>142.90</td>\n",
       "      <td>619.607113</td>\n",
       "    </tr>\n",
       "    <tr>\n",
       "      <th>3</th>\n",
       "      <td>SHP00004</td>\n",
       "      <td>PART 1</td>\n",
       "      <td>2024-11-02</td>\n",
       "      <td>2024-11-02</td>\n",
       "      <td>2024-11-23</td>\n",
       "      <td>2024-11-23</td>\n",
       "      <td>21</td>\n",
       "      <td>Hanoi</td>\n",
       "      <td>Munich</td>\n",
       "      <td>761</td>\n",
       "      <td>8602.650679</td>\n",
       "      <td>On-Time</td>\n",
       "      <td>Ocean</td>\n",
       "      <td>3010.927738</td>\n",
       "      <td>38.05</td>\n",
       "      <td>3048.977738</td>\n",
       "    </tr>\n",
       "    <tr>\n",
       "      <th>4</th>\n",
       "      <td>SHP00005</td>\n",
       "      <td>PART 2</td>\n",
       "      <td>2024-11-02</td>\n",
       "      <td>2024-11-02</td>\n",
       "      <td>2024-11-11</td>\n",
       "      <td>2024-11-11</td>\n",
       "      <td>9</td>\n",
       "      <td>Milan</td>\n",
       "      <td>Munich</td>\n",
       "      <td>1429</td>\n",
       "      <td>348.531624</td>\n",
       "      <td>On-Time</td>\n",
       "      <td>Road</td>\n",
       "      <td>174.265812</td>\n",
       "      <td>142.90</td>\n",
       "      <td>317.165812</td>\n",
       "    </tr>\n",
       "  </tbody>\n",
       "</table>\n",
       "</div>"
      ],
      "text/plain": [
       "  Shipment_ID    Item Order_Date Dispatch_Date Expected_Delivery_Date  \\\n",
       "0    SHP00001  PART 1 2024-11-01    2024-11-01             2024-11-29   \n",
       "1    SHP00002  PART 2 2024-11-01    2024-11-02             2024-11-10   \n",
       "2    SHP00003  PART 2 2024-11-01    2024-11-02             2024-11-10   \n",
       "3    SHP00004  PART 1 2024-11-02    2024-11-02             2024-11-23   \n",
       "4    SHP00005  PART 2 2024-11-02    2024-11-02             2024-11-11   \n",
       "\n",
       "  Delivery_Date  Transportation_Days Origin Destination  Weight_kg  \\\n",
       "0    2024-11-29                   28  Hanoi    Shanghai        761   \n",
       "1    2024-11-10                    8  Milan      Krakow       1429   \n",
       "2    2024-11-10                    8  Milan      Krakow       1429   \n",
       "3    2024-11-23                   21  Hanoi      Munich        761   \n",
       "4    2024-11-11                    9  Milan      Munich       1429   \n",
       "\n",
       "   Distance_km Delivery_Status Transportation_Mode  Fixed_Cost_GBP  \\\n",
       "0  1924.459238         On-Time               Ocean      673.560733   \n",
       "1   953.414225         On-Time                Road      476.707113   \n",
       "2   953.414225         On-Time                Road      476.707113   \n",
       "3  8602.650679         On-Time               Ocean     3010.927738   \n",
       "4   348.531624         On-Time                Road      174.265812   \n",
       "\n",
       "   Variable_Cost_GBP  Total_Cost_GBP  \n",
       "0              38.05      711.610733  \n",
       "1             142.90      619.607113  \n",
       "2             142.90      619.607113  \n",
       "3              38.05     3048.977738  \n",
       "4             142.90      317.165812  "
      ]
     },
     "execution_count": 3,
     "metadata": {},
     "output_type": "execute_result"
    }
   ],
   "source": [
    "shipments.head()"
   ]
  },
  {
   "cell_type": "markdown",
   "id": "3384585d-6848-4859-ac76-97f17bbc99bf",
   "metadata": {},
   "source": [
    "Data type and completeness:"
   ]
  },
  {
   "cell_type": "code",
   "execution_count": 4,
   "id": "2ab308bc-b5de-423a-ae8c-f27206caab5d",
   "metadata": {},
   "outputs": [
    {
     "name": "stdout",
     "output_type": "stream",
     "text": [
      "<class 'pandas.core.frame.DataFrame'>\n",
      "RangeIndex: 500 entries, 0 to 499\n",
      "Data columns (total 16 columns):\n",
      " #   Column                  Non-Null Count  Dtype         \n",
      "---  ------                  --------------  -----         \n",
      " 0   Shipment_ID             500 non-null    object        \n",
      " 1   Item                    500 non-null    object        \n",
      " 2   Order_Date              500 non-null    datetime64[ns]\n",
      " 3   Dispatch_Date           500 non-null    datetime64[ns]\n",
      " 4   Expected_Delivery_Date  500 non-null    datetime64[ns]\n",
      " 5   Delivery_Date           500 non-null    datetime64[ns]\n",
      " 6   Transportation_Days     500 non-null    int64         \n",
      " 7   Origin                  500 non-null    object        \n",
      " 8   Destination             500 non-null    object        \n",
      " 9   Weight_kg               500 non-null    int64         \n",
      " 10  Distance_km             500 non-null    float64       \n",
      " 11  Delivery_Status         500 non-null    object        \n",
      " 12  Transportation_Mode     500 non-null    object        \n",
      " 13  Fixed_Cost_GBP          500 non-null    float64       \n",
      " 14  Variable_Cost_GBP       500 non-null    float64       \n",
      " 15  Total_Cost_GBP          500 non-null    float64       \n",
      "dtypes: datetime64[ns](4), float64(4), int64(2), object(6)\n",
      "memory usage: 62.6+ KB\n"
     ]
    }
   ],
   "source": [
    "shipments.info()"
   ]
  },
  {
   "cell_type": "markdown",
   "id": "2e84f367-44a0-45dd-8bf1-b782ef6b0e0a",
   "metadata": {},
   "source": [
    "**Note:** Lucky day! The client has provided data in standardized formats with complete information. **Keep in mind** that in real-world scenarios, this level of data quality is uncommon. Many industries, especially those operating with extensive legacy systems, rely heavily on **individual expertise** and **decentralized data sources**."
   ]
  },
  {
   "cell_type": "markdown",
   "id": "6b337869-9502-4ba5-814c-dbc6db979573",
   "metadata": {},
   "source": [
    "### Initial data insights:"
   ]
  },
  {
   "cell_type": "code",
   "execution_count": 5,
   "id": "0293b03c-cff2-4869-bee2-e73cf84c34eb",
   "metadata": {
    "scrolled": true
   },
   "outputs": [
    {
     "data": {
      "text/html": [
       "<div>\n",
       "<style scoped>\n",
       "    .dataframe tbody tr th:only-of-type {\n",
       "        vertical-align: middle;\n",
       "    }\n",
       "\n",
       "    .dataframe tbody tr th {\n",
       "        vertical-align: top;\n",
       "    }\n",
       "\n",
       "    .dataframe thead th {\n",
       "        text-align: right;\n",
       "    }\n",
       "</style>\n",
       "<table border=\"1\" class=\"dataframe\">\n",
       "  <thead>\n",
       "    <tr style=\"text-align: right;\">\n",
       "      <th></th>\n",
       "      <th>Order_Date</th>\n",
       "      <th>Dispatch_Date</th>\n",
       "      <th>Expected_Delivery_Date</th>\n",
       "      <th>Delivery_Date</th>\n",
       "      <th>Transportation_Days</th>\n",
       "      <th>Weight_kg</th>\n",
       "      <th>Distance_km</th>\n",
       "      <th>Fixed_Cost_GBP</th>\n",
       "      <th>Variable_Cost_GBP</th>\n",
       "      <th>Total_Cost_GBP</th>\n",
       "    </tr>\n",
       "  </thead>\n",
       "  <tbody>\n",
       "    <tr>\n",
       "      <th>count</th>\n",
       "      <td>500</td>\n",
       "      <td>500</td>\n",
       "      <td>500</td>\n",
       "      <td>500</td>\n",
       "      <td>500.000000</td>\n",
       "      <td>500.00000</td>\n",
       "      <td>500.000000</td>\n",
       "      <td>500.000000</td>\n",
       "      <td>500.000000</td>\n",
       "      <td>500.000000</td>\n",
       "    </tr>\n",
       "    <tr>\n",
       "      <th>mean</th>\n",
       "      <td>2024-11-14 22:01:55.199999744</td>\n",
       "      <td>2024-11-19 09:44:38.399999744</td>\n",
       "      <td>2024-11-24 15:01:26.400000256</td>\n",
       "      <td>2024-11-24 22:33:36</td>\n",
       "      <td>5.534000</td>\n",
       "      <td>925.61800</td>\n",
       "      <td>6040.739670</td>\n",
       "      <td>3031.764881</td>\n",
       "      <td>157.529900</td>\n",
       "      <td>3189.294781</td>\n",
       "    </tr>\n",
       "    <tr>\n",
       "      <th>min</th>\n",
       "      <td>2024-11-01 00:00:00</td>\n",
       "      <td>2024-11-01 00:00:00</td>\n",
       "      <td>2024-11-05 00:00:00</td>\n",
       "      <td>2024-11-06 00:00:00</td>\n",
       "      <td>0.000000</td>\n",
       "      <td>246.00000</td>\n",
       "      <td>348.531624</td>\n",
       "      <td>174.265812</td>\n",
       "      <td>12.300000</td>\n",
       "      <td>317.165812</td>\n",
       "    </tr>\n",
       "    <tr>\n",
       "      <th>25%</th>\n",
       "      <td>2024-11-07 00:00:00</td>\n",
       "      <td>2024-11-14 00:00:00</td>\n",
       "      <td>2024-11-20 00:00:00</td>\n",
       "      <td>2024-11-20 00:00:00</td>\n",
       "      <td>0.000000</td>\n",
       "      <td>761.00000</td>\n",
       "      <td>1315.887532</td>\n",
       "      <td>778.704514</td>\n",
       "      <td>38.050000</td>\n",
       "      <td>1139.004514</td>\n",
       "    </tr>\n",
       "    <tr>\n",
       "      <th>50%</th>\n",
       "      <td>2024-11-14 00:00:00</td>\n",
       "      <td>2024-11-21 00:00:00</td>\n",
       "      <td>2024-11-26 00:00:00</td>\n",
       "      <td>2024-11-26 00:00:00</td>\n",
       "      <td>6.000000</td>\n",
       "      <td>1201.00000</td>\n",
       "      <td>6899.752871</td>\n",
       "      <td>2785.410742</td>\n",
       "      <td>76.100000</td>\n",
       "      <td>2823.460742</td>\n",
       "    </tr>\n",
       "    <tr>\n",
       "      <th>75%</th>\n",
       "      <td>2024-11-23 00:00:00</td>\n",
       "      <td>2024-11-26 00:00:00</td>\n",
       "      <td>2024-11-29 06:00:00</td>\n",
       "      <td>2024-11-30 00:00:00</td>\n",
       "      <td>7.000000</td>\n",
       "      <td>1429.00000</td>\n",
       "      <td>8602.650679</td>\n",
       "      <td>4537.979476</td>\n",
       "      <td>228.300000</td>\n",
       "      <td>4554.221174</td>\n",
       "    </tr>\n",
       "    <tr>\n",
       "      <th>max</th>\n",
       "      <td>2024-11-30 00:00:00</td>\n",
       "      <td>2024-11-30 00:00:00</td>\n",
       "      <td>2024-12-06 00:00:00</td>\n",
       "      <td>2024-12-15 00:00:00</td>\n",
       "      <td>36.000000</td>\n",
       "      <td>1429.00000</td>\n",
       "      <td>12965.655647</td>\n",
       "      <td>9724.241735</td>\n",
       "      <td>428.700000</td>\n",
       "      <td>9905.809659</td>\n",
       "    </tr>\n",
       "    <tr>\n",
       "      <th>std</th>\n",
       "      <td>NaN</td>\n",
       "      <td>NaN</td>\n",
       "      <td>NaN</td>\n",
       "      <td>NaN</td>\n",
       "      <td>4.917031</td>\n",
       "      <td>442.56846</td>\n",
       "      <td>4102.337117</td>\n",
       "      <td>2243.467309</td>\n",
       "      <td>144.478309</td>\n",
       "      <td>2263.608134</td>\n",
       "    </tr>\n",
       "  </tbody>\n",
       "</table>\n",
       "</div>"
      ],
      "text/plain": [
       "                          Order_Date                  Dispatch_Date  \\\n",
       "count                            500                            500   \n",
       "mean   2024-11-14 22:01:55.199999744  2024-11-19 09:44:38.399999744   \n",
       "min              2024-11-01 00:00:00            2024-11-01 00:00:00   \n",
       "25%              2024-11-07 00:00:00            2024-11-14 00:00:00   \n",
       "50%              2024-11-14 00:00:00            2024-11-21 00:00:00   \n",
       "75%              2024-11-23 00:00:00            2024-11-26 00:00:00   \n",
       "max              2024-11-30 00:00:00            2024-11-30 00:00:00   \n",
       "std                              NaN                            NaN   \n",
       "\n",
       "              Expected_Delivery_Date        Delivery_Date  \\\n",
       "count                            500                  500   \n",
       "mean   2024-11-24 15:01:26.400000256  2024-11-24 22:33:36   \n",
       "min              2024-11-05 00:00:00  2024-11-06 00:00:00   \n",
       "25%              2024-11-20 00:00:00  2024-11-20 00:00:00   \n",
       "50%              2024-11-26 00:00:00  2024-11-26 00:00:00   \n",
       "75%              2024-11-29 06:00:00  2024-11-30 00:00:00   \n",
       "max              2024-12-06 00:00:00  2024-12-15 00:00:00   \n",
       "std                              NaN                  NaN   \n",
       "\n",
       "       Transportation_Days   Weight_kg   Distance_km  Fixed_Cost_GBP  \\\n",
       "count           500.000000   500.00000    500.000000      500.000000   \n",
       "mean              5.534000   925.61800   6040.739670     3031.764881   \n",
       "min               0.000000   246.00000    348.531624      174.265812   \n",
       "25%               0.000000   761.00000   1315.887532      778.704514   \n",
       "50%               6.000000  1201.00000   6899.752871     2785.410742   \n",
       "75%               7.000000  1429.00000   8602.650679     4537.979476   \n",
       "max              36.000000  1429.00000  12965.655647     9724.241735   \n",
       "std               4.917031   442.56846   4102.337117     2243.467309   \n",
       "\n",
       "       Variable_Cost_GBP  Total_Cost_GBP  \n",
       "count         500.000000      500.000000  \n",
       "mean          157.529900     3189.294781  \n",
       "min            12.300000      317.165812  \n",
       "25%            38.050000     1139.004514  \n",
       "50%            76.100000     2823.460742  \n",
       "75%           228.300000     4554.221174  \n",
       "max           428.700000     9905.809659  \n",
       "std           144.478309     2263.608134  "
      ]
     },
     "execution_count": 5,
     "metadata": {},
     "output_type": "execute_result"
    }
   ],
   "source": [
    "shipments.describe()"
   ]
  },
  {
   "cell_type": "markdown",
   "id": "0b058095-956f-4f12-a651-63c610458428",
   "metadata": {},
   "source": [
    "* **Order Dates:** The data spans the month of November 2024, with orders ranging from the 1st to the 30th. The median order date is November 14.\n",
    "* **Dispatch Dates:** The fastest dispatch occurred on the same day as the order (November 1).\n",
    "* **Expected vs. Actual Delivery:** The earliest delivery occurred on November 6, while the earliest expected delivery was November 5.\n",
    "* **Transportation Days:** The average transit time is approximately 5.5 days. The shortest shipments were delivered on the same day, while the longest took 36 days.\n",
    "* **Weight of Shipments:** The average shipment weight is approximately 925 kg, ranging from a light shipment of 246 kg to a heavier one of 1,429 kg.\n",
    "* **Distances:** The average distance traveled by shipments is 6,041 km, with a wide range—from around 349 km to over 12,965 km.\n",
    "* **Fixed Costs:** The average fixed cost is around £3,031, ranging from approximately £174 to £9,724.\n",
    "* **Variable Costs:** The average variable cost is around £157, ranging from approximately £12 to £428.\n",
    "* **Total Costs:** The average total cost is around £3,189, ranging from approximately £317 to £9,905."
   ]
  },
  {
   "cell_type": "markdown",
   "id": "79887655-74eb-4ad7-98d8-ef68ff21160c",
   "metadata": {
    "jp-MarkdownHeadingCollapsed": true
   },
   "source": [
    "### Bonus formulas - Not Needed for the assigment\n",
    "\n",
    "The distances between cities have already been provided by the client. However, if this information were not available, the following formulas could come in handy:\n",
    "\n",
    "**1)** Calculating distances between cities with the library **geopy**, and the function **geodesic**\n",
    "\n",
    "```python\n",
    "from geopy.distance import geodesic\n",
    "\n",
    "def calculate_distance(row):\n",
    "    origin_coords = (row[\"Origin_Lat\"], row[\"Origin_Lng\"])\n",
    "    destination_coords = (row[\"Destination_Lat\"], row[\"Destination_Lng\"])\n",
    "    return geodesic(origin_coords, destination_coords).kilometers\n",
    "    \n",
    "routes[\"Distance_km\"] = routes.apply(calculate_distance, axis=1)\n",
    "```\n",
    "**2)** Getting coordinates using the name of cities with the library **geopy**, and the function **Nominatim**\n",
    "\n",
    "```python\n",
    "from geopy.geocoders import Nominatim\n",
    "\n",
    "def get_coordinates(city_name):\n",
    "    geolocator = Nominatim(user_agent=\"shipmentsIDlocations\")\n",
    "    location = geolocator.geocode(city_name)\n",
    "    return location.latitude, location.longitude\n",
    "\n",
    "# Add latitude and longitude for cities\n",
    "cities['Lat'], cities['Lon'] = zip(*cities['City'].apply(get_coordinates))"
   ]
  },
  {
   "cell_type": "markdown",
   "id": "b16b956b-9944-4319-afe0-e07212d318ad",
   "metadata": {},
   "source": [
    "### Visualising the shipments"
   ]
  },
  {
   "cell_type": "markdown",
   "id": "8395f53d-671a-4f92-a012-fe333110189f",
   "metadata": {},
   "source": [
    "Route visualisation - world map:"
   ]
  },
  {
   "cell_type": "code",
   "execution_count": 9,
   "id": "6aa5ccc0-a73c-47cd-ba85-6b605d5c35e1",
   "metadata": {},
   "outputs": [
    {
     "data": {
      "application/vnd.plotly.v1+json": {
       "config": {
        "plotlyServerURL": "https://plot.ly"
       },
       "data": [
        {
         "lat": {
          "bdata": "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",
          "dtype": "f8"
         },
         "locationmode": "country names",
         "lon": {
          "bdata": "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",
          "dtype": "f8"
         },
         "marker": {
          "color": "darkblue",
          "size": 8,
          "symbol": "circle"
         },
         "mode": "markers",
         "name": "Origin",
         "text": [
          "Hanoi",
          "Milan",
          "Milan",
          "Hanoi",
          "Milan",
          "Hanoi",
          "Mumbai",
          "Hanoi",
          "Hanoi",
          "Milan",
          "Hanoi",
          "Mumbai",
          "Stockholm",
          "Hanoi",
          "Stockholm",
          "Hanoi",
          "Stockholm",
          "Hanoi",
          "Stockholm",
          "Milan",
          "Hanoi",
          "Mumbai",
          "Mumbai",
          "Milan",
          "Stockholm",
          "Stockholm",
          "Hanoi",
          "Stockholm",
          "Stockholm",
          "Stockholm",
          "Mumbai",
          "Milan",
          "Stockholm",
          "Hanoi",
          "Mumbai",
          "Milan",
          "Hanoi",
          "Hanoi",
          "Mumbai",
          "Stockholm",
          "Hanoi",
          "Stockholm",
          "Milan",
          "Mumbai",
          "Milan",
          "Hanoi",
          "Milan",
          "Milan",
          "Stockholm",
          "Mumbai",
          "Milan",
          "Stockholm",
          "Milan",
          "Stockholm",
          "Milan",
          "Stockholm",
          "Hanoi",
          "Hanoi",
          "Stockholm",
          "Milan",
          "Stockholm",
          "Hanoi",
          "Mumbai",
          "Hanoi",
          "Hanoi",
          "Milan",
          "Stockholm",
          "Stockholm",
          "Hanoi",
          "Mumbai",
          "Mumbai",
          "Stockholm",
          "Milan",
          "Mumbai",
          "Hanoi",
          "Mumbai",
          "Hanoi",
          "Milan",
          "Stockholm",
          "Milan",
          "Stockholm",
          "Milan",
          "Mumbai",
          "Stockholm",
          "Milan",
          "Milan",
          "Mumbai",
          "Mumbai",
          "Stockholm",
          "Milan",
          "Milan",
          "Hanoi",
          "Mumbai",
          "Mumbai",
          "Milan",
          "Stockholm",
          "Mumbai",
          "Mumbai",
          "Milan",
          "Hanoi",
          "Mumbai",
          "Mumbai",
          "Stockholm",
          "Mumbai",
          "Milan",
          "Hanoi",
          "Milan",
          "Mumbai",
          "Milan",
          "Milan",
          "Mumbai",
          "Stockholm",
          "Mumbai",
          "Mumbai",
          "Hanoi",
          "Mumbai",
          "Mumbai",
          "Hanoi",
          "Mumbai",
          "Mumbai",
          "Hanoi",
          "Hanoi",
          "Stockholm",
          "Milan",
          "Hanoi",
          "Stockholm",
          "Mumbai",
          "Milan",
          "Hanoi",
          "Milan",
          "Stockholm",
          "Mumbai",
          "Hanoi",
          "Hanoi",
          "Mumbai",
          "Mumbai",
          "Stockholm",
          "Milan",
          "Milan",
          "Mumbai",
          "Stockholm",
          "Stockholm",
          "Milan",
          "Stockholm",
          "Stockholm",
          "Hanoi",
          "Mumbai",
          "Mumbai",
          "Milan",
          "Hanoi",
          "Milan",
          "Mumbai",
          "Mumbai",
          "Milan",
          "Hanoi",
          "Hanoi",
          "Hanoi",
          "Hanoi",
          "Stockholm",
          "Mumbai",
          "Stockholm",
          "Hanoi",
          "Stockholm",
          "Milan",
          "Stockholm",
          "Stockholm",
          "Milan",
          "Mumbai",
          "Mumbai",
          "Milan",
          "Stockholm",
          "Stockholm",
          "Hanoi",
          "Mumbai",
          "Mumbai",
          "Hanoi",
          "Hanoi",
          "Mumbai",
          "Hanoi",
          "Milan",
          "Stockholm",
          "Hanoi",
          "Mumbai",
          "Mumbai",
          "Stockholm",
          "Hanoi",
          "Stockholm",
          "Mumbai",
          "Mumbai",
          "Mumbai",
          "Milan",
          "Stockholm",
          "Milan",
          "Mumbai",
          "Stockholm",
          "Milan",
          "Stockholm",
          "Milan",
          "Stockholm",
          "Hanoi",
          "Hanoi",
          "Hanoi",
          "Stockholm",
          "Mumbai",
          "Hanoi",
          "Stockholm",
          "Mumbai",
          "Milan",
          "Mumbai",
          "Milan",
          "Mumbai",
          "Hanoi",
          "Hanoi",
          "Mumbai",
          "Stockholm",
          "Milan",
          "Milan",
          "Milan",
          "Hanoi",
          "Stockholm",
          "Mumbai",
          "Mumbai",
          "Stockholm",
          "Hanoi",
          "Hanoi",
          "Hanoi",
          "Hanoi",
          "Hanoi",
          "Milan",
          "Milan",
          "Hanoi",
          "Stockholm",
          "Hanoi",
          "Stockholm",
          "Stockholm",
          "Stockholm",
          "Hanoi",
          "Mumbai",
          "Milan",
          "Mumbai",
          "Hanoi",
          "Stockholm",
          "Milan",
          "Milan",
          "Hanoi",
          "Milan",
          "Mumbai",
          "Milan",
          "Milan",
          "Stockholm",
          "Mumbai",
          "Stockholm",
          "Mumbai",
          "Milan",
          "Stockholm",
          "Stockholm",
          "Stockholm",
          "Milan",
          "Milan",
          "Milan",
          "Milan",
          "Stockholm",
          "Stockholm",
          "Milan",
          "Milan",
          "Stockholm",
          "Mumbai",
          "Milan",
          "Mumbai",
          "Hanoi",
          "Stockholm",
          "Hanoi",
          "Milan",
          "Stockholm",
          "Stockholm",
          "Mumbai",
          "Stockholm",
          "Hanoi",
          "Mumbai",
          "Milan",
          "Stockholm",
          "Hanoi",
          "Milan",
          "Milan",
          "Hanoi",
          "Milan",
          "Hanoi",
          "Stockholm",
          "Mumbai",
          "Stockholm",
          "Hanoi",
          "Milan",
          "Mumbai",
          "Mumbai",
          "Stockholm",
          "Hanoi",
          "Stockholm",
          "Stockholm",
          "Hanoi",
          "Milan",
          "Hanoi",
          "Stockholm",
          "Hanoi",
          "Mumbai",
          "Hanoi",
          "Stockholm",
          "Milan",
          "Milan",
          "Milan",
          "Mumbai",
          "Stockholm",
          "Stockholm",
          "Hanoi",
          "Stockholm",
          "Milan",
          "Milan",
          "Milan",
          "Hanoi",
          "Milan",
          "Milan",
          "Stockholm",
          "Hanoi",
          "Stockholm",
          "Mumbai",
          "Hanoi",
          "Mumbai",
          "Mumbai",
          "Stockholm",
          "Stockholm",
          "Milan",
          "Hanoi",
          "Hanoi",
          "Mumbai",
          "Hanoi",
          "Mumbai",
          "Milan",
          "Milan",
          "Hanoi",
          "Mumbai",
          "Milan",
          "Hanoi",
          "Stockholm",
          "Stockholm",
          "Mumbai",
          "Hanoi",
          "Milan",
          "Milan",
          "Milan",
          "Stockholm",
          "Hanoi",
          "Stockholm",
          "Milan",
          "Stockholm",
          "Milan",
          "Mumbai",
          "Stockholm",
          "Mumbai",
          "Hanoi",
          "Mumbai",
          "Stockholm",
          "Stockholm",
          "Milan",
          "Hanoi",
          "Hanoi",
          "Mumbai",
          "Hanoi",
          "Milan",
          "Mumbai",
          "Hanoi",
          "Milan",
          "Hanoi",
          "Milan",
          "Mumbai",
          "Milan",
          "Milan",
          "Stockholm",
          "Stockholm",
          "Milan",
          "Stockholm",
          "Stockholm",
          "Milan",
          "Hanoi",
          "Mumbai",
          "Milan",
          "Hanoi",
          "Hanoi",
          "Hanoi",
          "Stockholm",
          "Hanoi",
          "Milan",
          "Hanoi",
          "Milan",
          "Hanoi",
          "Mumbai",
          "Milan",
          "Stockholm",
          "Milan",
          "Milan",
          "Mumbai",
          "Mumbai",
          "Milan",
          "Mumbai",
          "Stockholm",
          "Stockholm",
          "Hanoi",
          "Mumbai",
          "Mumbai",
          "Hanoi",
          "Mumbai",
          "Hanoi",
          "Hanoi",
          "Stockholm",
          "Stockholm",
          "Hanoi",
          "Milan",
          "Milan",
          "Mumbai",
          "Stockholm",
          "Hanoi",
          "Mumbai",
          "Stockholm",
          "Mumbai",
          "Milan",
          "Milan",
          "Hanoi",
          "Stockholm",
          "Milan",
          "Mumbai",
          "Hanoi",
          "Mumbai",
          "Milan",
          "Mumbai",
          "Hanoi",
          "Hanoi",
          "Hanoi",
          "Hanoi",
          "Hanoi",
          "Milan",
          "Stockholm",
          "Milan",
          "Mumbai",
          "Milan",
          "Milan",
          "Stockholm",
          "Hanoi",
          "Hanoi",
          "Hanoi",
          "Hanoi",
          "Hanoi",
          "Milan",
          "Hanoi",
          "Hanoi",
          "Stockholm",
          "Stockholm",
          "Stockholm",
          "Stockholm",
          "Hanoi",
          "Hanoi",
          "Stockholm",
          "Hanoi",
          "Milan",
          "Mumbai",
          "Milan",
          "Stockholm",
          "Mumbai",
          "Hanoi",
          "Mumbai",
          "Stockholm",
          "Mumbai",
          "Milan",
          "Stockholm",
          "Hanoi",
          "Mumbai",
          "Milan",
          "Stockholm",
          "Stockholm",
          "Milan",
          "Hanoi",
          "Mumbai",
          "Hanoi",
          "Mumbai",
          "Mumbai",
          "Stockholm",
          "Hanoi",
          "Mumbai",
          "Hanoi",
          "Stockholm",
          "Mumbai",
          "Milan",
          "Milan",
          "Hanoi",
          "Mumbai",
          "Hanoi",
          "Milan",
          "Hanoi",
          "Milan",
          "Stockholm",
          "Hanoi",
          "Stockholm",
          "Stockholm"
         ],
         "type": "scattergeo"
        },
        {
         "lat": {
          "bdata": "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",
          "dtype": "f8"
         },
         "locationmode": "country names",
         "lon": {
          "bdata": "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",
          "dtype": "f8"
         },
         "marker": {
          "color": "lightcoral",
          "size": 8,
          "symbol": "diamond"
         },
         "mode": "markers",
         "name": "Destination",
         "text": [
          "Shanghai",
          "Krakow",
          "Krakow",
          "Munich",
          "Munich",
          "Munich",
          "Shanghai",
          "Krakow",
          "Shanghai",
          "Shanghai",
          "Krakow",
          "Shanghai",
          "Chicago",
          "Chicago",
          "Krakow",
          "Chicago",
          "Munich",
          "Shanghai",
          "Krakow",
          "Munich",
          "Munich",
          "Krakow",
          "Krakow",
          "Munich",
          "Chicago",
          "Chicago",
          "Krakow",
          "Munich",
          "Krakow",
          "Shanghai",
          "Shanghai",
          "Krakow",
          "Munich",
          "Chicago",
          "Shanghai",
          "Munich",
          "Munich",
          "Krakow",
          "Shanghai",
          "Munich",
          "Shanghai",
          "Shanghai",
          "Munich",
          "Shanghai",
          "Krakow",
          "Chicago",
          "Shanghai",
          "Shanghai",
          "Chicago",
          "Shanghai",
          "Chicago",
          "Shanghai",
          "Chicago",
          "Krakow",
          "Krakow",
          "Shanghai",
          "Shanghai",
          "Munich",
          "Shanghai",
          "Munich",
          "Munich",
          "Chicago",
          "Munich",
          "Chicago",
          "Munich",
          "Krakow",
          "Chicago",
          "Munich",
          "Krakow",
          "Krakow",
          "Chicago",
          "Shanghai",
          "Krakow",
          "Shanghai",
          "Chicago",
          "Shanghai",
          "Shanghai",
          "Krakow",
          "Krakow",
          "Munich",
          "Shanghai",
          "Munich",
          "Chicago",
          "Munich",
          "Munich",
          "Munich",
          "Shanghai",
          "Shanghai",
          "Chicago",
          "Munich",
          "Shanghai",
          "Chicago",
          "Shanghai",
          "Shanghai",
          "Munich",
          "Krakow",
          "Shanghai",
          "Munich",
          "Krakow",
          "Munich",
          "Munich",
          "Shanghai",
          "Munich",
          "Munich",
          "Munich",
          "Shanghai",
          "Chicago",
          "Shanghai",
          "Chicago",
          "Krakow",
          "Chicago",
          "Shanghai",
          "Munich",
          "Munich",
          "Munich",
          "Krakow",
          "Munich",
          "Shanghai",
          "Chicago",
          "Shanghai",
          "Chicago",
          "Munich",
          "Chicago",
          "Munich",
          "Chicago",
          "Shanghai",
          "Chicago",
          "Chicago",
          "Munich",
          "Chicago",
          "Krakow",
          "Chicago",
          "Chicago",
          "Shanghai",
          "Shanghai",
          "Munich",
          "Munich",
          "Chicago",
          "Munich",
          "Chicago",
          "Shanghai",
          "Chicago",
          "Shanghai",
          "Shanghai",
          "Shanghai",
          "Munich",
          "Chicago",
          "Shanghai",
          "Krakow",
          "Chicago",
          "Shanghai",
          "Chicago",
          "Krakow",
          "Munich",
          "Krakow",
          "Munich",
          "Chicago",
          "Krakow",
          "Krakow",
          "Chicago",
          "Chicago",
          "Chicago",
          "Shanghai",
          "Munich",
          "Munich",
          "Chicago",
          "Munich",
          "Shanghai",
          "Shanghai",
          "Krakow",
          "Munich",
          "Shanghai",
          "Chicago",
          "Krakow",
          "Chicago",
          "Chicago",
          "Krakow",
          "Krakow",
          "Chicago",
          "Chicago",
          "Krakow",
          "Shanghai",
          "Chicago",
          "Munich",
          "Krakow",
          "Chicago",
          "Shanghai",
          "Chicago",
          "Krakow",
          "Chicago",
          "Shanghai",
          "Munich",
          "Shanghai",
          "Munich",
          "Krakow",
          "Chicago",
          "Krakow",
          "Krakow",
          "Munich",
          "Krakow",
          "Shanghai",
          "Krakow",
          "Shanghai",
          "Shanghai",
          "Chicago",
          "Shanghai",
          "Krakow",
          "Chicago",
          "Krakow",
          "Chicago",
          "Krakow",
          "Krakow",
          "Chicago",
          "Chicago",
          "Chicago",
          "Shanghai",
          "Munich",
          "Krakow",
          "Shanghai",
          "Krakow",
          "Krakow",
          "Krakow",
          "Krakow",
          "Chicago",
          "Chicago",
          "Krakow",
          "Munich",
          "Munich",
          "Munich",
          "Chicago",
          "Munich",
          "Chicago",
          "Chicago",
          "Krakow",
          "Chicago",
          "Chicago",
          "Munich",
          "Munich",
          "Krakow",
          "Krakow",
          "Munich",
          "Munich",
          "Chicago",
          "Chicago",
          "Krakow",
          "Shanghai",
          "Munich",
          "Chicago",
          "Krakow",
          "Krakow",
          "Munich",
          "Chicago",
          "Krakow",
          "Munich",
          "Krakow",
          "Chicago",
          "Shanghai",
          "Chicago",
          "Munich",
          "Krakow",
          "Krakow",
          "Shanghai",
          "Krakow",
          "Krakow",
          "Munich",
          "Shanghai",
          "Chicago",
          "Shanghai",
          "Shanghai",
          "Munich",
          "Munich",
          "Munich",
          "Chicago",
          "Shanghai",
          "Chicago",
          "Chicago",
          "Shanghai",
          "Shanghai",
          "Chicago",
          "Krakow",
          "Krakow",
          "Munich",
          "Munich",
          "Munich",
          "Chicago",
          "Krakow",
          "Munich",
          "Chicago",
          "Krakow",
          "Shanghai",
          "Shanghai",
          "Munich",
          "Munich",
          "Chicago",
          "Chicago",
          "Chicago",
          "Shanghai",
          "Krakow",
          "Krakow",
          "Shanghai",
          "Munich",
          "Munich",
          "Shanghai",
          "Munich",
          "Munich",
          "Krakow",
          "Shanghai",
          "Shanghai",
          "Krakow",
          "Munich",
          "Shanghai",
          "Shanghai",
          "Chicago",
          "Shanghai",
          "Munich",
          "Shanghai",
          "Chicago",
          "Munich",
          "Chicago",
          "Krakow",
          "Chicago",
          "Munich",
          "Shanghai",
          "Chicago",
          "Munich",
          "Chicago",
          "Munich",
          "Krakow",
          "Shanghai",
          "Chicago",
          "Chicago",
          "Shanghai",
          "Shanghai",
          "Chicago",
          "Shanghai",
          "Chicago",
          "Munich",
          "Shanghai",
          "Shanghai",
          "Krakow",
          "Shanghai",
          "Munich",
          "Munich",
          "Munich",
          "Shanghai",
          "Chicago",
          "Chicago",
          "Chicago",
          "Krakow",
          "Shanghai",
          "Munich",
          "Krakow",
          "Shanghai",
          "Krakow",
          "Krakow",
          "Munich",
          "Chicago",
          "Chicago",
          "Chicago",
          "Chicago",
          "Krakow",
          "Krakow",
          "Krakow",
          "Chicago",
          "Munich",
          "Munich",
          "Munich",
          "Chicago",
          "Chicago",
          "Munich",
          "Munich",
          "Munich",
          "Shanghai",
          "Shanghai",
          "Krakow",
          "Munich",
          "Krakow",
          "Chicago",
          "Shanghai",
          "Chicago",
          "Munich",
          "Chicago",
          "Chicago",
          "Munich",
          "Krakow",
          "Chicago",
          "Chicago",
          "Shanghai",
          "Munich",
          "Munich",
          "Krakow",
          "Krakow",
          "Krakow",
          "Chicago",
          "Krakow",
          "Shanghai",
          "Chicago",
          "Chicago",
          "Shanghai",
          "Munich",
          "Munich",
          "Krakow",
          "Munich",
          "Munich",
          "Krakow",
          "Krakow",
          "Shanghai",
          "Shanghai",
          "Krakow",
          "Shanghai",
          "Munich",
          "Munich",
          "Krakow",
          "Krakow",
          "Chicago",
          "Krakow",
          "Krakow",
          "Shanghai",
          "Krakow",
          "Munich",
          "Munich",
          "Munich",
          "Shanghai",
          "Munich",
          "Munich",
          "Chicago",
          "Chicago",
          "Munich",
          "Munich",
          "Shanghai",
          "Chicago",
          "Krakow",
          "Shanghai",
          "Chicago",
          "Shanghai",
          "Chicago",
          "Shanghai",
          "Munich",
          "Krakow",
          "Chicago",
          "Krakow",
          "Shanghai",
          "Shanghai",
          "Munich",
          "Shanghai",
          "Krakow",
          "Chicago",
          "Munich",
          "Chicago",
          "Munich",
          "Krakow",
          "Munich",
          "Chicago",
          "Chicago",
          "Krakow",
          "Shanghai",
          "Chicago",
          "Chicago",
          "Shanghai",
          "Krakow",
          "Munich",
          "Chicago",
          "Krakow",
          "Munich",
          "Chicago",
          "Munich",
          "Krakow",
          "Munich",
          "Krakow",
          "Krakow",
          "Munich",
          "Chicago",
          "Munich",
          "Munich",
          "Krakow",
          "Shanghai",
          "Krakow",
          "Chicago",
          "Chicago",
          "Chicago",
          "Munich",
          "Shanghai",
          "Krakow",
          "Krakow",
          "Shanghai",
          "Munich",
          "Chicago",
          "Shanghai",
          "Chicago",
          "Munich",
          "Munich",
          "Chicago",
          "Munich",
          "Munich",
          "Munich",
          "Shanghai",
          "Krakow",
          "Chicago",
          "Munich",
          "Shanghai"
         ],
         "type": "scattergeo"
        },
        {
         "lat": [
          21.0285,
          31.2304
         ],
         "line": {
          "color": "gray",
          "width": 2
         },
         "locationmode": "country names",
         "lon": [
          105.8542,
          121.4737
         ],
         "mode": "lines",
         "name": "Hanoi → Shanghai",
         "type": "scattergeo"
        },
        {
         "lat": [
          45.4642,
          50.0647
         ],
         "line": {
          "color": "gray",
          "width": 2
         },
         "locationmode": "country names",
         "lon": [
          9.19,
          19.945
         ],
         "mode": "lines",
         "name": "Milan → Krakow",
         "type": "scattergeo"
        },
        {
         "lat": [
          45.4642,
          50.0647
         ],
         "line": {
          "color": "gray",
          "width": 2
         },
         "locationmode": "country names",
         "lon": [
          9.19,
          19.945
         ],
         "mode": "lines",
         "name": "Milan → Krakow",
         "type": "scattergeo"
        },
        {
         "lat": [
          21.0285,
          48.1351
         ],
         "line": {
          "color": "gray",
          "width": 2
         },
         "locationmode": "country names",
         "lon": [
          105.8542,
          11.582
         ],
         "mode": "lines",
         "name": "Hanoi → Munich",
         "type": "scattergeo"
        },
        {
         "lat": [
          45.4642,
          48.1351
         ],
         "line": {
          "color": "gray",
          "width": 2
         },
         "locationmode": "country names",
         "lon": [
          9.19,
          11.582
         ],
         "mode": "lines",
         "name": "Milan → Munich",
         "type": "scattergeo"
        },
        {
         "lat": [
          21.0285,
          48.1351
         ],
         "line": {
          "color": "gray",
          "width": 2
         },
         "locationmode": "country names",
         "lon": [
          105.8542,
          11.582
         ],
         "mode": "lines",
         "name": "Hanoi → Munich",
         "type": "scattergeo"
        },
        {
         "lat": [
          19.076,
          31.2304
         ],
         "line": {
          "color": "gray",
          "width": 2
         },
         "locationmode": "country names",
         "lon": [
          72.8777,
          121.4737
         ],
         "mode": "lines",
         "name": "Mumbai → Shanghai",
         "type": "scattergeo"
        },
        {
         "lat": [
          21.0285,
          50.0647
         ],
         "line": {
          "color": "gray",
          "width": 2
         },
         "locationmode": "country names",
         "lon": [
          105.8542,
          19.945
         ],
         "mode": "lines",
         "name": "Hanoi → Krakow",
         "type": "scattergeo"
        },
        {
         "lat": [
          21.0285,
          31.2304
         ],
         "line": {
          "color": "gray",
          "width": 2
         },
         "locationmode": "country names",
         "lon": [
          105.8542,
          121.4737
         ],
         "mode": "lines",
         "name": "Hanoi → Shanghai",
         "type": "scattergeo"
        },
        {
         "lat": [
          45.4642,
          31.2304
         ],
         "line": {
          "color": "gray",
          "width": 2
         },
         "locationmode": "country names",
         "lon": [
          9.19,
          121.4737
         ],
         "mode": "lines",
         "name": "Milan → Shanghai",
         "type": "scattergeo"
        },
        {
         "lat": [
          21.0285,
          50.0647
         ],
         "line": {
          "color": "gray",
          "width": 2
         },
         "locationmode": "country names",
         "lon": [
          105.8542,
          19.945
         ],
         "mode": "lines",
         "name": "Hanoi → Krakow",
         "type": "scattergeo"
        },
        {
         "lat": [
          19.076,
          31.2304
         ],
         "line": {
          "color": "gray",
          "width": 2
         },
         "locationmode": "country names",
         "lon": [
          72.8777,
          121.4737
         ],
         "mode": "lines",
         "name": "Mumbai → Shanghai",
         "type": "scattergeo"
        },
        {
         "lat": [
          59.3293,
          41.8781
         ],
         "line": {
          "color": "gray",
          "width": 2
         },
         "locationmode": "country names",
         "lon": [
          18.0686,
          -87.6298
         ],
         "mode": "lines",
         "name": "Stockholm → Chicago",
         "type": "scattergeo"
        },
        {
         "lat": [
          21.0285,
          41.8781
         ],
         "line": {
          "color": "gray",
          "width": 2
         },
         "locationmode": "country names",
         "lon": [
          105.8542,
          -87.6298
         ],
         "mode": "lines",
         "name": "Hanoi → Chicago",
         "type": "scattergeo"
        },
        {
         "lat": [
          59.3293,
          50.0647
         ],
         "line": {
          "color": "gray",
          "width": 2
         },
         "locationmode": "country names",
         "lon": [
          18.0686,
          19.945
         ],
         "mode": "lines",
         "name": "Stockholm → Krakow",
         "type": "scattergeo"
        },
        {
         "lat": [
          21.0285,
          41.8781
         ],
         "line": {
          "color": "gray",
          "width": 2
         },
         "locationmode": "country names",
         "lon": [
          105.8542,
          -87.6298
         ],
         "mode": "lines",
         "name": "Hanoi → Chicago",
         "type": "scattergeo"
        },
        {
         "lat": [
          59.3293,
          48.1351
         ],
         "line": {
          "color": "gray",
          "width": 2
         },
         "locationmode": "country names",
         "lon": [
          18.0686,
          11.582
         ],
         "mode": "lines",
         "name": "Stockholm → Munich",
         "type": "scattergeo"
        },
        {
         "lat": [
          21.0285,
          31.2304
         ],
         "line": {
          "color": "gray",
          "width": 2
         },
         "locationmode": "country names",
         "lon": [
          105.8542,
          121.4737
         ],
         "mode": "lines",
         "name": "Hanoi → Shanghai",
         "type": "scattergeo"
        },
        {
         "lat": [
          59.3293,
          50.0647
         ],
         "line": {
          "color": "gray",
          "width": 2
         },
         "locationmode": "country names",
         "lon": [
          18.0686,
          19.945
         ],
         "mode": "lines",
         "name": "Stockholm → Krakow",
         "type": "scattergeo"
        },
        {
         "lat": [
          45.4642,
          48.1351
         ],
         "line": {
          "color": "gray",
          "width": 2
         },
         "locationmode": "country names",
         "lon": [
          9.19,
          11.582
         ],
         "mode": "lines",
         "name": "Milan → Munich",
         "type": "scattergeo"
        },
        {
         "lat": [
          21.0285,
          48.1351
         ],
         "line": {
          "color": "gray",
          "width": 2
         },
         "locationmode": "country names",
         "lon": [
          105.8542,
          11.582
         ],
         "mode": "lines",
         "name": "Hanoi → Munich",
         "type": "scattergeo"
        },
        {
         "lat": [
          19.076,
          50.0647
         ],
         "line": {
          "color": "gray",
          "width": 2
         },
         "locationmode": "country names",
         "lon": [
          72.8777,
          19.945
         ],
         "mode": "lines",
         "name": "Mumbai → Krakow",
         "type": "scattergeo"
        },
        {
         "lat": [
          19.076,
          50.0647
         ],
         "line": {
          "color": "gray",
          "width": 2
         },
         "locationmode": "country names",
         "lon": [
          72.8777,
          19.945
         ],
         "mode": "lines",
         "name": "Mumbai → Krakow",
         "type": "scattergeo"
        },
        {
         "lat": [
          45.4642,
          48.1351
         ],
         "line": {
          "color": "gray",
          "width": 2
         },
         "locationmode": "country names",
         "lon": [
          9.19,
          11.582
         ],
         "mode": "lines",
         "name": "Milan → Munich",
         "type": "scattergeo"
        },
        {
         "lat": [
          59.3293,
          41.8781
         ],
         "line": {
          "color": "gray",
          "width": 2
         },
         "locationmode": "country names",
         "lon": [
          18.0686,
          -87.6298
         ],
         "mode": "lines",
         "name": "Stockholm → Chicago",
         "type": "scattergeo"
        },
        {
         "lat": [
          59.3293,
          41.8781
         ],
         "line": {
          "color": "gray",
          "width": 2
         },
         "locationmode": "country names",
         "lon": [
          18.0686,
          -87.6298
         ],
         "mode": "lines",
         "name": "Stockholm → Chicago",
         "type": "scattergeo"
        },
        {
         "lat": [
          21.0285,
          50.0647
         ],
         "line": {
          "color": "gray",
          "width": 2
         },
         "locationmode": "country names",
         "lon": [
          105.8542,
          19.945
         ],
         "mode": "lines",
         "name": "Hanoi → Krakow",
         "type": "scattergeo"
        },
        {
         "lat": [
          59.3293,
          48.1351
         ],
         "line": {
          "color": "gray",
          "width": 2
         },
         "locationmode": "country names",
         "lon": [
          18.0686,
          11.582
         ],
         "mode": "lines",
         "name": "Stockholm → Munich",
         "type": "scattergeo"
        },
        {
         "lat": [
          59.3293,
          50.0647
         ],
         "line": {
          "color": "gray",
          "width": 2
         },
         "locationmode": "country names",
         "lon": [
          18.0686,
          19.945
         ],
         "mode": "lines",
         "name": "Stockholm → Krakow",
         "type": "scattergeo"
        },
        {
         "lat": [
          59.3293,
          31.2304
         ],
         "line": {
          "color": "gray",
          "width": 2
         },
         "locationmode": "country names",
         "lon": [
          18.0686,
          121.4737
         ],
         "mode": "lines",
         "name": "Stockholm → Shanghai",
         "type": "scattergeo"
        },
        {
         "lat": [
          19.076,
          31.2304
         ],
         "line": {
          "color": "gray",
          "width": 2
         },
         "locationmode": "country names",
         "lon": [
          72.8777,
          121.4737
         ],
         "mode": "lines",
         "name": "Mumbai → Shanghai",
         "type": "scattergeo"
        },
        {
         "lat": [
          45.4642,
          50.0647
         ],
         "line": {
          "color": "gray",
          "width": 2
         },
         "locationmode": "country names",
         "lon": [
          9.19,
          19.945
         ],
         "mode": "lines",
         "name": "Milan → Krakow",
         "type": "scattergeo"
        },
        {
         "lat": [
          59.3293,
          48.1351
         ],
         "line": {
          "color": "gray",
          "width": 2
         },
         "locationmode": "country names",
         "lon": [
          18.0686,
          11.582
         ],
         "mode": "lines",
         "name": "Stockholm → Munich",
         "type": "scattergeo"
        },
        {
         "lat": [
          21.0285,
          41.8781
         ],
         "line": {
          "color": "gray",
          "width": 2
         },
         "locationmode": "country names",
         "lon": [
          105.8542,
          -87.6298
         ],
         "mode": "lines",
         "name": "Hanoi → Chicago",
         "type": "scattergeo"
        },
        {
         "lat": [
          19.076,
          31.2304
         ],
         "line": {
          "color": "gray",
          "width": 2
         },
         "locationmode": "country names",
         "lon": [
          72.8777,
          121.4737
         ],
         "mode": "lines",
         "name": "Mumbai → Shanghai",
         "type": "scattergeo"
        },
        {
         "lat": [
          45.4642,
          48.1351
         ],
         "line": {
          "color": "gray",
          "width": 2
         },
         "locationmode": "country names",
         "lon": [
          9.19,
          11.582
         ],
         "mode": "lines",
         "name": "Milan → Munich",
         "type": "scattergeo"
        },
        {
         "lat": [
          21.0285,
          48.1351
         ],
         "line": {
          "color": "gray",
          "width": 2
         },
         "locationmode": "country names",
         "lon": [
          105.8542,
          11.582
         ],
         "mode": "lines",
         "name": "Hanoi → Munich",
         "type": "scattergeo"
        },
        {
         "lat": [
          21.0285,
          50.0647
         ],
         "line": {
          "color": "gray",
          "width": 2
         },
         "locationmode": "country names",
         "lon": [
          105.8542,
          19.945
         ],
         "mode": "lines",
         "name": "Hanoi → Krakow",
         "type": "scattergeo"
        },
        {
         "lat": [
          19.076,
          31.2304
         ],
         "line": {
          "color": "gray",
          "width": 2
         },
         "locationmode": "country names",
         "lon": [
          72.8777,
          121.4737
         ],
         "mode": "lines",
         "name": "Mumbai → Shanghai",
         "type": "scattergeo"
        },
        {
         "lat": [
          59.3293,
          48.1351
         ],
         "line": {
          "color": "gray",
          "width": 2
         },
         "locationmode": "country names",
         "lon": [
          18.0686,
          11.582
         ],
         "mode": "lines",
         "name": "Stockholm → Munich",
         "type": "scattergeo"
        },
        {
         "lat": [
          21.0285,
          31.2304
         ],
         "line": {
          "color": "gray",
          "width": 2
         },
         "locationmode": "country names",
         "lon": [
          105.8542,
          121.4737
         ],
         "mode": "lines",
         "name": "Hanoi → Shanghai",
         "type": "scattergeo"
        },
        {
         "lat": [
          59.3293,
          31.2304
         ],
         "line": {
          "color": "gray",
          "width": 2
         },
         "locationmode": "country names",
         "lon": [
          18.0686,
          121.4737
         ],
         "mode": "lines",
         "name": "Stockholm → Shanghai",
         "type": "scattergeo"
        },
        {
         "lat": [
          45.4642,
          48.1351
         ],
         "line": {
          "color": "gray",
          "width": 2
         },
         "locationmode": "country names",
         "lon": [
          9.19,
          11.582
         ],
         "mode": "lines",
         "name": "Milan → Munich",
         "type": "scattergeo"
        },
        {
         "lat": [
          19.076,
          31.2304
         ],
         "line": {
          "color": "gray",
          "width": 2
         },
         "locationmode": "country names",
         "lon": [
          72.8777,
          121.4737
         ],
         "mode": "lines",
         "name": "Mumbai → Shanghai",
         "type": "scattergeo"
        },
        {
         "lat": [
          45.4642,
          50.0647
         ],
         "line": {
          "color": "gray",
          "width": 2
         },
         "locationmode": "country names",
         "lon": [
          9.19,
          19.945
         ],
         "mode": "lines",
         "name": "Milan → Krakow",
         "type": "scattergeo"
        },
        {
         "lat": [
          21.0285,
          41.8781
         ],
         "line": {
          "color": "gray",
          "width": 2
         },
         "locationmode": "country names",
         "lon": [
          105.8542,
          -87.6298
         ],
         "mode": "lines",
         "name": "Hanoi → Chicago",
         "type": "scattergeo"
        },
        {
         "lat": [
          45.4642,
          31.2304
         ],
         "line": {
          "color": "gray",
          "width": 2
         },
         "locationmode": "country names",
         "lon": [
          9.19,
          121.4737
         ],
         "mode": "lines",
         "name": "Milan → Shanghai",
         "type": "scattergeo"
        },
        {
         "lat": [
          45.4642,
          31.2304
         ],
         "line": {
          "color": "gray",
          "width": 2
         },
         "locationmode": "country names",
         "lon": [
          9.19,
          121.4737
         ],
         "mode": "lines",
         "name": "Milan → Shanghai",
         "type": "scattergeo"
        },
        {
         "lat": [
          59.3293,
          41.8781
         ],
         "line": {
          "color": "gray",
          "width": 2
         },
         "locationmode": "country names",
         "lon": [
          18.0686,
          -87.6298
         ],
         "mode": "lines",
         "name": "Stockholm → Chicago",
         "type": "scattergeo"
        },
        {
         "lat": [
          19.076,
          31.2304
         ],
         "line": {
          "color": "gray",
          "width": 2
         },
         "locationmode": "country names",
         "lon": [
          72.8777,
          121.4737
         ],
         "mode": "lines",
         "name": "Mumbai → Shanghai",
         "type": "scattergeo"
        },
        {
         "lat": [
          45.4642,
          41.8781
         ],
         "line": {
          "color": "gray",
          "width": 2
         },
         "locationmode": "country names",
         "lon": [
          9.19,
          -87.6298
         ],
         "mode": "lines",
         "name": "Milan → Chicago",
         "type": "scattergeo"
        },
        {
         "lat": [
          59.3293,
          31.2304
         ],
         "line": {
          "color": "gray",
          "width": 2
         },
         "locationmode": "country names",
         "lon": [
          18.0686,
          121.4737
         ],
         "mode": "lines",
         "name": "Stockholm → Shanghai",
         "type": "scattergeo"
        },
        {
         "lat": [
          45.4642,
          41.8781
         ],
         "line": {
          "color": "gray",
          "width": 2
         },
         "locationmode": "country names",
         "lon": [
          9.19,
          -87.6298
         ],
         "mode": "lines",
         "name": "Milan → Chicago",
         "type": "scattergeo"
        },
        {
         "lat": [
          59.3293,
          50.0647
         ],
         "line": {
          "color": "gray",
          "width": 2
         },
         "locationmode": "country names",
         "lon": [
          18.0686,
          19.945
         ],
         "mode": "lines",
         "name": "Stockholm → Krakow",
         "type": "scattergeo"
        },
        {
         "lat": [
          45.4642,
          50.0647
         ],
         "line": {
          "color": "gray",
          "width": 2
         },
         "locationmode": "country names",
         "lon": [
          9.19,
          19.945
         ],
         "mode": "lines",
         "name": "Milan → Krakow",
         "type": "scattergeo"
        },
        {
         "lat": [
          59.3293,
          31.2304
         ],
         "line": {
          "color": "gray",
          "width": 2
         },
         "locationmode": "country names",
         "lon": [
          18.0686,
          121.4737
         ],
         "mode": "lines",
         "name": "Stockholm → Shanghai",
         "type": "scattergeo"
        },
        {
         "lat": [
          21.0285,
          31.2304
         ],
         "line": {
          "color": "gray",
          "width": 2
         },
         "locationmode": "country names",
         "lon": [
          105.8542,
          121.4737
         ],
         "mode": "lines",
         "name": "Hanoi → Shanghai",
         "type": "scattergeo"
        },
        {
         "lat": [
          21.0285,
          48.1351
         ],
         "line": {
          "color": "gray",
          "width": 2
         },
         "locationmode": "country names",
         "lon": [
          105.8542,
          11.582
         ],
         "mode": "lines",
         "name": "Hanoi → Munich",
         "type": "scattergeo"
        },
        {
         "lat": [
          59.3293,
          31.2304
         ],
         "line": {
          "color": "gray",
          "width": 2
         },
         "locationmode": "country names",
         "lon": [
          18.0686,
          121.4737
         ],
         "mode": "lines",
         "name": "Stockholm → Shanghai",
         "type": "scattergeo"
        },
        {
         "lat": [
          45.4642,
          48.1351
         ],
         "line": {
          "color": "gray",
          "width": 2
         },
         "locationmode": "country names",
         "lon": [
          9.19,
          11.582
         ],
         "mode": "lines",
         "name": "Milan → Munich",
         "type": "scattergeo"
        },
        {
         "lat": [
          59.3293,
          48.1351
         ],
         "line": {
          "color": "gray",
          "width": 2
         },
         "locationmode": "country names",
         "lon": [
          18.0686,
          11.582
         ],
         "mode": "lines",
         "name": "Stockholm → Munich",
         "type": "scattergeo"
        },
        {
         "lat": [
          21.0285,
          41.8781
         ],
         "line": {
          "color": "gray",
          "width": 2
         },
         "locationmode": "country names",
         "lon": [
          105.8542,
          -87.6298
         ],
         "mode": "lines",
         "name": "Hanoi → Chicago",
         "type": "scattergeo"
        },
        {
         "lat": [
          19.076,
          48.1351
         ],
         "line": {
          "color": "gray",
          "width": 2
         },
         "locationmode": "country names",
         "lon": [
          72.8777,
          11.582
         ],
         "mode": "lines",
         "name": "Mumbai → Munich",
         "type": "scattergeo"
        },
        {
         "lat": [
          21.0285,
          41.8781
         ],
         "line": {
          "color": "gray",
          "width": 2
         },
         "locationmode": "country names",
         "lon": [
          105.8542,
          -87.6298
         ],
         "mode": "lines",
         "name": "Hanoi → Chicago",
         "type": "scattergeo"
        },
        {
         "lat": [
          21.0285,
          48.1351
         ],
         "line": {
          "color": "gray",
          "width": 2
         },
         "locationmode": "country names",
         "lon": [
          105.8542,
          11.582
         ],
         "mode": "lines",
         "name": "Hanoi → Munich",
         "type": "scattergeo"
        },
        {
         "lat": [
          45.4642,
          50.0647
         ],
         "line": {
          "color": "gray",
          "width": 2
         },
         "locationmode": "country names",
         "lon": [
          9.19,
          19.945
         ],
         "mode": "lines",
         "name": "Milan → Krakow",
         "type": "scattergeo"
        },
        {
         "lat": [
          59.3293,
          41.8781
         ],
         "line": {
          "color": "gray",
          "width": 2
         },
         "locationmode": "country names",
         "lon": [
          18.0686,
          -87.6298
         ],
         "mode": "lines",
         "name": "Stockholm → Chicago",
         "type": "scattergeo"
        },
        {
         "lat": [
          59.3293,
          48.1351
         ],
         "line": {
          "color": "gray",
          "width": 2
         },
         "locationmode": "country names",
         "lon": [
          18.0686,
          11.582
         ],
         "mode": "lines",
         "name": "Stockholm → Munich",
         "type": "scattergeo"
        },
        {
         "lat": [
          21.0285,
          50.0647
         ],
         "line": {
          "color": "gray",
          "width": 2
         },
         "locationmode": "country names",
         "lon": [
          105.8542,
          19.945
         ],
         "mode": "lines",
         "name": "Hanoi → Krakow",
         "type": "scattergeo"
        },
        {
         "lat": [
          19.076,
          50.0647
         ],
         "line": {
          "color": "gray",
          "width": 2
         },
         "locationmode": "country names",
         "lon": [
          72.8777,
          19.945
         ],
         "mode": "lines",
         "name": "Mumbai → Krakow",
         "type": "scattergeo"
        },
        {
         "lat": [
          19.076,
          41.8781
         ],
         "line": {
          "color": "gray",
          "width": 2
         },
         "locationmode": "country names",
         "lon": [
          72.8777,
          -87.6298
         ],
         "mode": "lines",
         "name": "Mumbai → Chicago",
         "type": "scattergeo"
        },
        {
         "lat": [
          59.3293,
          31.2304
         ],
         "line": {
          "color": "gray",
          "width": 2
         },
         "locationmode": "country names",
         "lon": [
          18.0686,
          121.4737
         ],
         "mode": "lines",
         "name": "Stockholm → Shanghai",
         "type": "scattergeo"
        },
        {
         "lat": [
          45.4642,
          50.0647
         ],
         "line": {
          "color": "gray",
          "width": 2
         },
         "locationmode": "country names",
         "lon": [
          9.19,
          19.945
         ],
         "mode": "lines",
         "name": "Milan → Krakow",
         "type": "scattergeo"
        },
        {
         "lat": [
          19.076,
          31.2304
         ],
         "line": {
          "color": "gray",
          "width": 2
         },
         "locationmode": "country names",
         "lon": [
          72.8777,
          121.4737
         ],
         "mode": "lines",
         "name": "Mumbai → Shanghai",
         "type": "scattergeo"
        },
        {
         "lat": [
          21.0285,
          41.8781
         ],
         "line": {
          "color": "gray",
          "width": 2
         },
         "locationmode": "country names",
         "lon": [
          105.8542,
          -87.6298
         ],
         "mode": "lines",
         "name": "Hanoi → Chicago",
         "type": "scattergeo"
        },
        {
         "lat": [
          19.076,
          31.2304
         ],
         "line": {
          "color": "gray",
          "width": 2
         },
         "locationmode": "country names",
         "lon": [
          72.8777,
          121.4737
         ],
         "mode": "lines",
         "name": "Mumbai → Shanghai",
         "type": "scattergeo"
        },
        {
         "lat": [
          21.0285,
          31.2304
         ],
         "line": {
          "color": "gray",
          "width": 2
         },
         "locationmode": "country names",
         "lon": [
          105.8542,
          121.4737
         ],
         "mode": "lines",
         "name": "Hanoi → Shanghai",
         "type": "scattergeo"
        },
        {
         "lat": [
          45.4642,
          50.0647
         ],
         "line": {
          "color": "gray",
          "width": 2
         },
         "locationmode": "country names",
         "lon": [
          9.19,
          19.945
         ],
         "mode": "lines",
         "name": "Milan → Krakow",
         "type": "scattergeo"
        },
        {
         "lat": [
          59.3293,
          50.0647
         ],
         "line": {
          "color": "gray",
          "width": 2
         },
         "locationmode": "country names",
         "lon": [
          18.0686,
          19.945
         ],
         "mode": "lines",
         "name": "Stockholm → Krakow",
         "type": "scattergeo"
        },
        {
         "lat": [
          45.4642,
          48.1351
         ],
         "line": {
          "color": "gray",
          "width": 2
         },
         "locationmode": "country names",
         "lon": [
          9.19,
          11.582
         ],
         "mode": "lines",
         "name": "Milan → Munich",
         "type": "scattergeo"
        },
        {
         "lat": [
          59.3293,
          31.2304
         ],
         "line": {
          "color": "gray",
          "width": 2
         },
         "locationmode": "country names",
         "lon": [
          18.0686,
          121.4737
         ],
         "mode": "lines",
         "name": "Stockholm → Shanghai",
         "type": "scattergeo"
        },
        {
         "lat": [
          45.4642,
          48.1351
         ],
         "line": {
          "color": "gray",
          "width": 2
         },
         "locationmode": "country names",
         "lon": [
          9.19,
          11.582
         ],
         "mode": "lines",
         "name": "Milan → Munich",
         "type": "scattergeo"
        },
        {
         "lat": [
          19.076,
          41.8781
         ],
         "line": {
          "color": "gray",
          "width": 2
         },
         "locationmode": "country names",
         "lon": [
          72.8777,
          -87.6298
         ],
         "mode": "lines",
         "name": "Mumbai → Chicago",
         "type": "scattergeo"
        },
        {
         "lat": [
          59.3293,
          48.1351
         ],
         "line": {
          "color": "gray",
          "width": 2
         },
         "locationmode": "country names",
         "lon": [
          18.0686,
          11.582
         ],
         "mode": "lines",
         "name": "Stockholm → Munich",
         "type": "scattergeo"
        },
        {
         "lat": [
          45.4642,
          48.1351
         ],
         "line": {
          "color": "gray",
          "width": 2
         },
         "locationmode": "country names",
         "lon": [
          9.19,
          11.582
         ],
         "mode": "lines",
         "name": "Milan → Munich",
         "type": "scattergeo"
        },
        {
         "lat": [
          45.4642,
          48.1351
         ],
         "line": {
          "color": "gray",
          "width": 2
         },
         "locationmode": "country names",
         "lon": [
          9.19,
          11.582
         ],
         "mode": "lines",
         "name": "Milan → Munich",
         "type": "scattergeo"
        },
        {
         "lat": [
          19.076,
          31.2304
         ],
         "line": {
          "color": "gray",
          "width": 2
         },
         "locationmode": "country names",
         "lon": [
          72.8777,
          121.4737
         ],
         "mode": "lines",
         "name": "Mumbai → Shanghai",
         "type": "scattergeo"
        },
        {
         "lat": [
          19.076,
          31.2304
         ],
         "line": {
          "color": "gray",
          "width": 2
         },
         "locationmode": "country names",
         "lon": [
          72.8777,
          121.4737
         ],
         "mode": "lines",
         "name": "Mumbai → Shanghai",
         "type": "scattergeo"
        },
        {
         "lat": [
          59.3293,
          41.8781
         ],
         "line": {
          "color": "gray",
          "width": 2
         },
         "locationmode": "country names",
         "lon": [
          18.0686,
          -87.6298
         ],
         "mode": "lines",
         "name": "Stockholm → Chicago",
         "type": "scattergeo"
        },
        {
         "lat": [
          45.4642,
          48.1351
         ],
         "line": {
          "color": "gray",
          "width": 2
         },
         "locationmode": "country names",
         "lon": [
          9.19,
          11.582
         ],
         "mode": "lines",
         "name": "Milan → Munich",
         "type": "scattergeo"
        },
        {
         "lat": [
          45.4642,
          31.2304
         ],
         "line": {
          "color": "gray",
          "width": 2
         },
         "locationmode": "country names",
         "lon": [
          9.19,
          121.4737
         ],
         "mode": "lines",
         "name": "Milan → Shanghai",
         "type": "scattergeo"
        },
        {
         "lat": [
          21.0285,
          41.8781
         ],
         "line": {
          "color": "gray",
          "width": 2
         },
         "locationmode": "country names",
         "lon": [
          105.8542,
          -87.6298
         ],
         "mode": "lines",
         "name": "Hanoi → Chicago",
         "type": "scattergeo"
        },
        {
         "lat": [
          19.076,
          31.2304
         ],
         "line": {
          "color": "gray",
          "width": 2
         },
         "locationmode": "country names",
         "lon": [
          72.8777,
          121.4737
         ],
         "mode": "lines",
         "name": "Mumbai → Shanghai",
         "type": "scattergeo"
        },
        {
         "lat": [
          19.076,
          31.2304
         ],
         "line": {
          "color": "gray",
          "width": 2
         },
         "locationmode": "country names",
         "lon": [
          72.8777,
          121.4737
         ],
         "mode": "lines",
         "name": "Mumbai → Shanghai",
         "type": "scattergeo"
        },
        {
         "lat": [
          45.4642,
          48.1351
         ],
         "line": {
          "color": "gray",
          "width": 2
         },
         "locationmode": "country names",
         "lon": [
          9.19,
          11.582
         ],
         "mode": "lines",
         "name": "Milan → Munich",
         "type": "scattergeo"
        },
        {
         "lat": [
          59.3293,
          50.0647
         ],
         "line": {
          "color": "gray",
          "width": 2
         },
         "locationmode": "country names",
         "lon": [
          18.0686,
          19.945
         ],
         "mode": "lines",
         "name": "Stockholm → Krakow",
         "type": "scattergeo"
        },
        {
         "lat": [
          19.076,
          31.2304
         ],
         "line": {
          "color": "gray",
          "width": 2
         },
         "locationmode": "country names",
         "lon": [
          72.8777,
          121.4737
         ],
         "mode": "lines",
         "name": "Mumbai → Shanghai",
         "type": "scattergeo"
        },
        {
         "lat": [
          19.076,
          48.1351
         ],
         "line": {
          "color": "gray",
          "width": 2
         },
         "locationmode": "country names",
         "lon": [
          72.8777,
          11.582
         ],
         "mode": "lines",
         "name": "Mumbai → Munich",
         "type": "scattergeo"
        },
        {
         "lat": [
          45.4642,
          50.0647
         ],
         "line": {
          "color": "gray",
          "width": 2
         },
         "locationmode": "country names",
         "lon": [
          9.19,
          19.945
         ],
         "mode": "lines",
         "name": "Milan → Krakow",
         "type": "scattergeo"
        },
        {
         "lat": [
          21.0285,
          48.1351
         ],
         "line": {
          "color": "gray",
          "width": 2
         },
         "locationmode": "country names",
         "lon": [
          105.8542,
          11.582
         ],
         "mode": "lines",
         "name": "Hanoi → Munich",
         "type": "scattergeo"
        },
        {
         "lat": [
          19.076,
          48.1351
         ],
         "line": {
          "color": "gray",
          "width": 2
         },
         "locationmode": "country names",
         "lon": [
          72.8777,
          11.582
         ],
         "mode": "lines",
         "name": "Mumbai → Munich",
         "type": "scattergeo"
        },
        {
         "lat": [
          19.076,
          31.2304
         ],
         "line": {
          "color": "gray",
          "width": 2
         },
         "locationmode": "country names",
         "lon": [
          72.8777,
          121.4737
         ],
         "mode": "lines",
         "name": "Mumbai → Shanghai",
         "type": "scattergeo"
        },
        {
         "lat": [
          59.3293,
          48.1351
         ],
         "line": {
          "color": "gray",
          "width": 2
         },
         "locationmode": "country names",
         "lon": [
          18.0686,
          11.582
         ],
         "mode": "lines",
         "name": "Stockholm → Munich",
         "type": "scattergeo"
        },
        {
         "lat": [
          19.076,
          48.1351
         ],
         "line": {
          "color": "gray",
          "width": 2
         },
         "locationmode": "country names",
         "lon": [
          72.8777,
          11.582
         ],
         "mode": "lines",
         "name": "Mumbai → Munich",
         "type": "scattergeo"
        },
        {
         "lat": [
          45.4642,
          48.1351
         ],
         "line": {
          "color": "gray",
          "width": 2
         },
         "locationmode": "country names",
         "lon": [
          9.19,
          11.582
         ],
         "mode": "lines",
         "name": "Milan → Munich",
         "type": "scattergeo"
        },
        {
         "lat": [
          21.0285,
          31.2304
         ],
         "line": {
          "color": "gray",
          "width": 2
         },
         "locationmode": "country names",
         "lon": [
          105.8542,
          121.4737
         ],
         "mode": "lines",
         "name": "Hanoi → Shanghai",
         "type": "scattergeo"
        },
        {
         "lat": [
          45.4642,
          41.8781
         ],
         "line": {
          "color": "gray",
          "width": 2
         },
         "locationmode": "country names",
         "lon": [
          9.19,
          -87.6298
         ],
         "mode": "lines",
         "name": "Milan → Chicago",
         "type": "scattergeo"
        },
        {
         "lat": [
          19.076,
          31.2304
         ],
         "line": {
          "color": "gray",
          "width": 2
         },
         "locationmode": "country names",
         "lon": [
          72.8777,
          121.4737
         ],
         "mode": "lines",
         "name": "Mumbai → Shanghai",
         "type": "scattergeo"
        },
        {
         "lat": [
          45.4642,
          41.8781
         ],
         "line": {
          "color": "gray",
          "width": 2
         },
         "locationmode": "country names",
         "lon": [
          9.19,
          -87.6298
         ],
         "mode": "lines",
         "name": "Milan → Chicago",
         "type": "scattergeo"
        },
        {
         "lat": [
          45.4642,
          50.0647
         ],
         "line": {
          "color": "gray",
          "width": 2
         },
         "locationmode": "country names",
         "lon": [
          9.19,
          19.945
         ],
         "mode": "lines",
         "name": "Milan → Krakow",
         "type": "scattergeo"
        },
        {
         "lat": [
          19.076,
          41.8781
         ],
         "line": {
          "color": "gray",
          "width": 2
         },
         "locationmode": "country names",
         "lon": [
          72.8777,
          -87.6298
         ],
         "mode": "lines",
         "name": "Mumbai → Chicago",
         "type": "scattergeo"
        },
        {
         "lat": [
          59.3293,
          31.2304
         ],
         "line": {
          "color": "gray",
          "width": 2
         },
         "locationmode": "country names",
         "lon": [
          18.0686,
          121.4737
         ],
         "mode": "lines",
         "name": "Stockholm → Shanghai",
         "type": "scattergeo"
        },
        {
         "lat": [
          19.076,
          48.1351
         ],
         "line": {
          "color": "gray",
          "width": 2
         },
         "locationmode": "country names",
         "lon": [
          72.8777,
          11.582
         ],
         "mode": "lines",
         "name": "Mumbai → Munich",
         "type": "scattergeo"
        },
        {
         "lat": [
          19.076,
          48.1351
         ],
         "line": {
          "color": "gray",
          "width": 2
         },
         "locationmode": "country names",
         "lon": [
          72.8777,
          11.582
         ],
         "mode": "lines",
         "name": "Mumbai → Munich",
         "type": "scattergeo"
        },
        {
         "lat": [
          21.0285,
          48.1351
         ],
         "line": {
          "color": "gray",
          "width": 2
         },
         "locationmode": "country names",
         "lon": [
          105.8542,
          11.582
         ],
         "mode": "lines",
         "name": "Hanoi → Munich",
         "type": "scattergeo"
        },
        {
         "lat": [
          19.076,
          50.0647
         ],
         "line": {
          "color": "gray",
          "width": 2
         },
         "locationmode": "country names",
         "lon": [
          72.8777,
          19.945
         ],
         "mode": "lines",
         "name": "Mumbai → Krakow",
         "type": "scattergeo"
        },
        {
         "lat": [
          19.076,
          48.1351
         ],
         "line": {
          "color": "gray",
          "width": 2
         },
         "locationmode": "country names",
         "lon": [
          72.8777,
          11.582
         ],
         "mode": "lines",
         "name": "Mumbai → Munich",
         "type": "scattergeo"
        },
        {
         "lat": [
          21.0285,
          31.2304
         ],
         "line": {
          "color": "gray",
          "width": 2
         },
         "locationmode": "country names",
         "lon": [
          105.8542,
          121.4737
         ],
         "mode": "lines",
         "name": "Hanoi → Shanghai",
         "type": "scattergeo"
        },
        {
         "lat": [
          19.076,
          41.8781
         ],
         "line": {
          "color": "gray",
          "width": 2
         },
         "locationmode": "country names",
         "lon": [
          72.8777,
          -87.6298
         ],
         "mode": "lines",
         "name": "Mumbai → Chicago",
         "type": "scattergeo"
        },
        {
         "lat": [
          19.076,
          31.2304
         ],
         "line": {
          "color": "gray",
          "width": 2
         },
         "locationmode": "country names",
         "lon": [
          72.8777,
          121.4737
         ],
         "mode": "lines",
         "name": "Mumbai → Shanghai",
         "type": "scattergeo"
        },
        {
         "lat": [
          21.0285,
          41.8781
         ],
         "line": {
          "color": "gray",
          "width": 2
         },
         "locationmode": "country names",
         "lon": [
          105.8542,
          -87.6298
         ],
         "mode": "lines",
         "name": "Hanoi → Chicago",
         "type": "scattergeo"
        },
        {
         "lat": [
          21.0285,
          48.1351
         ],
         "line": {
          "color": "gray",
          "width": 2
         },
         "locationmode": "country names",
         "lon": [
          105.8542,
          11.582
         ],
         "mode": "lines",
         "name": "Hanoi → Munich",
         "type": "scattergeo"
        },
        {
         "lat": [
          59.3293,
          41.8781
         ],
         "line": {
          "color": "gray",
          "width": 2
         },
         "locationmode": "country names",
         "lon": [
          18.0686,
          -87.6298
         ],
         "mode": "lines",
         "name": "Stockholm → Chicago",
         "type": "scattergeo"
        },
        {
         "lat": [
          45.4642,
          48.1351
         ],
         "line": {
          "color": "gray",
          "width": 2
         },
         "locationmode": "country names",
         "lon": [
          9.19,
          11.582
         ],
         "mode": "lines",
         "name": "Milan → Munich",
         "type": "scattergeo"
        },
        {
         "lat": [
          21.0285,
          41.8781
         ],
         "line": {
          "color": "gray",
          "width": 2
         },
         "locationmode": "country names",
         "lon": [
          105.8542,
          -87.6298
         ],
         "mode": "lines",
         "name": "Hanoi → Chicago",
         "type": "scattergeo"
        },
        {
         "lat": [
          59.3293,
          31.2304
         ],
         "line": {
          "color": "gray",
          "width": 2
         },
         "locationmode": "country names",
         "lon": [
          18.0686,
          121.4737
         ],
         "mode": "lines",
         "name": "Stockholm → Shanghai",
         "type": "scattergeo"
        },
        {
         "lat": [
          19.076,
          41.8781
         ],
         "line": {
          "color": "gray",
          "width": 2
         },
         "locationmode": "country names",
         "lon": [
          72.8777,
          -87.6298
         ],
         "mode": "lines",
         "name": "Mumbai → Chicago",
         "type": "scattergeo"
        },
        {
         "lat": [
          45.4642,
          41.8781
         ],
         "line": {
          "color": "gray",
          "width": 2
         },
         "locationmode": "country names",
         "lon": [
          9.19,
          -87.6298
         ],
         "mode": "lines",
         "name": "Milan → Chicago",
         "type": "scattergeo"
        },
        {
         "lat": [
          21.0285,
          48.1351
         ],
         "line": {
          "color": "gray",
          "width": 2
         },
         "locationmode": "country names",
         "lon": [
          105.8542,
          11.582
         ],
         "mode": "lines",
         "name": "Hanoi → Munich",
         "type": "scattergeo"
        },
        {
         "lat": [
          45.4642,
          41.8781
         ],
         "line": {
          "color": "gray",
          "width": 2
         },
         "locationmode": "country names",
         "lon": [
          9.19,
          -87.6298
         ],
         "mode": "lines",
         "name": "Milan → Chicago",
         "type": "scattergeo"
        },
        {
         "lat": [
          59.3293,
          50.0647
         ],
         "line": {
          "color": "gray",
          "width": 2
         },
         "locationmode": "country names",
         "lon": [
          18.0686,
          19.945
         ],
         "mode": "lines",
         "name": "Stockholm → Krakow",
         "type": "scattergeo"
        },
        {
         "lat": [
          19.076,
          41.8781
         ],
         "line": {
          "color": "gray",
          "width": 2
         },
         "locationmode": "country names",
         "lon": [
          72.8777,
          -87.6298
         ],
         "mode": "lines",
         "name": "Mumbai → Chicago",
         "type": "scattergeo"
        },
        {
         "lat": [
          21.0285,
          41.8781
         ],
         "line": {
          "color": "gray",
          "width": 2
         },
         "locationmode": "country names",
         "lon": [
          105.8542,
          -87.6298
         ],
         "mode": "lines",
         "name": "Hanoi → Chicago",
         "type": "scattergeo"
        },
        {
         "lat": [
          21.0285,
          31.2304
         ],
         "line": {
          "color": "gray",
          "width": 2
         },
         "locationmode": "country names",
         "lon": [
          105.8542,
          121.4737
         ],
         "mode": "lines",
         "name": "Hanoi → Shanghai",
         "type": "scattergeo"
        },
        {
         "lat": [
          19.076,
          31.2304
         ],
         "line": {
          "color": "gray",
          "width": 2
         },
         "locationmode": "country names",
         "lon": [
          72.8777,
          121.4737
         ],
         "mode": "lines",
         "name": "Mumbai → Shanghai",
         "type": "scattergeo"
        },
        {
         "lat": [
          19.076,
          48.1351
         ],
         "line": {
          "color": "gray",
          "width": 2
         },
         "locationmode": "country names",
         "lon": [
          72.8777,
          11.582
         ],
         "mode": "lines",
         "name": "Mumbai → Munich",
         "type": "scattergeo"
        },
        {
         "lat": [
          59.3293,
          48.1351
         ],
         "line": {
          "color": "gray",
          "width": 2
         },
         "locationmode": "country names",
         "lon": [
          18.0686,
          11.582
         ],
         "mode": "lines",
         "name": "Stockholm → Munich",
         "type": "scattergeo"
        },
        {
         "lat": [
          45.4642,
          41.8781
         ],
         "line": {
          "color": "gray",
          "width": 2
         },
         "locationmode": "country names",
         "lon": [
          9.19,
          -87.6298
         ],
         "mode": "lines",
         "name": "Milan → Chicago",
         "type": "scattergeo"
        },
        {
         "lat": [
          45.4642,
          48.1351
         ],
         "line": {
          "color": "gray",
          "width": 2
         },
         "locationmode": "country names",
         "lon": [
          9.19,
          11.582
         ],
         "mode": "lines",
         "name": "Milan → Munich",
         "type": "scattergeo"
        },
        {
         "lat": [
          19.076,
          41.8781
         ],
         "line": {
          "color": "gray",
          "width": 2
         },
         "locationmode": "country names",
         "lon": [
          72.8777,
          -87.6298
         ],
         "mode": "lines",
         "name": "Mumbai → Chicago",
         "type": "scattergeo"
        },
        {
         "lat": [
          59.3293,
          31.2304
         ],
         "line": {
          "color": "gray",
          "width": 2
         },
         "locationmode": "country names",
         "lon": [
          18.0686,
          121.4737
         ],
         "mode": "lines",
         "name": "Stockholm → Shanghai",
         "type": "scattergeo"
        },
        {
         "lat": [
          59.3293,
          41.8781
         ],
         "line": {
          "color": "gray",
          "width": 2
         },
         "locationmode": "country names",
         "lon": [
          18.0686,
          -87.6298
         ],
         "mode": "lines",
         "name": "Stockholm → Chicago",
         "type": "scattergeo"
        },
        {
         "lat": [
          45.4642,
          31.2304
         ],
         "line": {
          "color": "gray",
          "width": 2
         },
         "locationmode": "country names",
         "lon": [
          9.19,
          121.4737
         ],
         "mode": "lines",
         "name": "Milan → Shanghai",
         "type": "scattergeo"
        },
        {
         "lat": [
          59.3293,
          31.2304
         ],
         "line": {
          "color": "gray",
          "width": 2
         },
         "locationmode": "country names",
         "lon": [
          18.0686,
          121.4737
         ],
         "mode": "lines",
         "name": "Stockholm → Shanghai",
         "type": "scattergeo"
        },
        {
         "lat": [
          59.3293,
          31.2304
         ],
         "line": {
          "color": "gray",
          "width": 2
         },
         "locationmode": "country names",
         "lon": [
          18.0686,
          121.4737
         ],
         "mode": "lines",
         "name": "Stockholm → Shanghai",
         "type": "scattergeo"
        },
        {
         "lat": [
          21.0285,
          48.1351
         ],
         "line": {
          "color": "gray",
          "width": 2
         },
         "locationmode": "country names",
         "lon": [
          105.8542,
          11.582
         ],
         "mode": "lines",
         "name": "Hanoi → Munich",
         "type": "scattergeo"
        },
        {
         "lat": [
          19.076,
          41.8781
         ],
         "line": {
          "color": "gray",
          "width": 2
         },
         "locationmode": "country names",
         "lon": [
          72.8777,
          -87.6298
         ],
         "mode": "lines",
         "name": "Mumbai → Chicago",
         "type": "scattergeo"
        },
        {
         "lat": [
          19.076,
          31.2304
         ],
         "line": {
          "color": "gray",
          "width": 2
         },
         "locationmode": "country names",
         "lon": [
          72.8777,
          121.4737
         ],
         "mode": "lines",
         "name": "Mumbai → Shanghai",
         "type": "scattergeo"
        },
        {
         "lat": [
          45.4642,
          50.0647
         ],
         "line": {
          "color": "gray",
          "width": 2
         },
         "locationmode": "country names",
         "lon": [
          9.19,
          19.945
         ],
         "mode": "lines",
         "name": "Milan → Krakow",
         "type": "scattergeo"
        },
        {
         "lat": [
          21.0285,
          41.8781
         ],
         "line": {
          "color": "gray",
          "width": 2
         },
         "locationmode": "country names",
         "lon": [
          105.8542,
          -87.6298
         ],
         "mode": "lines",
         "name": "Hanoi → Chicago",
         "type": "scattergeo"
        },
        {
         "lat": [
          45.4642,
          31.2304
         ],
         "line": {
          "color": "gray",
          "width": 2
         },
         "locationmode": "country names",
         "lon": [
          9.19,
          121.4737
         ],
         "mode": "lines",
         "name": "Milan → Shanghai",
         "type": "scattergeo"
        },
        {
         "lat": [
          19.076,
          41.8781
         ],
         "line": {
          "color": "gray",
          "width": 2
         },
         "locationmode": "country names",
         "lon": [
          72.8777,
          -87.6298
         ],
         "mode": "lines",
         "name": "Mumbai → Chicago",
         "type": "scattergeo"
        },
        {
         "lat": [
          19.076,
          50.0647
         ],
         "line": {
          "color": "gray",
          "width": 2
         },
         "locationmode": "country names",
         "lon": [
          72.8777,
          19.945
         ],
         "mode": "lines",
         "name": "Mumbai → Krakow",
         "type": "scattergeo"
        },
        {
         "lat": [
          45.4642,
          48.1351
         ],
         "line": {
          "color": "gray",
          "width": 2
         },
         "locationmode": "country names",
         "lon": [
          9.19,
          11.582
         ],
         "mode": "lines",
         "name": "Milan → Munich",
         "type": "scattergeo"
        },
        {
         "lat": [
          21.0285,
          50.0647
         ],
         "line": {
          "color": "gray",
          "width": 2
         },
         "locationmode": "country names",
         "lon": [
          105.8542,
          19.945
         ],
         "mode": "lines",
         "name": "Hanoi → Krakow",
         "type": "scattergeo"
        },
        {
         "lat": [
          21.0285,
          48.1351
         ],
         "line": {
          "color": "gray",
          "width": 2
         },
         "locationmode": "country names",
         "lon": [
          105.8542,
          11.582
         ],
         "mode": "lines",
         "name": "Hanoi → Munich",
         "type": "scattergeo"
        },
        {
         "lat": [
          21.0285,
          41.8781
         ],
         "line": {
          "color": "gray",
          "width": 2
         },
         "locationmode": "country names",
         "lon": [
          105.8542,
          -87.6298
         ],
         "mode": "lines",
         "name": "Hanoi → Chicago",
         "type": "scattergeo"
        },
        {
         "lat": [
          21.0285,
          50.0647
         ],
         "line": {
          "color": "gray",
          "width": 2
         },
         "locationmode": "country names",
         "lon": [
          105.8542,
          19.945
         ],
         "mode": "lines",
         "name": "Hanoi → Krakow",
         "type": "scattergeo"
        },
        {
         "lat": [
          59.3293,
          50.0647
         ],
         "line": {
          "color": "gray",
          "width": 2
         },
         "locationmode": "country names",
         "lon": [
          18.0686,
          19.945
         ],
         "mode": "lines",
         "name": "Stockholm → Krakow",
         "type": "scattergeo"
        },
        {
         "lat": [
          19.076,
          41.8781
         ],
         "line": {
          "color": "gray",
          "width": 2
         },
         "locationmode": "country names",
         "lon": [
          72.8777,
          -87.6298
         ],
         "mode": "lines",
         "name": "Mumbai → Chicago",
         "type": "scattergeo"
        },
        {
         "lat": [
          59.3293,
          41.8781
         ],
         "line": {
          "color": "gray",
          "width": 2
         },
         "locationmode": "country names",
         "lon": [
          18.0686,
          -87.6298
         ],
         "mode": "lines",
         "name": "Stockholm → Chicago",
         "type": "scattergeo"
        },
        {
         "lat": [
          21.0285,
          41.8781
         ],
         "line": {
          "color": "gray",
          "width": 2
         },
         "locationmode": "country names",
         "lon": [
          105.8542,
          -87.6298
         ],
         "mode": "lines",
         "name": "Hanoi → Chicago",
         "type": "scattergeo"
        },
        {
         "lat": [
          59.3293,
          31.2304
         ],
         "line": {
          "color": "gray",
          "width": 2
         },
         "locationmode": "country names",
         "lon": [
          18.0686,
          121.4737
         ],
         "mode": "lines",
         "name": "Stockholm → Shanghai",
         "type": "scattergeo"
        },
        {
         "lat": [
          45.4642,
          48.1351
         ],
         "line": {
          "color": "gray",
          "width": 2
         },
         "locationmode": "country names",
         "lon": [
          9.19,
          11.582
         ],
         "mode": "lines",
         "name": "Milan → Munich",
         "type": "scattergeo"
        },
        {
         "lat": [
          59.3293,
          48.1351
         ],
         "line": {
          "color": "gray",
          "width": 2
         },
         "locationmode": "country names",
         "lon": [
          18.0686,
          11.582
         ],
         "mode": "lines",
         "name": "Stockholm → Munich",
         "type": "scattergeo"
        },
        {
         "lat": [
          59.3293,
          41.8781
         ],
         "line": {
          "color": "gray",
          "width": 2
         },
         "locationmode": "country names",
         "lon": [
          18.0686,
          -87.6298
         ],
         "mode": "lines",
         "name": "Stockholm → Chicago",
         "type": "scattergeo"
        },
        {
         "lat": [
          45.4642,
          48.1351
         ],
         "line": {
          "color": "gray",
          "width": 2
         },
         "locationmode": "country names",
         "lon": [
          9.19,
          11.582
         ],
         "mode": "lines",
         "name": "Milan → Munich",
         "type": "scattergeo"
        },
        {
         "lat": [
          19.076,
          31.2304
         ],
         "line": {
          "color": "gray",
          "width": 2
         },
         "locationmode": "country names",
         "lon": [
          72.8777,
          121.4737
         ],
         "mode": "lines",
         "name": "Mumbai → Shanghai",
         "type": "scattergeo"
        },
        {
         "lat": [
          19.076,
          31.2304
         ],
         "line": {
          "color": "gray",
          "width": 2
         },
         "locationmode": "country names",
         "lon": [
          72.8777,
          121.4737
         ],
         "mode": "lines",
         "name": "Mumbai → Shanghai",
         "type": "scattergeo"
        },
        {
         "lat": [
          45.4642,
          50.0647
         ],
         "line": {
          "color": "gray",
          "width": 2
         },
         "locationmode": "country names",
         "lon": [
          9.19,
          19.945
         ],
         "mode": "lines",
         "name": "Milan → Krakow",
         "type": "scattergeo"
        },
        {
         "lat": [
          59.3293,
          48.1351
         ],
         "line": {
          "color": "gray",
          "width": 2
         },
         "locationmode": "country names",
         "lon": [
          18.0686,
          11.582
         ],
         "mode": "lines",
         "name": "Stockholm → Munich",
         "type": "scattergeo"
        },
        {
         "lat": [
          59.3293,
          31.2304
         ],
         "line": {
          "color": "gray",
          "width": 2
         },
         "locationmode": "country names",
         "lon": [
          18.0686,
          121.4737
         ],
         "mode": "lines",
         "name": "Stockholm → Shanghai",
         "type": "scattergeo"
        },
        {
         "lat": [
          21.0285,
          41.8781
         ],
         "line": {
          "color": "gray",
          "width": 2
         },
         "locationmode": "country names",
         "lon": [
          105.8542,
          -87.6298
         ],
         "mode": "lines",
         "name": "Hanoi → Chicago",
         "type": "scattergeo"
        },
        {
         "lat": [
          19.076,
          50.0647
         ],
         "line": {
          "color": "gray",
          "width": 2
         },
         "locationmode": "country names",
         "lon": [
          72.8777,
          19.945
         ],
         "mode": "lines",
         "name": "Mumbai → Krakow",
         "type": "scattergeo"
        },
        {
         "lat": [
          19.076,
          41.8781
         ],
         "line": {
          "color": "gray",
          "width": 2
         },
         "locationmode": "country names",
         "lon": [
          72.8777,
          -87.6298
         ],
         "mode": "lines",
         "name": "Mumbai → Chicago",
         "type": "scattergeo"
        },
        {
         "lat": [
          21.0285,
          41.8781
         ],
         "line": {
          "color": "gray",
          "width": 2
         },
         "locationmode": "country names",
         "lon": [
          105.8542,
          -87.6298
         ],
         "mode": "lines",
         "name": "Hanoi → Chicago",
         "type": "scattergeo"
        },
        {
         "lat": [
          21.0285,
          50.0647
         ],
         "line": {
          "color": "gray",
          "width": 2
         },
         "locationmode": "country names",
         "lon": [
          105.8542,
          19.945
         ],
         "mode": "lines",
         "name": "Hanoi → Krakow",
         "type": "scattergeo"
        },
        {
         "lat": [
          19.076,
          50.0647
         ],
         "line": {
          "color": "gray",
          "width": 2
         },
         "locationmode": "country names",
         "lon": [
          72.8777,
          19.945
         ],
         "mode": "lines",
         "name": "Mumbai → Krakow",
         "type": "scattergeo"
        },
        {
         "lat": [
          21.0285,
          41.8781
         ],
         "line": {
          "color": "gray",
          "width": 2
         },
         "locationmode": "country names",
         "lon": [
          105.8542,
          -87.6298
         ],
         "mode": "lines",
         "name": "Hanoi → Chicago",
         "type": "scattergeo"
        },
        {
         "lat": [
          45.4642,
          41.8781
         ],
         "line": {
          "color": "gray",
          "width": 2
         },
         "locationmode": "country names",
         "lon": [
          9.19,
          -87.6298
         ],
         "mode": "lines",
         "name": "Milan → Chicago",
         "type": "scattergeo"
        },
        {
         "lat": [
          59.3293,
          50.0647
         ],
         "line": {
          "color": "gray",
          "width": 2
         },
         "locationmode": "country names",
         "lon": [
          18.0686,
          19.945
         ],
         "mode": "lines",
         "name": "Stockholm → Krakow",
         "type": "scattergeo"
        },
        {
         "lat": [
          21.0285,
          31.2304
         ],
         "line": {
          "color": "gray",
          "width": 2
         },
         "locationmode": "country names",
         "lon": [
          105.8542,
          121.4737
         ],
         "mode": "lines",
         "name": "Hanoi → Shanghai",
         "type": "scattergeo"
        },
        {
         "lat": [
          19.076,
          41.8781
         ],
         "line": {
          "color": "gray",
          "width": 2
         },
         "locationmode": "country names",
         "lon": [
          72.8777,
          -87.6298
         ],
         "mode": "lines",
         "name": "Mumbai → Chicago",
         "type": "scattergeo"
        },
        {
         "lat": [
          19.076,
          48.1351
         ],
         "line": {
          "color": "gray",
          "width": 2
         },
         "locationmode": "country names",
         "lon": [
          72.8777,
          11.582
         ],
         "mode": "lines",
         "name": "Mumbai → Munich",
         "type": "scattergeo"
        },
        {
         "lat": [
          59.3293,
          50.0647
         ],
         "line": {
          "color": "gray",
          "width": 2
         },
         "locationmode": "country names",
         "lon": [
          18.0686,
          19.945
         ],
         "mode": "lines",
         "name": "Stockholm → Krakow",
         "type": "scattergeo"
        },
        {
         "lat": [
          21.0285,
          41.8781
         ],
         "line": {
          "color": "gray",
          "width": 2
         },
         "locationmode": "country names",
         "lon": [
          105.8542,
          -87.6298
         ],
         "mode": "lines",
         "name": "Hanoi → Chicago",
         "type": "scattergeo"
        },
        {
         "lat": [
          59.3293,
          31.2304
         ],
         "line": {
          "color": "gray",
          "width": 2
         },
         "locationmode": "country names",
         "lon": [
          18.0686,
          121.4737
         ],
         "mode": "lines",
         "name": "Stockholm → Shanghai",
         "type": "scattergeo"
        },
        {
         "lat": [
          19.076,
          41.8781
         ],
         "line": {
          "color": "gray",
          "width": 2
         },
         "locationmode": "country names",
         "lon": [
          72.8777,
          -87.6298
         ],
         "mode": "lines",
         "name": "Mumbai → Chicago",
         "type": "scattergeo"
        },
        {
         "lat": [
          19.076,
          50.0647
         ],
         "line": {
          "color": "gray",
          "width": 2
         },
         "locationmode": "country names",
         "lon": [
          72.8777,
          19.945
         ],
         "mode": "lines",
         "name": "Mumbai → Krakow",
         "type": "scattergeo"
        },
        {
         "lat": [
          19.076,
          41.8781
         ],
         "line": {
          "color": "gray",
          "width": 2
         },
         "locationmode": "country names",
         "lon": [
          72.8777,
          -87.6298
         ],
         "mode": "lines",
         "name": "Mumbai → Chicago",
         "type": "scattergeo"
        },
        {
         "lat": [
          45.4642,
          31.2304
         ],
         "line": {
          "color": "gray",
          "width": 2
         },
         "locationmode": "country names",
         "lon": [
          9.19,
          121.4737
         ],
         "mode": "lines",
         "name": "Milan → Shanghai",
         "type": "scattergeo"
        },
        {
         "lat": [
          59.3293,
          48.1351
         ],
         "line": {
          "color": "gray",
          "width": 2
         },
         "locationmode": "country names",
         "lon": [
          18.0686,
          11.582
         ],
         "mode": "lines",
         "name": "Stockholm → Munich",
         "type": "scattergeo"
        },
        {
         "lat": [
          45.4642,
          31.2304
         ],
         "line": {
          "color": "gray",
          "width": 2
         },
         "locationmode": "country names",
         "lon": [
          9.19,
          121.4737
         ],
         "mode": "lines",
         "name": "Milan → Shanghai",
         "type": "scattergeo"
        },
        {
         "lat": [
          19.076,
          48.1351
         ],
         "line": {
          "color": "gray",
          "width": 2
         },
         "locationmode": "country names",
         "lon": [
          72.8777,
          11.582
         ],
         "mode": "lines",
         "name": "Mumbai → Munich",
         "type": "scattergeo"
        },
        {
         "lat": [
          59.3293,
          50.0647
         ],
         "line": {
          "color": "gray",
          "width": 2
         },
         "locationmode": "country names",
         "lon": [
          18.0686,
          19.945
         ],
         "mode": "lines",
         "name": "Stockholm → Krakow",
         "type": "scattergeo"
        },
        {
         "lat": [
          45.4642,
          41.8781
         ],
         "line": {
          "color": "gray",
          "width": 2
         },
         "locationmode": "country names",
         "lon": [
          9.19,
          -87.6298
         ],
         "mode": "lines",
         "name": "Milan → Chicago",
         "type": "scattergeo"
        },
        {
         "lat": [
          59.3293,
          50.0647
         ],
         "line": {
          "color": "gray",
          "width": 2
         },
         "locationmode": "country names",
         "lon": [
          18.0686,
          19.945
         ],
         "mode": "lines",
         "name": "Stockholm → Krakow",
         "type": "scattergeo"
        },
        {
         "lat": [
          45.4642,
          50.0647
         ],
         "line": {
          "color": "gray",
          "width": 2
         },
         "locationmode": "country names",
         "lon": [
          9.19,
          19.945
         ],
         "mode": "lines",
         "name": "Milan → Krakow",
         "type": "scattergeo"
        },
        {
         "lat": [
          59.3293,
          48.1351
         ],
         "line": {
          "color": "gray",
          "width": 2
         },
         "locationmode": "country names",
         "lon": [
          18.0686,
          11.582
         ],
         "mode": "lines",
         "name": "Stockholm → Munich",
         "type": "scattergeo"
        },
        {
         "lat": [
          21.0285,
          50.0647
         ],
         "line": {
          "color": "gray",
          "width": 2
         },
         "locationmode": "country names",
         "lon": [
          105.8542,
          19.945
         ],
         "mode": "lines",
         "name": "Hanoi → Krakow",
         "type": "scattergeo"
        },
        {
         "lat": [
          21.0285,
          31.2304
         ],
         "line": {
          "color": "gray",
          "width": 2
         },
         "locationmode": "country names",
         "lon": [
          105.8542,
          121.4737
         ],
         "mode": "lines",
         "name": "Hanoi → Shanghai",
         "type": "scattergeo"
        },
        {
         "lat": [
          21.0285,
          50.0647
         ],
         "line": {
          "color": "gray",
          "width": 2
         },
         "locationmode": "country names",
         "lon": [
          105.8542,
          19.945
         ],
         "mode": "lines",
         "name": "Hanoi → Krakow",
         "type": "scattergeo"
        },
        {
         "lat": [
          59.3293,
          31.2304
         ],
         "line": {
          "color": "gray",
          "width": 2
         },
         "locationmode": "country names",
         "lon": [
          18.0686,
          121.4737
         ],
         "mode": "lines",
         "name": "Stockholm → Shanghai",
         "type": "scattergeo"
        },
        {
         "lat": [
          19.076,
          31.2304
         ],
         "line": {
          "color": "gray",
          "width": 2
         },
         "locationmode": "country names",
         "lon": [
          72.8777,
          121.4737
         ],
         "mode": "lines",
         "name": "Mumbai → Shanghai",
         "type": "scattergeo"
        },
        {
         "lat": [
          21.0285,
          41.8781
         ],
         "line": {
          "color": "gray",
          "width": 2
         },
         "locationmode": "country names",
         "lon": [
          105.8542,
          -87.6298
         ],
         "mode": "lines",
         "name": "Hanoi → Chicago",
         "type": "scattergeo"
        },
        {
         "lat": [
          59.3293,
          31.2304
         ],
         "line": {
          "color": "gray",
          "width": 2
         },
         "locationmode": "country names",
         "lon": [
          18.0686,
          121.4737
         ],
         "mode": "lines",
         "name": "Stockholm → Shanghai",
         "type": "scattergeo"
        },
        {
         "lat": [
          19.076,
          50.0647
         ],
         "line": {
          "color": "gray",
          "width": 2
         },
         "locationmode": "country names",
         "lon": [
          72.8777,
          19.945
         ],
         "mode": "lines",
         "name": "Mumbai → Krakow",
         "type": "scattergeo"
        },
        {
         "lat": [
          45.4642,
          41.8781
         ],
         "line": {
          "color": "gray",
          "width": 2
         },
         "locationmode": "country names",
         "lon": [
          9.19,
          -87.6298
         ],
         "mode": "lines",
         "name": "Milan → Chicago",
         "type": "scattergeo"
        },
        {
         "lat": [
          19.076,
          50.0647
         ],
         "line": {
          "color": "gray",
          "width": 2
         },
         "locationmode": "country names",
         "lon": [
          72.8777,
          19.945
         ],
         "mode": "lines",
         "name": "Mumbai → Krakow",
         "type": "scattergeo"
        },
        {
         "lat": [
          45.4642,
          41.8781
         ],
         "line": {
          "color": "gray",
          "width": 2
         },
         "locationmode": "country names",
         "lon": [
          9.19,
          -87.6298
         ],
         "mode": "lines",
         "name": "Milan → Chicago",
         "type": "scattergeo"
        },
        {
         "lat": [
          19.076,
          50.0647
         ],
         "line": {
          "color": "gray",
          "width": 2
         },
         "locationmode": "country names",
         "lon": [
          72.8777,
          19.945
         ],
         "mode": "lines",
         "name": "Mumbai → Krakow",
         "type": "scattergeo"
        },
        {
         "lat": [
          21.0285,
          50.0647
         ],
         "line": {
          "color": "gray",
          "width": 2
         },
         "locationmode": "country names",
         "lon": [
          105.8542,
          19.945
         ],
         "mode": "lines",
         "name": "Hanoi → Krakow",
         "type": "scattergeo"
        },
        {
         "lat": [
          21.0285,
          41.8781
         ],
         "line": {
          "color": "gray",
          "width": 2
         },
         "locationmode": "country names",
         "lon": [
          105.8542,
          -87.6298
         ],
         "mode": "lines",
         "name": "Hanoi → Chicago",
         "type": "scattergeo"
        },
        {
         "lat": [
          19.076,
          41.8781
         ],
         "line": {
          "color": "gray",
          "width": 2
         },
         "locationmode": "country names",
         "lon": [
          72.8777,
          -87.6298
         ],
         "mode": "lines",
         "name": "Mumbai → Chicago",
         "type": "scattergeo"
        },
        {
         "lat": [
          59.3293,
          41.8781
         ],
         "line": {
          "color": "gray",
          "width": 2
         },
         "locationmode": "country names",
         "lon": [
          18.0686,
          -87.6298
         ],
         "mode": "lines",
         "name": "Stockholm → Chicago",
         "type": "scattergeo"
        },
        {
         "lat": [
          45.4642,
          31.2304
         ],
         "line": {
          "color": "gray",
          "width": 2
         },
         "locationmode": "country names",
         "lon": [
          9.19,
          121.4737
         ],
         "mode": "lines",
         "name": "Milan → Shanghai",
         "type": "scattergeo"
        },
        {
         "lat": [
          45.4642,
          48.1351
         ],
         "line": {
          "color": "gray",
          "width": 2
         },
         "locationmode": "country names",
         "lon": [
          9.19,
          11.582
         ],
         "mode": "lines",
         "name": "Milan → Munich",
         "type": "scattergeo"
        },
        {
         "lat": [
          45.4642,
          50.0647
         ],
         "line": {
          "color": "gray",
          "width": 2
         },
         "locationmode": "country names",
         "lon": [
          9.19,
          19.945
         ],
         "mode": "lines",
         "name": "Milan → Krakow",
         "type": "scattergeo"
        },
        {
         "lat": [
          21.0285,
          31.2304
         ],
         "line": {
          "color": "gray",
          "width": 2
         },
         "locationmode": "country names",
         "lon": [
          105.8542,
          121.4737
         ],
         "mode": "lines",
         "name": "Hanoi → Shanghai",
         "type": "scattergeo"
        },
        {
         "lat": [
          59.3293,
          50.0647
         ],
         "line": {
          "color": "gray",
          "width": 2
         },
         "locationmode": "country names",
         "lon": [
          18.0686,
          19.945
         ],
         "mode": "lines",
         "name": "Stockholm → Krakow",
         "type": "scattergeo"
        },
        {
         "lat": [
          19.076,
          50.0647
         ],
         "line": {
          "color": "gray",
          "width": 2
         },
         "locationmode": "country names",
         "lon": [
          72.8777,
          19.945
         ],
         "mode": "lines",
         "name": "Mumbai → Krakow",
         "type": "scattergeo"
        },
        {
         "lat": [
          19.076,
          50.0647
         ],
         "line": {
          "color": "gray",
          "width": 2
         },
         "locationmode": "country names",
         "lon": [
          72.8777,
          19.945
         ],
         "mode": "lines",
         "name": "Mumbai → Krakow",
         "type": "scattergeo"
        },
        {
         "lat": [
          59.3293,
          50.0647
         ],
         "line": {
          "color": "gray",
          "width": 2
         },
         "locationmode": "country names",
         "lon": [
          18.0686,
          19.945
         ],
         "mode": "lines",
         "name": "Stockholm → Krakow",
         "type": "scattergeo"
        },
        {
         "lat": [
          21.0285,
          41.8781
         ],
         "line": {
          "color": "gray",
          "width": 2
         },
         "locationmode": "country names",
         "lon": [
          105.8542,
          -87.6298
         ],
         "mode": "lines",
         "name": "Hanoi → Chicago",
         "type": "scattergeo"
        },
        {
         "lat": [
          21.0285,
          41.8781
         ],
         "line": {
          "color": "gray",
          "width": 2
         },
         "locationmode": "country names",
         "lon": [
          105.8542,
          -87.6298
         ],
         "mode": "lines",
         "name": "Hanoi → Chicago",
         "type": "scattergeo"
        },
        {
         "lat": [
          21.0285,
          50.0647
         ],
         "line": {
          "color": "gray",
          "width": 2
         },
         "locationmode": "country names",
         "lon": [
          105.8542,
          19.945
         ],
         "mode": "lines",
         "name": "Hanoi → Krakow",
         "type": "scattergeo"
        },
        {
         "lat": [
          21.0285,
          48.1351
         ],
         "line": {
          "color": "gray",
          "width": 2
         },
         "locationmode": "country names",
         "lon": [
          105.8542,
          11.582
         ],
         "mode": "lines",
         "name": "Hanoi → Munich",
         "type": "scattergeo"
        },
        {
         "lat": [
          21.0285,
          48.1351
         ],
         "line": {
          "color": "gray",
          "width": 2
         },
         "locationmode": "country names",
         "lon": [
          105.8542,
          11.582
         ],
         "mode": "lines",
         "name": "Hanoi → Munich",
         "type": "scattergeo"
        },
        {
         "lat": [
          45.4642,
          48.1351
         ],
         "line": {
          "color": "gray",
          "width": 2
         },
         "locationmode": "country names",
         "lon": [
          9.19,
          11.582
         ],
         "mode": "lines",
         "name": "Milan → Munich",
         "type": "scattergeo"
        },
        {
         "lat": [
          45.4642,
          41.8781
         ],
         "line": {
          "color": "gray",
          "width": 2
         },
         "locationmode": "country names",
         "lon": [
          9.19,
          -87.6298
         ],
         "mode": "lines",
         "name": "Milan → Chicago",
         "type": "scattergeo"
        },
        {
         "lat": [
          21.0285,
          48.1351
         ],
         "line": {
          "color": "gray",
          "width": 2
         },
         "locationmode": "country names",
         "lon": [
          105.8542,
          11.582
         ],
         "mode": "lines",
         "name": "Hanoi → Munich",
         "type": "scattergeo"
        },
        {
         "lat": [
          59.3293,
          41.8781
         ],
         "line": {
          "color": "gray",
          "width": 2
         },
         "locationmode": "country names",
         "lon": [
          18.0686,
          -87.6298
         ],
         "mode": "lines",
         "name": "Stockholm → Chicago",
         "type": "scattergeo"
        },
        {
         "lat": [
          21.0285,
          41.8781
         ],
         "line": {
          "color": "gray",
          "width": 2
         },
         "locationmode": "country names",
         "lon": [
          105.8542,
          -87.6298
         ],
         "mode": "lines",
         "name": "Hanoi → Chicago",
         "type": "scattergeo"
        },
        {
         "lat": [
          59.3293,
          50.0647
         ],
         "line": {
          "color": "gray",
          "width": 2
         },
         "locationmode": "country names",
         "lon": [
          18.0686,
          19.945
         ],
         "mode": "lines",
         "name": "Stockholm → Krakow",
         "type": "scattergeo"
        },
        {
         "lat": [
          59.3293,
          41.8781
         ],
         "line": {
          "color": "gray",
          "width": 2
         },
         "locationmode": "country names",
         "lon": [
          18.0686,
          -87.6298
         ],
         "mode": "lines",
         "name": "Stockholm → Chicago",
         "type": "scattergeo"
        },
        {
         "lat": [
          59.3293,
          41.8781
         ],
         "line": {
          "color": "gray",
          "width": 2
         },
         "locationmode": "country names",
         "lon": [
          18.0686,
          -87.6298
         ],
         "mode": "lines",
         "name": "Stockholm → Chicago",
         "type": "scattergeo"
        },
        {
         "lat": [
          21.0285,
          48.1351
         ],
         "line": {
          "color": "gray",
          "width": 2
         },
         "locationmode": "country names",
         "lon": [
          105.8542,
          11.582
         ],
         "mode": "lines",
         "name": "Hanoi → Munich",
         "type": "scattergeo"
        },
        {
         "lat": [
          19.076,
          48.1351
         ],
         "line": {
          "color": "gray",
          "width": 2
         },
         "locationmode": "country names",
         "lon": [
          72.8777,
          11.582
         ],
         "mode": "lines",
         "name": "Mumbai → Munich",
         "type": "scattergeo"
        },
        {
         "lat": [
          45.4642,
          50.0647
         ],
         "line": {
          "color": "gray",
          "width": 2
         },
         "locationmode": "country names",
         "lon": [
          9.19,
          19.945
         ],
         "mode": "lines",
         "name": "Milan → Krakow",
         "type": "scattergeo"
        },
        {
         "lat": [
          19.076,
          50.0647
         ],
         "line": {
          "color": "gray",
          "width": 2
         },
         "locationmode": "country names",
         "lon": [
          72.8777,
          19.945
         ],
         "mode": "lines",
         "name": "Mumbai → Krakow",
         "type": "scattergeo"
        },
        {
         "lat": [
          21.0285,
          48.1351
         ],
         "line": {
          "color": "gray",
          "width": 2
         },
         "locationmode": "country names",
         "lon": [
          105.8542,
          11.582
         ],
         "mode": "lines",
         "name": "Hanoi → Munich",
         "type": "scattergeo"
        },
        {
         "lat": [
          59.3293,
          48.1351
         ],
         "line": {
          "color": "gray",
          "width": 2
         },
         "locationmode": "country names",
         "lon": [
          18.0686,
          11.582
         ],
         "mode": "lines",
         "name": "Stockholm → Munich",
         "type": "scattergeo"
        },
        {
         "lat": [
          45.4642,
          41.8781
         ],
         "line": {
          "color": "gray",
          "width": 2
         },
         "locationmode": "country names",
         "lon": [
          9.19,
          -87.6298
         ],
         "mode": "lines",
         "name": "Milan → Chicago",
         "type": "scattergeo"
        },
        {
         "lat": [
          45.4642,
          41.8781
         ],
         "line": {
          "color": "gray",
          "width": 2
         },
         "locationmode": "country names",
         "lon": [
          9.19,
          -87.6298
         ],
         "mode": "lines",
         "name": "Milan → Chicago",
         "type": "scattergeo"
        },
        {
         "lat": [
          21.0285,
          50.0647
         ],
         "line": {
          "color": "gray",
          "width": 2
         },
         "locationmode": "country names",
         "lon": [
          105.8542,
          19.945
         ],
         "mode": "lines",
         "name": "Hanoi → Krakow",
         "type": "scattergeo"
        },
        {
         "lat": [
          45.4642,
          31.2304
         ],
         "line": {
          "color": "gray",
          "width": 2
         },
         "locationmode": "country names",
         "lon": [
          9.19,
          121.4737
         ],
         "mode": "lines",
         "name": "Milan → Shanghai",
         "type": "scattergeo"
        },
        {
         "lat": [
          19.076,
          48.1351
         ],
         "line": {
          "color": "gray",
          "width": 2
         },
         "locationmode": "country names",
         "lon": [
          72.8777,
          11.582
         ],
         "mode": "lines",
         "name": "Mumbai → Munich",
         "type": "scattergeo"
        },
        {
         "lat": [
          45.4642,
          41.8781
         ],
         "line": {
          "color": "gray",
          "width": 2
         },
         "locationmode": "country names",
         "lon": [
          9.19,
          -87.6298
         ],
         "mode": "lines",
         "name": "Milan → Chicago",
         "type": "scattergeo"
        },
        {
         "lat": [
          45.4642,
          50.0647
         ],
         "line": {
          "color": "gray",
          "width": 2
         },
         "locationmode": "country names",
         "lon": [
          9.19,
          19.945
         ],
         "mode": "lines",
         "name": "Milan → Krakow",
         "type": "scattergeo"
        },
        {
         "lat": [
          59.3293,
          50.0647
         ],
         "line": {
          "color": "gray",
          "width": 2
         },
         "locationmode": "country names",
         "lon": [
          18.0686,
          19.945
         ],
         "mode": "lines",
         "name": "Stockholm → Krakow",
         "type": "scattergeo"
        },
        {
         "lat": [
          19.076,
          48.1351
         ],
         "line": {
          "color": "gray",
          "width": 2
         },
         "locationmode": "country names",
         "lon": [
          72.8777,
          11.582
         ],
         "mode": "lines",
         "name": "Mumbai → Munich",
         "type": "scattergeo"
        },
        {
         "lat": [
          59.3293,
          41.8781
         ],
         "line": {
          "color": "gray",
          "width": 2
         },
         "locationmode": "country names",
         "lon": [
          18.0686,
          -87.6298
         ],
         "mode": "lines",
         "name": "Stockholm → Chicago",
         "type": "scattergeo"
        },
        {
         "lat": [
          19.076,
          50.0647
         ],
         "line": {
          "color": "gray",
          "width": 2
         },
         "locationmode": "country names",
         "lon": [
          72.8777,
          19.945
         ],
         "mode": "lines",
         "name": "Mumbai → Krakow",
         "type": "scattergeo"
        },
        {
         "lat": [
          45.4642,
          48.1351
         ],
         "line": {
          "color": "gray",
          "width": 2
         },
         "locationmode": "country names",
         "lon": [
          9.19,
          11.582
         ],
         "mode": "lines",
         "name": "Milan → Munich",
         "type": "scattergeo"
        },
        {
         "lat": [
          59.3293,
          50.0647
         ],
         "line": {
          "color": "gray",
          "width": 2
         },
         "locationmode": "country names",
         "lon": [
          18.0686,
          19.945
         ],
         "mode": "lines",
         "name": "Stockholm → Krakow",
         "type": "scattergeo"
        },
        {
         "lat": [
          59.3293,
          41.8781
         ],
         "line": {
          "color": "gray",
          "width": 2
         },
         "locationmode": "country names",
         "lon": [
          18.0686,
          -87.6298
         ],
         "mode": "lines",
         "name": "Stockholm → Chicago",
         "type": "scattergeo"
        },
        {
         "lat": [
          59.3293,
          31.2304
         ],
         "line": {
          "color": "gray",
          "width": 2
         },
         "locationmode": "country names",
         "lon": [
          18.0686,
          121.4737
         ],
         "mode": "lines",
         "name": "Stockholm → Shanghai",
         "type": "scattergeo"
        },
        {
         "lat": [
          45.4642,
          41.8781
         ],
         "line": {
          "color": "gray",
          "width": 2
         },
         "locationmode": "country names",
         "lon": [
          9.19,
          -87.6298
         ],
         "mode": "lines",
         "name": "Milan → Chicago",
         "type": "scattergeo"
        },
        {
         "lat": [
          45.4642,
          48.1351
         ],
         "line": {
          "color": "gray",
          "width": 2
         },
         "locationmode": "country names",
         "lon": [
          9.19,
          11.582
         ],
         "mode": "lines",
         "name": "Milan → Munich",
         "type": "scattergeo"
        },
        {
         "lat": [
          45.4642,
          50.0647
         ],
         "line": {
          "color": "gray",
          "width": 2
         },
         "locationmode": "country names",
         "lon": [
          9.19,
          19.945
         ],
         "mode": "lines",
         "name": "Milan → Krakow",
         "type": "scattergeo"
        },
        {
         "lat": [
          45.4642,
          50.0647
         ],
         "line": {
          "color": "gray",
          "width": 2
         },
         "locationmode": "country names",
         "lon": [
          9.19,
          19.945
         ],
         "mode": "lines",
         "name": "Milan → Krakow",
         "type": "scattergeo"
        },
        {
         "lat": [
          59.3293,
          31.2304
         ],
         "line": {
          "color": "gray",
          "width": 2
         },
         "locationmode": "country names",
         "lon": [
          18.0686,
          121.4737
         ],
         "mode": "lines",
         "name": "Stockholm → Shanghai",
         "type": "scattergeo"
        },
        {
         "lat": [
          59.3293,
          50.0647
         ],
         "line": {
          "color": "gray",
          "width": 2
         },
         "locationmode": "country names",
         "lon": [
          18.0686,
          19.945
         ],
         "mode": "lines",
         "name": "Stockholm → Krakow",
         "type": "scattergeo"
        },
        {
         "lat": [
          45.4642,
          50.0647
         ],
         "line": {
          "color": "gray",
          "width": 2
         },
         "locationmode": "country names",
         "lon": [
          9.19,
          19.945
         ],
         "mode": "lines",
         "name": "Milan → Krakow",
         "type": "scattergeo"
        },
        {
         "lat": [
          45.4642,
          48.1351
         ],
         "line": {
          "color": "gray",
          "width": 2
         },
         "locationmode": "country names",
         "lon": [
          9.19,
          11.582
         ],
         "mode": "lines",
         "name": "Milan → Munich",
         "type": "scattergeo"
        },
        {
         "lat": [
          59.3293,
          31.2304
         ],
         "line": {
          "color": "gray",
          "width": 2
         },
         "locationmode": "country names",
         "lon": [
          18.0686,
          121.4737
         ],
         "mode": "lines",
         "name": "Stockholm → Shanghai",
         "type": "scattergeo"
        },
        {
         "lat": [
          19.076,
          41.8781
         ],
         "line": {
          "color": "gray",
          "width": 2
         },
         "locationmode": "country names",
         "lon": [
          72.8777,
          -87.6298
         ],
         "mode": "lines",
         "name": "Mumbai → Chicago",
         "type": "scattergeo"
        },
        {
         "lat": [
          45.4642,
          31.2304
         ],
         "line": {
          "color": "gray",
          "width": 2
         },
         "locationmode": "country names",
         "lon": [
          9.19,
          121.4737
         ],
         "mode": "lines",
         "name": "Milan → Shanghai",
         "type": "scattergeo"
        },
        {
         "lat": [
          19.076,
          31.2304
         ],
         "line": {
          "color": "gray",
          "width": 2
         },
         "locationmode": "country names",
         "lon": [
          72.8777,
          121.4737
         ],
         "mode": "lines",
         "name": "Mumbai → Shanghai",
         "type": "scattergeo"
        },
        {
         "lat": [
          21.0285,
          48.1351
         ],
         "line": {
          "color": "gray",
          "width": 2
         },
         "locationmode": "country names",
         "lon": [
          105.8542,
          11.582
         ],
         "mode": "lines",
         "name": "Hanoi → Munich",
         "type": "scattergeo"
        },
        {
         "lat": [
          59.3293,
          48.1351
         ],
         "line": {
          "color": "gray",
          "width": 2
         },
         "locationmode": "country names",
         "lon": [
          18.0686,
          11.582
         ],
         "mode": "lines",
         "name": "Stockholm → Munich",
         "type": "scattergeo"
        },
        {
         "lat": [
          21.0285,
          48.1351
         ],
         "line": {
          "color": "gray",
          "width": 2
         },
         "locationmode": "country names",
         "lon": [
          105.8542,
          11.582
         ],
         "mode": "lines",
         "name": "Hanoi → Munich",
         "type": "scattergeo"
        },
        {
         "lat": [
          45.4642,
          41.8781
         ],
         "line": {
          "color": "gray",
          "width": 2
         },
         "locationmode": "country names",
         "lon": [
          9.19,
          -87.6298
         ],
         "mode": "lines",
         "name": "Milan → Chicago",
         "type": "scattergeo"
        },
        {
         "lat": [
          59.3293,
          31.2304
         ],
         "line": {
          "color": "gray",
          "width": 2
         },
         "locationmode": "country names",
         "lon": [
          18.0686,
          121.4737
         ],
         "mode": "lines",
         "name": "Stockholm → Shanghai",
         "type": "scattergeo"
        },
        {
         "lat": [
          59.3293,
          41.8781
         ],
         "line": {
          "color": "gray",
          "width": 2
         },
         "locationmode": "country names",
         "lon": [
          18.0686,
          -87.6298
         ],
         "mode": "lines",
         "name": "Stockholm → Chicago",
         "type": "scattergeo"
        },
        {
         "lat": [
          19.076,
          41.8781
         ],
         "line": {
          "color": "gray",
          "width": 2
         },
         "locationmode": "country names",
         "lon": [
          72.8777,
          -87.6298
         ],
         "mode": "lines",
         "name": "Mumbai → Chicago",
         "type": "scattergeo"
        },
        {
         "lat": [
          59.3293,
          31.2304
         ],
         "line": {
          "color": "gray",
          "width": 2
         },
         "locationmode": "country names",
         "lon": [
          18.0686,
          121.4737
         ],
         "mode": "lines",
         "name": "Stockholm → Shanghai",
         "type": "scattergeo"
        },
        {
         "lat": [
          21.0285,
          31.2304
         ],
         "line": {
          "color": "gray",
          "width": 2
         },
         "locationmode": "country names",
         "lon": [
          105.8542,
          121.4737
         ],
         "mode": "lines",
         "name": "Hanoi → Shanghai",
         "type": "scattergeo"
        },
        {
         "lat": [
          19.076,
          41.8781
         ],
         "line": {
          "color": "gray",
          "width": 2
         },
         "locationmode": "country names",
         "lon": [
          72.8777,
          -87.6298
         ],
         "mode": "lines",
         "name": "Mumbai → Chicago",
         "type": "scattergeo"
        },
        {
         "lat": [
          45.4642,
          50.0647
         ],
         "line": {
          "color": "gray",
          "width": 2
         },
         "locationmode": "country names",
         "lon": [
          9.19,
          19.945
         ],
         "mode": "lines",
         "name": "Milan → Krakow",
         "type": "scattergeo"
        },
        {
         "lat": [
          59.3293,
          50.0647
         ],
         "line": {
          "color": "gray",
          "width": 2
         },
         "locationmode": "country names",
         "lon": [
          18.0686,
          19.945
         ],
         "mode": "lines",
         "name": "Stockholm → Krakow",
         "type": "scattergeo"
        },
        {
         "lat": [
          21.0285,
          48.1351
         ],
         "line": {
          "color": "gray",
          "width": 2
         },
         "locationmode": "country names",
         "lon": [
          105.8542,
          11.582
         ],
         "mode": "lines",
         "name": "Hanoi → Munich",
         "type": "scattergeo"
        },
        {
         "lat": [
          45.4642,
          48.1351
         ],
         "line": {
          "color": "gray",
          "width": 2
         },
         "locationmode": "country names",
         "lon": [
          9.19,
          11.582
         ],
         "mode": "lines",
         "name": "Milan → Munich",
         "type": "scattergeo"
        },
        {
         "lat": [
          45.4642,
          48.1351
         ],
         "line": {
          "color": "gray",
          "width": 2
         },
         "locationmode": "country names",
         "lon": [
          9.19,
          11.582
         ],
         "mode": "lines",
         "name": "Milan → Munich",
         "type": "scattergeo"
        },
        {
         "lat": [
          21.0285,
          41.8781
         ],
         "line": {
          "color": "gray",
          "width": 2
         },
         "locationmode": "country names",
         "lon": [
          105.8542,
          -87.6298
         ],
         "mode": "lines",
         "name": "Hanoi → Chicago",
         "type": "scattergeo"
        },
        {
         "lat": [
          45.4642,
          50.0647
         ],
         "line": {
          "color": "gray",
          "width": 2
         },
         "locationmode": "country names",
         "lon": [
          9.19,
          19.945
         ],
         "mode": "lines",
         "name": "Milan → Krakow",
         "type": "scattergeo"
        },
        {
         "lat": [
          21.0285,
          48.1351
         ],
         "line": {
          "color": "gray",
          "width": 2
         },
         "locationmode": "country names",
         "lon": [
          105.8542,
          11.582
         ],
         "mode": "lines",
         "name": "Hanoi → Munich",
         "type": "scattergeo"
        },
        {
         "lat": [
          59.3293,
          41.8781
         ],
         "line": {
          "color": "gray",
          "width": 2
         },
         "locationmode": "country names",
         "lon": [
          18.0686,
          -87.6298
         ],
         "mode": "lines",
         "name": "Stockholm → Chicago",
         "type": "scattergeo"
        },
        {
         "lat": [
          19.076,
          50.0647
         ],
         "line": {
          "color": "gray",
          "width": 2
         },
         "locationmode": "country names",
         "lon": [
          72.8777,
          19.945
         ],
         "mode": "lines",
         "name": "Mumbai → Krakow",
         "type": "scattergeo"
        },
        {
         "lat": [
          59.3293,
          31.2304
         ],
         "line": {
          "color": "gray",
          "width": 2
         },
         "locationmode": "country names",
         "lon": [
          18.0686,
          121.4737
         ],
         "mode": "lines",
         "name": "Stockholm → Shanghai",
         "type": "scattergeo"
        },
        {
         "lat": [
          21.0285,
          31.2304
         ],
         "line": {
          "color": "gray",
          "width": 2
         },
         "locationmode": "country names",
         "lon": [
          105.8542,
          121.4737
         ],
         "mode": "lines",
         "name": "Hanoi → Shanghai",
         "type": "scattergeo"
        },
        {
         "lat": [
          45.4642,
          48.1351
         ],
         "line": {
          "color": "gray",
          "width": 2
         },
         "locationmode": "country names",
         "lon": [
          9.19,
          11.582
         ],
         "mode": "lines",
         "name": "Milan → Munich",
         "type": "scattergeo"
        },
        {
         "lat": [
          19.076,
          48.1351
         ],
         "line": {
          "color": "gray",
          "width": 2
         },
         "locationmode": "country names",
         "lon": [
          72.8777,
          11.582
         ],
         "mode": "lines",
         "name": "Mumbai → Munich",
         "type": "scattergeo"
        },
        {
         "lat": [
          19.076,
          41.8781
         ],
         "line": {
          "color": "gray",
          "width": 2
         },
         "locationmode": "country names",
         "lon": [
          72.8777,
          -87.6298
         ],
         "mode": "lines",
         "name": "Mumbai → Chicago",
         "type": "scattergeo"
        },
        {
         "lat": [
          59.3293,
          41.8781
         ],
         "line": {
          "color": "gray",
          "width": 2
         },
         "locationmode": "country names",
         "lon": [
          18.0686,
          -87.6298
         ],
         "mode": "lines",
         "name": "Stockholm → Chicago",
         "type": "scattergeo"
        },
        {
         "lat": [
          21.0285,
          41.8781
         ],
         "line": {
          "color": "gray",
          "width": 2
         },
         "locationmode": "country names",
         "lon": [
          105.8542,
          -87.6298
         ],
         "mode": "lines",
         "name": "Hanoi → Chicago",
         "type": "scattergeo"
        },
        {
         "lat": [
          59.3293,
          31.2304
         ],
         "line": {
          "color": "gray",
          "width": 2
         },
         "locationmode": "country names",
         "lon": [
          18.0686,
          121.4737
         ],
         "mode": "lines",
         "name": "Stockholm → Shanghai",
         "type": "scattergeo"
        },
        {
         "lat": [
          59.3293,
          50.0647
         ],
         "line": {
          "color": "gray",
          "width": 2
         },
         "locationmode": "country names",
         "lon": [
          18.0686,
          19.945
         ],
         "mode": "lines",
         "name": "Stockholm → Krakow",
         "type": "scattergeo"
        },
        {
         "lat": [
          21.0285,
          50.0647
         ],
         "line": {
          "color": "gray",
          "width": 2
         },
         "locationmode": "country names",
         "lon": [
          105.8542,
          19.945
         ],
         "mode": "lines",
         "name": "Hanoi → Krakow",
         "type": "scattergeo"
        },
        {
         "lat": [
          45.4642,
          31.2304
         ],
         "line": {
          "color": "gray",
          "width": 2
         },
         "locationmode": "country names",
         "lon": [
          9.19,
          121.4737
         ],
         "mode": "lines",
         "name": "Milan → Shanghai",
         "type": "scattergeo"
        },
        {
         "lat": [
          21.0285,
          48.1351
         ],
         "line": {
          "color": "gray",
          "width": 2
         },
         "locationmode": "country names",
         "lon": [
          105.8542,
          11.582
         ],
         "mode": "lines",
         "name": "Hanoi → Munich",
         "type": "scattergeo"
        },
        {
         "lat": [
          59.3293,
          48.1351
         ],
         "line": {
          "color": "gray",
          "width": 2
         },
         "locationmode": "country names",
         "lon": [
          18.0686,
          11.582
         ],
         "mode": "lines",
         "name": "Stockholm → Munich",
         "type": "scattergeo"
        },
        {
         "lat": [
          21.0285,
          31.2304
         ],
         "line": {
          "color": "gray",
          "width": 2
         },
         "locationmode": "country names",
         "lon": [
          105.8542,
          121.4737
         ],
         "mode": "lines",
         "name": "Hanoi → Shanghai",
         "type": "scattergeo"
        },
        {
         "lat": [
          19.076,
          48.1351
         ],
         "line": {
          "color": "gray",
          "width": 2
         },
         "locationmode": "country names",
         "lon": [
          72.8777,
          11.582
         ],
         "mode": "lines",
         "name": "Mumbai → Munich",
         "type": "scattergeo"
        },
        {
         "lat": [
          21.0285,
          48.1351
         ],
         "line": {
          "color": "gray",
          "width": 2
         },
         "locationmode": "country names",
         "lon": [
          105.8542,
          11.582
         ],
         "mode": "lines",
         "name": "Hanoi → Munich",
         "type": "scattergeo"
        },
        {
         "lat": [
          59.3293,
          50.0647
         ],
         "line": {
          "color": "gray",
          "width": 2
         },
         "locationmode": "country names",
         "lon": [
          18.0686,
          19.945
         ],
         "mode": "lines",
         "name": "Stockholm → Krakow",
         "type": "scattergeo"
        },
        {
         "lat": [
          45.4642,
          31.2304
         ],
         "line": {
          "color": "gray",
          "width": 2
         },
         "locationmode": "country names",
         "lon": [
          9.19,
          121.4737
         ],
         "mode": "lines",
         "name": "Milan → Shanghai",
         "type": "scattergeo"
        },
        {
         "lat": [
          45.4642,
          31.2304
         ],
         "line": {
          "color": "gray",
          "width": 2
         },
         "locationmode": "country names",
         "lon": [
          9.19,
          121.4737
         ],
         "mode": "lines",
         "name": "Milan → Shanghai",
         "type": "scattergeo"
        },
        {
         "lat": [
          45.4642,
          50.0647
         ],
         "line": {
          "color": "gray",
          "width": 2
         },
         "locationmode": "country names",
         "lon": [
          9.19,
          19.945
         ],
         "mode": "lines",
         "name": "Milan → Krakow",
         "type": "scattergeo"
        },
        {
         "lat": [
          19.076,
          48.1351
         ],
         "line": {
          "color": "gray",
          "width": 2
         },
         "locationmode": "country names",
         "lon": [
          72.8777,
          11.582
         ],
         "mode": "lines",
         "name": "Mumbai → Munich",
         "type": "scattergeo"
        },
        {
         "lat": [
          59.3293,
          31.2304
         ],
         "line": {
          "color": "gray",
          "width": 2
         },
         "locationmode": "country names",
         "lon": [
          18.0686,
          121.4737
         ],
         "mode": "lines",
         "name": "Stockholm → Shanghai",
         "type": "scattergeo"
        },
        {
         "lat": [
          59.3293,
          31.2304
         ],
         "line": {
          "color": "gray",
          "width": 2
         },
         "locationmode": "country names",
         "lon": [
          18.0686,
          121.4737
         ],
         "mode": "lines",
         "name": "Stockholm → Shanghai",
         "type": "scattergeo"
        },
        {
         "lat": [
          21.0285,
          41.8781
         ],
         "line": {
          "color": "gray",
          "width": 2
         },
         "locationmode": "country names",
         "lon": [
          105.8542,
          -87.6298
         ],
         "mode": "lines",
         "name": "Hanoi → Chicago",
         "type": "scattergeo"
        },
        {
         "lat": [
          59.3293,
          31.2304
         ],
         "line": {
          "color": "gray",
          "width": 2
         },
         "locationmode": "country names",
         "lon": [
          18.0686,
          121.4737
         ],
         "mode": "lines",
         "name": "Stockholm → Shanghai",
         "type": "scattergeo"
        },
        {
         "lat": [
          45.4642,
          48.1351
         ],
         "line": {
          "color": "gray",
          "width": 2
         },
         "locationmode": "country names",
         "lon": [
          9.19,
          11.582
         ],
         "mode": "lines",
         "name": "Milan → Munich",
         "type": "scattergeo"
        },
        {
         "lat": [
          45.4642,
          31.2304
         ],
         "line": {
          "color": "gray",
          "width": 2
         },
         "locationmode": "country names",
         "lon": [
          9.19,
          121.4737
         ],
         "mode": "lines",
         "name": "Milan → Shanghai",
         "type": "scattergeo"
        },
        {
         "lat": [
          45.4642,
          41.8781
         ],
         "line": {
          "color": "gray",
          "width": 2
         },
         "locationmode": "country names",
         "lon": [
          9.19,
          -87.6298
         ],
         "mode": "lines",
         "name": "Milan → Chicago",
         "type": "scattergeo"
        },
        {
         "lat": [
          21.0285,
          48.1351
         ],
         "line": {
          "color": "gray",
          "width": 2
         },
         "locationmode": "country names",
         "lon": [
          105.8542,
          11.582
         ],
         "mode": "lines",
         "name": "Hanoi → Munich",
         "type": "scattergeo"
        },
        {
         "lat": [
          45.4642,
          41.8781
         ],
         "line": {
          "color": "gray",
          "width": 2
         },
         "locationmode": "country names",
         "lon": [
          9.19,
          -87.6298
         ],
         "mode": "lines",
         "name": "Milan → Chicago",
         "type": "scattergeo"
        },
        {
         "lat": [
          45.4642,
          50.0647
         ],
         "line": {
          "color": "gray",
          "width": 2
         },
         "locationmode": "country names",
         "lon": [
          9.19,
          19.945
         ],
         "mode": "lines",
         "name": "Milan → Krakow",
         "type": "scattergeo"
        },
        {
         "lat": [
          59.3293,
          41.8781
         ],
         "line": {
          "color": "gray",
          "width": 2
         },
         "locationmode": "country names",
         "lon": [
          18.0686,
          -87.6298
         ],
         "mode": "lines",
         "name": "Stockholm → Chicago",
         "type": "scattergeo"
        },
        {
         "lat": [
          21.0285,
          48.1351
         ],
         "line": {
          "color": "gray",
          "width": 2
         },
         "locationmode": "country names",
         "lon": [
          105.8542,
          11.582
         ],
         "mode": "lines",
         "name": "Hanoi → Munich",
         "type": "scattergeo"
        },
        {
         "lat": [
          59.3293,
          31.2304
         ],
         "line": {
          "color": "gray",
          "width": 2
         },
         "locationmode": "country names",
         "lon": [
          18.0686,
          121.4737
         ],
         "mode": "lines",
         "name": "Stockholm → Shanghai",
         "type": "scattergeo"
        },
        {
         "lat": [
          19.076,
          41.8781
         ],
         "line": {
          "color": "gray",
          "width": 2
         },
         "locationmode": "country names",
         "lon": [
          72.8777,
          -87.6298
         ],
         "mode": "lines",
         "name": "Mumbai → Chicago",
         "type": "scattergeo"
        },
        {
         "lat": [
          21.0285,
          48.1351
         ],
         "line": {
          "color": "gray",
          "width": 2
         },
         "locationmode": "country names",
         "lon": [
          105.8542,
          11.582
         ],
         "mode": "lines",
         "name": "Hanoi → Munich",
         "type": "scattergeo"
        },
        {
         "lat": [
          19.076,
          41.8781
         ],
         "line": {
          "color": "gray",
          "width": 2
         },
         "locationmode": "country names",
         "lon": [
          72.8777,
          -87.6298
         ],
         "mode": "lines",
         "name": "Mumbai → Chicago",
         "type": "scattergeo"
        },
        {
         "lat": [
          19.076,
          48.1351
         ],
         "line": {
          "color": "gray",
          "width": 2
         },
         "locationmode": "country names",
         "lon": [
          72.8777,
          11.582
         ],
         "mode": "lines",
         "name": "Mumbai → Munich",
         "type": "scattergeo"
        },
        {
         "lat": [
          59.3293,
          50.0647
         ],
         "line": {
          "color": "gray",
          "width": 2
         },
         "locationmode": "country names",
         "lon": [
          18.0686,
          19.945
         ],
         "mode": "lines",
         "name": "Stockholm → Krakow",
         "type": "scattergeo"
        },
        {
         "lat": [
          59.3293,
          31.2304
         ],
         "line": {
          "color": "gray",
          "width": 2
         },
         "locationmode": "country names",
         "lon": [
          18.0686,
          121.4737
         ],
         "mode": "lines",
         "name": "Stockholm → Shanghai",
         "type": "scattergeo"
        },
        {
         "lat": [
          45.4642,
          41.8781
         ],
         "line": {
          "color": "gray",
          "width": 2
         },
         "locationmode": "country names",
         "lon": [
          9.19,
          -87.6298
         ],
         "mode": "lines",
         "name": "Milan → Chicago",
         "type": "scattergeo"
        },
        {
         "lat": [
          21.0285,
          41.8781
         ],
         "line": {
          "color": "gray",
          "width": 2
         },
         "locationmode": "country names",
         "lon": [
          105.8542,
          -87.6298
         ],
         "mode": "lines",
         "name": "Hanoi → Chicago",
         "type": "scattergeo"
        },
        {
         "lat": [
          21.0285,
          31.2304
         ],
         "line": {
          "color": "gray",
          "width": 2
         },
         "locationmode": "country names",
         "lon": [
          105.8542,
          121.4737
         ],
         "mode": "lines",
         "name": "Hanoi → Shanghai",
         "type": "scattergeo"
        },
        {
         "lat": [
          19.076,
          31.2304
         ],
         "line": {
          "color": "gray",
          "width": 2
         },
         "locationmode": "country names",
         "lon": [
          72.8777,
          121.4737
         ],
         "mode": "lines",
         "name": "Mumbai → Shanghai",
         "type": "scattergeo"
        },
        {
         "lat": [
          21.0285,
          41.8781
         ],
         "line": {
          "color": "gray",
          "width": 2
         },
         "locationmode": "country names",
         "lon": [
          105.8542,
          -87.6298
         ],
         "mode": "lines",
         "name": "Hanoi → Chicago",
         "type": "scattergeo"
        },
        {
         "lat": [
          19.076,
          31.2304
         ],
         "line": {
          "color": "gray",
          "width": 2
         },
         "locationmode": "country names",
         "lon": [
          72.8777,
          121.4737
         ],
         "mode": "lines",
         "name": "Mumbai → Shanghai",
         "type": "scattergeo"
        },
        {
         "lat": [
          45.4642,
          41.8781
         ],
         "line": {
          "color": "gray",
          "width": 2
         },
         "locationmode": "country names",
         "lon": [
          9.19,
          -87.6298
         ],
         "mode": "lines",
         "name": "Milan → Chicago",
         "type": "scattergeo"
        },
        {
         "lat": [
          45.4642,
          48.1351
         ],
         "line": {
          "color": "gray",
          "width": 2
         },
         "locationmode": "country names",
         "lon": [
          9.19,
          11.582
         ],
         "mode": "lines",
         "name": "Milan → Munich",
         "type": "scattergeo"
        },
        {
         "lat": [
          21.0285,
          31.2304
         ],
         "line": {
          "color": "gray",
          "width": 2
         },
         "locationmode": "country names",
         "lon": [
          105.8542,
          121.4737
         ],
         "mode": "lines",
         "name": "Hanoi → Shanghai",
         "type": "scattergeo"
        },
        {
         "lat": [
          19.076,
          31.2304
         ],
         "line": {
          "color": "gray",
          "width": 2
         },
         "locationmode": "country names",
         "lon": [
          72.8777,
          121.4737
         ],
         "mode": "lines",
         "name": "Mumbai → Shanghai",
         "type": "scattergeo"
        },
        {
         "lat": [
          45.4642,
          50.0647
         ],
         "line": {
          "color": "gray",
          "width": 2
         },
         "locationmode": "country names",
         "lon": [
          9.19,
          19.945
         ],
         "mode": "lines",
         "name": "Milan → Krakow",
         "type": "scattergeo"
        },
        {
         "lat": [
          21.0285,
          31.2304
         ],
         "line": {
          "color": "gray",
          "width": 2
         },
         "locationmode": "country names",
         "lon": [
          105.8542,
          121.4737
         ],
         "mode": "lines",
         "name": "Hanoi → Shanghai",
         "type": "scattergeo"
        },
        {
         "lat": [
          59.3293,
          48.1351
         ],
         "line": {
          "color": "gray",
          "width": 2
         },
         "locationmode": "country names",
         "lon": [
          18.0686,
          11.582
         ],
         "mode": "lines",
         "name": "Stockholm → Munich",
         "type": "scattergeo"
        },
        {
         "lat": [
          59.3293,
          48.1351
         ],
         "line": {
          "color": "gray",
          "width": 2
         },
         "locationmode": "country names",
         "lon": [
          18.0686,
          11.582
         ],
         "mode": "lines",
         "name": "Stockholm → Munich",
         "type": "scattergeo"
        },
        {
         "lat": [
          19.076,
          48.1351
         ],
         "line": {
          "color": "gray",
          "width": 2
         },
         "locationmode": "country names",
         "lon": [
          72.8777,
          11.582
         ],
         "mode": "lines",
         "name": "Mumbai → Munich",
         "type": "scattergeo"
        },
        {
         "lat": [
          21.0285,
          31.2304
         ],
         "line": {
          "color": "gray",
          "width": 2
         },
         "locationmode": "country names",
         "lon": [
          105.8542,
          121.4737
         ],
         "mode": "lines",
         "name": "Hanoi → Shanghai",
         "type": "scattergeo"
        },
        {
         "lat": [
          45.4642,
          41.8781
         ],
         "line": {
          "color": "gray",
          "width": 2
         },
         "locationmode": "country names",
         "lon": [
          9.19,
          -87.6298
         ],
         "mode": "lines",
         "name": "Milan → Chicago",
         "type": "scattergeo"
        },
        {
         "lat": [
          45.4642,
          41.8781
         ],
         "line": {
          "color": "gray",
          "width": 2
         },
         "locationmode": "country names",
         "lon": [
          9.19,
          -87.6298
         ],
         "mode": "lines",
         "name": "Milan → Chicago",
         "type": "scattergeo"
        },
        {
         "lat": [
          45.4642,
          41.8781
         ],
         "line": {
          "color": "gray",
          "width": 2
         },
         "locationmode": "country names",
         "lon": [
          9.19,
          -87.6298
         ],
         "mode": "lines",
         "name": "Milan → Chicago",
         "type": "scattergeo"
        },
        {
         "lat": [
          59.3293,
          50.0647
         ],
         "line": {
          "color": "gray",
          "width": 2
         },
         "locationmode": "country names",
         "lon": [
          18.0686,
          19.945
         ],
         "mode": "lines",
         "name": "Stockholm → Krakow",
         "type": "scattergeo"
        },
        {
         "lat": [
          21.0285,
          31.2304
         ],
         "line": {
          "color": "gray",
          "width": 2
         },
         "locationmode": "country names",
         "lon": [
          105.8542,
          121.4737
         ],
         "mode": "lines",
         "name": "Hanoi → Shanghai",
         "type": "scattergeo"
        },
        {
         "lat": [
          59.3293,
          48.1351
         ],
         "line": {
          "color": "gray",
          "width": 2
         },
         "locationmode": "country names",
         "lon": [
          18.0686,
          11.582
         ],
         "mode": "lines",
         "name": "Stockholm → Munich",
         "type": "scattergeo"
        },
        {
         "lat": [
          45.4642,
          50.0647
         ],
         "line": {
          "color": "gray",
          "width": 2
         },
         "locationmode": "country names",
         "lon": [
          9.19,
          19.945
         ],
         "mode": "lines",
         "name": "Milan → Krakow",
         "type": "scattergeo"
        },
        {
         "lat": [
          59.3293,
          31.2304
         ],
         "line": {
          "color": "gray",
          "width": 2
         },
         "locationmode": "country names",
         "lon": [
          18.0686,
          121.4737
         ],
         "mode": "lines",
         "name": "Stockholm → Shanghai",
         "type": "scattergeo"
        },
        {
         "lat": [
          45.4642,
          50.0647
         ],
         "line": {
          "color": "gray",
          "width": 2
         },
         "locationmode": "country names",
         "lon": [
          9.19,
          19.945
         ],
         "mode": "lines",
         "name": "Milan → Krakow",
         "type": "scattergeo"
        },
        {
         "lat": [
          19.076,
          50.0647
         ],
         "line": {
          "color": "gray",
          "width": 2
         },
         "locationmode": "country names",
         "lon": [
          72.8777,
          19.945
         ],
         "mode": "lines",
         "name": "Mumbai → Krakow",
         "type": "scattergeo"
        },
        {
         "lat": [
          59.3293,
          48.1351
         ],
         "line": {
          "color": "gray",
          "width": 2
         },
         "locationmode": "country names",
         "lon": [
          18.0686,
          11.582
         ],
         "mode": "lines",
         "name": "Stockholm → Munich",
         "type": "scattergeo"
        },
        {
         "lat": [
          19.076,
          41.8781
         ],
         "line": {
          "color": "gray",
          "width": 2
         },
         "locationmode": "country names",
         "lon": [
          72.8777,
          -87.6298
         ],
         "mode": "lines",
         "name": "Mumbai → Chicago",
         "type": "scattergeo"
        },
        {
         "lat": [
          21.0285,
          41.8781
         ],
         "line": {
          "color": "gray",
          "width": 2
         },
         "locationmode": "country names",
         "lon": [
          105.8542,
          -87.6298
         ],
         "mode": "lines",
         "name": "Hanoi → Chicago",
         "type": "scattergeo"
        },
        {
         "lat": [
          19.076,
          41.8781
         ],
         "line": {
          "color": "gray",
          "width": 2
         },
         "locationmode": "country names",
         "lon": [
          72.8777,
          -87.6298
         ],
         "mode": "lines",
         "name": "Mumbai → Chicago",
         "type": "scattergeo"
        },
        {
         "lat": [
          59.3293,
          41.8781
         ],
         "line": {
          "color": "gray",
          "width": 2
         },
         "locationmode": "country names",
         "lon": [
          18.0686,
          -87.6298
         ],
         "mode": "lines",
         "name": "Stockholm → Chicago",
         "type": "scattergeo"
        },
        {
         "lat": [
          59.3293,
          50.0647
         ],
         "line": {
          "color": "gray",
          "width": 2
         },
         "locationmode": "country names",
         "lon": [
          18.0686,
          19.945
         ],
         "mode": "lines",
         "name": "Stockholm → Krakow",
         "type": "scattergeo"
        },
        {
         "lat": [
          45.4642,
          50.0647
         ],
         "line": {
          "color": "gray",
          "width": 2
         },
         "locationmode": "country names",
         "lon": [
          9.19,
          19.945
         ],
         "mode": "lines",
         "name": "Milan → Krakow",
         "type": "scattergeo"
        },
        {
         "lat": [
          21.0285,
          50.0647
         ],
         "line": {
          "color": "gray",
          "width": 2
         },
         "locationmode": "country names",
         "lon": [
          105.8542,
          19.945
         ],
         "mode": "lines",
         "name": "Hanoi → Krakow",
         "type": "scattergeo"
        },
        {
         "lat": [
          21.0285,
          41.8781
         ],
         "line": {
          "color": "gray",
          "width": 2
         },
         "locationmode": "country names",
         "lon": [
          105.8542,
          -87.6298
         ],
         "mode": "lines",
         "name": "Hanoi → Chicago",
         "type": "scattergeo"
        },
        {
         "lat": [
          19.076,
          48.1351
         ],
         "line": {
          "color": "gray",
          "width": 2
         },
         "locationmode": "country names",
         "lon": [
          72.8777,
          11.582
         ],
         "mode": "lines",
         "name": "Mumbai → Munich",
         "type": "scattergeo"
        },
        {
         "lat": [
          21.0285,
          48.1351
         ],
         "line": {
          "color": "gray",
          "width": 2
         },
         "locationmode": "country names",
         "lon": [
          105.8542,
          11.582
         ],
         "mode": "lines",
         "name": "Hanoi → Munich",
         "type": "scattergeo"
        },
        {
         "lat": [
          45.4642,
          48.1351
         ],
         "line": {
          "color": "gray",
          "width": 2
         },
         "locationmode": "country names",
         "lon": [
          9.19,
          11.582
         ],
         "mode": "lines",
         "name": "Milan → Munich",
         "type": "scattergeo"
        },
        {
         "lat": [
          19.076,
          41.8781
         ],
         "line": {
          "color": "gray",
          "width": 2
         },
         "locationmode": "country names",
         "lon": [
          72.8777,
          -87.6298
         ],
         "mode": "lines",
         "name": "Mumbai → Chicago",
         "type": "scattergeo"
        },
        {
         "lat": [
          21.0285,
          41.8781
         ],
         "line": {
          "color": "gray",
          "width": 2
         },
         "locationmode": "country names",
         "lon": [
          105.8542,
          -87.6298
         ],
         "mode": "lines",
         "name": "Hanoi → Chicago",
         "type": "scattergeo"
        },
        {
         "lat": [
          45.4642,
          48.1351
         ],
         "line": {
          "color": "gray",
          "width": 2
         },
         "locationmode": "country names",
         "lon": [
          9.19,
          11.582
         ],
         "mode": "lines",
         "name": "Milan → Munich",
         "type": "scattergeo"
        },
        {
         "lat": [
          21.0285,
          48.1351
         ],
         "line": {
          "color": "gray",
          "width": 2
         },
         "locationmode": "country names",
         "lon": [
          105.8542,
          11.582
         ],
         "mode": "lines",
         "name": "Hanoi → Munich",
         "type": "scattergeo"
        },
        {
         "lat": [
          45.4642,
          48.1351
         ],
         "line": {
          "color": "gray",
          "width": 2
         },
         "locationmode": "country names",
         "lon": [
          9.19,
          11.582
         ],
         "mode": "lines",
         "name": "Milan → Munich",
         "type": "scattergeo"
        },
        {
         "lat": [
          19.076,
          31.2304
         ],
         "line": {
          "color": "gray",
          "width": 2
         },
         "locationmode": "country names",
         "lon": [
          72.8777,
          121.4737
         ],
         "mode": "lines",
         "name": "Mumbai → Shanghai",
         "type": "scattergeo"
        },
        {
         "lat": [
          45.4642,
          31.2304
         ],
         "line": {
          "color": "gray",
          "width": 2
         },
         "locationmode": "country names",
         "lon": [
          9.19,
          121.4737
         ],
         "mode": "lines",
         "name": "Milan → Shanghai",
         "type": "scattergeo"
        },
        {
         "lat": [
          45.4642,
          50.0647
         ],
         "line": {
          "color": "gray",
          "width": 2
         },
         "locationmode": "country names",
         "lon": [
          9.19,
          19.945
         ],
         "mode": "lines",
         "name": "Milan → Krakow",
         "type": "scattergeo"
        },
        {
         "lat": [
          59.3293,
          48.1351
         ],
         "line": {
          "color": "gray",
          "width": 2
         },
         "locationmode": "country names",
         "lon": [
          18.0686,
          11.582
         ],
         "mode": "lines",
         "name": "Stockholm → Munich",
         "type": "scattergeo"
        },
        {
         "lat": [
          59.3293,
          50.0647
         ],
         "line": {
          "color": "gray",
          "width": 2
         },
         "locationmode": "country names",
         "lon": [
          18.0686,
          19.945
         ],
         "mode": "lines",
         "name": "Stockholm → Krakow",
         "type": "scattergeo"
        },
        {
         "lat": [
          45.4642,
          41.8781
         ],
         "line": {
          "color": "gray",
          "width": 2
         },
         "locationmode": "country names",
         "lon": [
          9.19,
          -87.6298
         ],
         "mode": "lines",
         "name": "Milan → Chicago",
         "type": "scattergeo"
        },
        {
         "lat": [
          59.3293,
          31.2304
         ],
         "line": {
          "color": "gray",
          "width": 2
         },
         "locationmode": "country names",
         "lon": [
          18.0686,
          121.4737
         ],
         "mode": "lines",
         "name": "Stockholm → Shanghai",
         "type": "scattergeo"
        },
        {
         "lat": [
          59.3293,
          41.8781
         ],
         "line": {
          "color": "gray",
          "width": 2
         },
         "locationmode": "country names",
         "lon": [
          18.0686,
          -87.6298
         ],
         "mode": "lines",
         "name": "Stockholm → Chicago",
         "type": "scattergeo"
        },
        {
         "lat": [
          45.4642,
          48.1351
         ],
         "line": {
          "color": "gray",
          "width": 2
         },
         "locationmode": "country names",
         "lon": [
          9.19,
          11.582
         ],
         "mode": "lines",
         "name": "Milan → Munich",
         "type": "scattergeo"
        },
        {
         "lat": [
          21.0285,
          41.8781
         ],
         "line": {
          "color": "gray",
          "width": 2
         },
         "locationmode": "country names",
         "lon": [
          105.8542,
          -87.6298
         ],
         "mode": "lines",
         "name": "Hanoi → Chicago",
         "type": "scattergeo"
        },
        {
         "lat": [
          19.076,
          41.8781
         ],
         "line": {
          "color": "gray",
          "width": 2
         },
         "locationmode": "country names",
         "lon": [
          72.8777,
          -87.6298
         ],
         "mode": "lines",
         "name": "Mumbai → Chicago",
         "type": "scattergeo"
        },
        {
         "lat": [
          45.4642,
          48.1351
         ],
         "line": {
          "color": "gray",
          "width": 2
         },
         "locationmode": "country names",
         "lon": [
          9.19,
          11.582
         ],
         "mode": "lines",
         "name": "Milan → Munich",
         "type": "scattergeo"
        },
        {
         "lat": [
          21.0285,
          50.0647
         ],
         "line": {
          "color": "gray",
          "width": 2
         },
         "locationmode": "country names",
         "lon": [
          105.8542,
          19.945
         ],
         "mode": "lines",
         "name": "Hanoi → Krakow",
         "type": "scattergeo"
        },
        {
         "lat": [
          21.0285,
          41.8781
         ],
         "line": {
          "color": "gray",
          "width": 2
         },
         "locationmode": "country names",
         "lon": [
          105.8542,
          -87.6298
         ],
         "mode": "lines",
         "name": "Hanoi → Chicago",
         "type": "scattergeo"
        },
        {
         "lat": [
          21.0285,
          41.8781
         ],
         "line": {
          "color": "gray",
          "width": 2
         },
         "locationmode": "country names",
         "lon": [
          105.8542,
          -87.6298
         ],
         "mode": "lines",
         "name": "Hanoi → Chicago",
         "type": "scattergeo"
        },
        {
         "lat": [
          59.3293,
          31.2304
         ],
         "line": {
          "color": "gray",
          "width": 2
         },
         "locationmode": "country names",
         "lon": [
          18.0686,
          121.4737
         ],
         "mode": "lines",
         "name": "Stockholm → Shanghai",
         "type": "scattergeo"
        },
        {
         "lat": [
          21.0285,
          48.1351
         ],
         "line": {
          "color": "gray",
          "width": 2
         },
         "locationmode": "country names",
         "lon": [
          105.8542,
          11.582
         ],
         "mode": "lines",
         "name": "Hanoi → Munich",
         "type": "scattergeo"
        },
        {
         "lat": [
          45.4642,
          48.1351
         ],
         "line": {
          "color": "gray",
          "width": 2
         },
         "locationmode": "country names",
         "lon": [
          9.19,
          11.582
         ],
         "mode": "lines",
         "name": "Milan → Munich",
         "type": "scattergeo"
        },
        {
         "lat": [
          21.0285,
          50.0647
         ],
         "line": {
          "color": "gray",
          "width": 2
         },
         "locationmode": "country names",
         "lon": [
          105.8542,
          19.945
         ],
         "mode": "lines",
         "name": "Hanoi → Krakow",
         "type": "scattergeo"
        },
        {
         "lat": [
          45.4642,
          50.0647
         ],
         "line": {
          "color": "gray",
          "width": 2
         },
         "locationmode": "country names",
         "lon": [
          9.19,
          19.945
         ],
         "mode": "lines",
         "name": "Milan → Krakow",
         "type": "scattergeo"
        },
        {
         "lat": [
          21.0285,
          50.0647
         ],
         "line": {
          "color": "gray",
          "width": 2
         },
         "locationmode": "country names",
         "lon": [
          105.8542,
          19.945
         ],
         "mode": "lines",
         "name": "Hanoi → Krakow",
         "type": "scattergeo"
        },
        {
         "lat": [
          19.076,
          41.8781
         ],
         "line": {
          "color": "gray",
          "width": 2
         },
         "locationmode": "country names",
         "lon": [
          72.8777,
          -87.6298
         ],
         "mode": "lines",
         "name": "Mumbai → Chicago",
         "type": "scattergeo"
        },
        {
         "lat": [
          45.4642,
          50.0647
         ],
         "line": {
          "color": "gray",
          "width": 2
         },
         "locationmode": "country names",
         "lon": [
          9.19,
          19.945
         ],
         "mode": "lines",
         "name": "Milan → Krakow",
         "type": "scattergeo"
        },
        {
         "lat": [
          59.3293,
          31.2304
         ],
         "line": {
          "color": "gray",
          "width": 2
         },
         "locationmode": "country names",
         "lon": [
          18.0686,
          121.4737
         ],
         "mode": "lines",
         "name": "Stockholm → Shanghai",
         "type": "scattergeo"
        },
        {
         "lat": [
          45.4642,
          41.8781
         ],
         "line": {
          "color": "gray",
          "width": 2
         },
         "locationmode": "country names",
         "lon": [
          9.19,
          -87.6298
         ],
         "mode": "lines",
         "name": "Milan → Chicago",
         "type": "scattergeo"
        },
        {
         "lat": [
          45.4642,
          41.8781
         ],
         "line": {
          "color": "gray",
          "width": 2
         },
         "locationmode": "country names",
         "lon": [
          9.19,
          -87.6298
         ],
         "mode": "lines",
         "name": "Milan → Chicago",
         "type": "scattergeo"
        },
        {
         "lat": [
          19.076,
          31.2304
         ],
         "line": {
          "color": "gray",
          "width": 2
         },
         "locationmode": "country names",
         "lon": [
          72.8777,
          121.4737
         ],
         "mode": "lines",
         "name": "Mumbai → Shanghai",
         "type": "scattergeo"
        },
        {
         "lat": [
          19.076,
          48.1351
         ],
         "line": {
          "color": "gray",
          "width": 2
         },
         "locationmode": "country names",
         "lon": [
          72.8777,
          11.582
         ],
         "mode": "lines",
         "name": "Mumbai → Munich",
         "type": "scattergeo"
        },
        {
         "lat": [
          45.4642,
          48.1351
         ],
         "line": {
          "color": "gray",
          "width": 2
         },
         "locationmode": "country names",
         "lon": [
          9.19,
          11.582
         ],
         "mode": "lines",
         "name": "Milan → Munich",
         "type": "scattergeo"
        },
        {
         "lat": [
          19.076,
          50.0647
         ],
         "line": {
          "color": "gray",
          "width": 2
         },
         "locationmode": "country names",
         "lon": [
          72.8777,
          19.945
         ],
         "mode": "lines",
         "name": "Mumbai → Krakow",
         "type": "scattergeo"
        },
        {
         "lat": [
          59.3293,
          48.1351
         ],
         "line": {
          "color": "gray",
          "width": 2
         },
         "locationmode": "country names",
         "lon": [
          18.0686,
          11.582
         ],
         "mode": "lines",
         "name": "Stockholm → Munich",
         "type": "scattergeo"
        },
        {
         "lat": [
          59.3293,
          48.1351
         ],
         "line": {
          "color": "gray",
          "width": 2
         },
         "locationmode": "country names",
         "lon": [
          18.0686,
          11.582
         ],
         "mode": "lines",
         "name": "Stockholm → Munich",
         "type": "scattergeo"
        },
        {
         "lat": [
          21.0285,
          50.0647
         ],
         "line": {
          "color": "gray",
          "width": 2
         },
         "locationmode": "country names",
         "lon": [
          105.8542,
          19.945
         ],
         "mode": "lines",
         "name": "Hanoi → Krakow",
         "type": "scattergeo"
        },
        {
         "lat": [
          19.076,
          50.0647
         ],
         "line": {
          "color": "gray",
          "width": 2
         },
         "locationmode": "country names",
         "lon": [
          72.8777,
          19.945
         ],
         "mode": "lines",
         "name": "Mumbai → Krakow",
         "type": "scattergeo"
        },
        {
         "lat": [
          19.076,
          31.2304
         ],
         "line": {
          "color": "gray",
          "width": 2
         },
         "locationmode": "country names",
         "lon": [
          72.8777,
          121.4737
         ],
         "mode": "lines",
         "name": "Mumbai → Shanghai",
         "type": "scattergeo"
        },
        {
         "lat": [
          21.0285,
          31.2304
         ],
         "line": {
          "color": "gray",
          "width": 2
         },
         "locationmode": "country names",
         "lon": [
          105.8542,
          121.4737
         ],
         "mode": "lines",
         "name": "Hanoi → Shanghai",
         "type": "scattergeo"
        },
        {
         "lat": [
          19.076,
          50.0647
         ],
         "line": {
          "color": "gray",
          "width": 2
         },
         "locationmode": "country names",
         "lon": [
          72.8777,
          19.945
         ],
         "mode": "lines",
         "name": "Mumbai → Krakow",
         "type": "scattergeo"
        },
        {
         "lat": [
          21.0285,
          31.2304
         ],
         "line": {
          "color": "gray",
          "width": 2
         },
         "locationmode": "country names",
         "lon": [
          105.8542,
          121.4737
         ],
         "mode": "lines",
         "name": "Hanoi → Shanghai",
         "type": "scattergeo"
        },
        {
         "lat": [
          21.0285,
          48.1351
         ],
         "line": {
          "color": "gray",
          "width": 2
         },
         "locationmode": "country names",
         "lon": [
          105.8542,
          11.582
         ],
         "mode": "lines",
         "name": "Hanoi → Munich",
         "type": "scattergeo"
        },
        {
         "lat": [
          59.3293,
          48.1351
         ],
         "line": {
          "color": "gray",
          "width": 2
         },
         "locationmode": "country names",
         "lon": [
          18.0686,
          11.582
         ],
         "mode": "lines",
         "name": "Stockholm → Munich",
         "type": "scattergeo"
        },
        {
         "lat": [
          59.3293,
          50.0647
         ],
         "line": {
          "color": "gray",
          "width": 2
         },
         "locationmode": "country names",
         "lon": [
          18.0686,
          19.945
         ],
         "mode": "lines",
         "name": "Stockholm → Krakow",
         "type": "scattergeo"
        },
        {
         "lat": [
          21.0285,
          50.0647
         ],
         "line": {
          "color": "gray",
          "width": 2
         },
         "locationmode": "country names",
         "lon": [
          105.8542,
          19.945
         ],
         "mode": "lines",
         "name": "Hanoi → Krakow",
         "type": "scattergeo"
        },
        {
         "lat": [
          45.4642,
          41.8781
         ],
         "line": {
          "color": "gray",
          "width": 2
         },
         "locationmode": "country names",
         "lon": [
          9.19,
          -87.6298
         ],
         "mode": "lines",
         "name": "Milan → Chicago",
         "type": "scattergeo"
        },
        {
         "lat": [
          45.4642,
          50.0647
         ],
         "line": {
          "color": "gray",
          "width": 2
         },
         "locationmode": "country names",
         "lon": [
          9.19,
          19.945
         ],
         "mode": "lines",
         "name": "Milan → Krakow",
         "type": "scattergeo"
        },
        {
         "lat": [
          19.076,
          50.0647
         ],
         "line": {
          "color": "gray",
          "width": 2
         },
         "locationmode": "country names",
         "lon": [
          72.8777,
          19.945
         ],
         "mode": "lines",
         "name": "Mumbai → Krakow",
         "type": "scattergeo"
        },
        {
         "lat": [
          59.3293,
          31.2304
         ],
         "line": {
          "color": "gray",
          "width": 2
         },
         "locationmode": "country names",
         "lon": [
          18.0686,
          121.4737
         ],
         "mode": "lines",
         "name": "Stockholm → Shanghai",
         "type": "scattergeo"
        },
        {
         "lat": [
          21.0285,
          50.0647
         ],
         "line": {
          "color": "gray",
          "width": 2
         },
         "locationmode": "country names",
         "lon": [
          105.8542,
          19.945
         ],
         "mode": "lines",
         "name": "Hanoi → Krakow",
         "type": "scattergeo"
        },
        {
         "lat": [
          19.076,
          48.1351
         ],
         "line": {
          "color": "gray",
          "width": 2
         },
         "locationmode": "country names",
         "lon": [
          72.8777,
          11.582
         ],
         "mode": "lines",
         "name": "Mumbai → Munich",
         "type": "scattergeo"
        },
        {
         "lat": [
          59.3293,
          48.1351
         ],
         "line": {
          "color": "gray",
          "width": 2
         },
         "locationmode": "country names",
         "lon": [
          18.0686,
          11.582
         ],
         "mode": "lines",
         "name": "Stockholm → Munich",
         "type": "scattergeo"
        },
        {
         "lat": [
          19.076,
          48.1351
         ],
         "line": {
          "color": "gray",
          "width": 2
         },
         "locationmode": "country names",
         "lon": [
          72.8777,
          11.582
         ],
         "mode": "lines",
         "name": "Mumbai → Munich",
         "type": "scattergeo"
        },
        {
         "lat": [
          45.4642,
          31.2304
         ],
         "line": {
          "color": "gray",
          "width": 2
         },
         "locationmode": "country names",
         "lon": [
          9.19,
          121.4737
         ],
         "mode": "lines",
         "name": "Milan → Shanghai",
         "type": "scattergeo"
        },
        {
         "lat": [
          45.4642,
          48.1351
         ],
         "line": {
          "color": "gray",
          "width": 2
         },
         "locationmode": "country names",
         "lon": [
          9.19,
          11.582
         ],
         "mode": "lines",
         "name": "Milan → Munich",
         "type": "scattergeo"
        },
        {
         "lat": [
          21.0285,
          48.1351
         ],
         "line": {
          "color": "gray",
          "width": 2
         },
         "locationmode": "country names",
         "lon": [
          105.8542,
          11.582
         ],
         "mode": "lines",
         "name": "Hanoi → Munich",
         "type": "scattergeo"
        },
        {
         "lat": [
          59.3293,
          41.8781
         ],
         "line": {
          "color": "gray",
          "width": 2
         },
         "locationmode": "country names",
         "lon": [
          18.0686,
          -87.6298
         ],
         "mode": "lines",
         "name": "Stockholm → Chicago",
         "type": "scattergeo"
        },
        {
         "lat": [
          45.4642,
          41.8781
         ],
         "line": {
          "color": "gray",
          "width": 2
         },
         "locationmode": "country names",
         "lon": [
          9.19,
          -87.6298
         ],
         "mode": "lines",
         "name": "Milan → Chicago",
         "type": "scattergeo"
        },
        {
         "lat": [
          19.076,
          48.1351
         ],
         "line": {
          "color": "gray",
          "width": 2
         },
         "locationmode": "country names",
         "lon": [
          72.8777,
          11.582
         ],
         "mode": "lines",
         "name": "Mumbai → Munich",
         "type": "scattergeo"
        },
        {
         "lat": [
          21.0285,
          48.1351
         ],
         "line": {
          "color": "gray",
          "width": 2
         },
         "locationmode": "country names",
         "lon": [
          105.8542,
          11.582
         ],
         "mode": "lines",
         "name": "Hanoi → Munich",
         "type": "scattergeo"
        },
        {
         "lat": [
          19.076,
          31.2304
         ],
         "line": {
          "color": "gray",
          "width": 2
         },
         "locationmode": "country names",
         "lon": [
          72.8777,
          121.4737
         ],
         "mode": "lines",
         "name": "Mumbai → Shanghai",
         "type": "scattergeo"
        },
        {
         "lat": [
          45.4642,
          41.8781
         ],
         "line": {
          "color": "gray",
          "width": 2
         },
         "locationmode": "country names",
         "lon": [
          9.19,
          -87.6298
         ],
         "mode": "lines",
         "name": "Milan → Chicago",
         "type": "scattergeo"
        },
        {
         "lat": [
          19.076,
          50.0647
         ],
         "line": {
          "color": "gray",
          "width": 2
         },
         "locationmode": "country names",
         "lon": [
          72.8777,
          19.945
         ],
         "mode": "lines",
         "name": "Mumbai → Krakow",
         "type": "scattergeo"
        },
        {
         "lat": [
          21.0285,
          31.2304
         ],
         "line": {
          "color": "gray",
          "width": 2
         },
         "locationmode": "country names",
         "lon": [
          105.8542,
          121.4737
         ],
         "mode": "lines",
         "name": "Hanoi → Shanghai",
         "type": "scattergeo"
        },
        {
         "lat": [
          21.0285,
          41.8781
         ],
         "line": {
          "color": "gray",
          "width": 2
         },
         "locationmode": "country names",
         "lon": [
          105.8542,
          -87.6298
         ],
         "mode": "lines",
         "name": "Hanoi → Chicago",
         "type": "scattergeo"
        },
        {
         "lat": [
          21.0285,
          31.2304
         ],
         "line": {
          "color": "gray",
          "width": 2
         },
         "locationmode": "country names",
         "lon": [
          105.8542,
          121.4737
         ],
         "mode": "lines",
         "name": "Hanoi → Shanghai",
         "type": "scattergeo"
        },
        {
         "lat": [
          21.0285,
          41.8781
         ],
         "line": {
          "color": "gray",
          "width": 2
         },
         "locationmode": "country names",
         "lon": [
          105.8542,
          -87.6298
         ],
         "mode": "lines",
         "name": "Hanoi → Chicago",
         "type": "scattergeo"
        },
        {
         "lat": [
          21.0285,
          31.2304
         ],
         "line": {
          "color": "gray",
          "width": 2
         },
         "locationmode": "country names",
         "lon": [
          105.8542,
          121.4737
         ],
         "mode": "lines",
         "name": "Hanoi → Shanghai",
         "type": "scattergeo"
        },
        {
         "lat": [
          45.4642,
          48.1351
         ],
         "line": {
          "color": "gray",
          "width": 2
         },
         "locationmode": "country names",
         "lon": [
          9.19,
          11.582
         ],
         "mode": "lines",
         "name": "Milan → Munich",
         "type": "scattergeo"
        },
        {
         "lat": [
          59.3293,
          50.0647
         ],
         "line": {
          "color": "gray",
          "width": 2
         },
         "locationmode": "country names",
         "lon": [
          18.0686,
          19.945
         ],
         "mode": "lines",
         "name": "Stockholm → Krakow",
         "type": "scattergeo"
        },
        {
         "lat": [
          45.4642,
          41.8781
         ],
         "line": {
          "color": "gray",
          "width": 2
         },
         "locationmode": "country names",
         "lon": [
          9.19,
          -87.6298
         ],
         "mode": "lines",
         "name": "Milan → Chicago",
         "type": "scattergeo"
        },
        {
         "lat": [
          19.076,
          50.0647
         ],
         "line": {
          "color": "gray",
          "width": 2
         },
         "locationmode": "country names",
         "lon": [
          72.8777,
          19.945
         ],
         "mode": "lines",
         "name": "Mumbai → Krakow",
         "type": "scattergeo"
        },
        {
         "lat": [
          45.4642,
          31.2304
         ],
         "line": {
          "color": "gray",
          "width": 2
         },
         "locationmode": "country names",
         "lon": [
          9.19,
          121.4737
         ],
         "mode": "lines",
         "name": "Milan → Shanghai",
         "type": "scattergeo"
        },
        {
         "lat": [
          45.4642,
          31.2304
         ],
         "line": {
          "color": "gray",
          "width": 2
         },
         "locationmode": "country names",
         "lon": [
          9.19,
          121.4737
         ],
         "mode": "lines",
         "name": "Milan → Shanghai",
         "type": "scattergeo"
        },
        {
         "lat": [
          59.3293,
          48.1351
         ],
         "line": {
          "color": "gray",
          "width": 2
         },
         "locationmode": "country names",
         "lon": [
          18.0686,
          11.582
         ],
         "mode": "lines",
         "name": "Stockholm → Munich",
         "type": "scattergeo"
        },
        {
         "lat": [
          21.0285,
          31.2304
         ],
         "line": {
          "color": "gray",
          "width": 2
         },
         "locationmode": "country names",
         "lon": [
          105.8542,
          121.4737
         ],
         "mode": "lines",
         "name": "Hanoi → Shanghai",
         "type": "scattergeo"
        },
        {
         "lat": [
          21.0285,
          50.0647
         ],
         "line": {
          "color": "gray",
          "width": 2
         },
         "locationmode": "country names",
         "lon": [
          105.8542,
          19.945
         ],
         "mode": "lines",
         "name": "Hanoi → Krakow",
         "type": "scattergeo"
        },
        {
         "lat": [
          21.0285,
          41.8781
         ],
         "line": {
          "color": "gray",
          "width": 2
         },
         "locationmode": "country names",
         "lon": [
          105.8542,
          -87.6298
         ],
         "mode": "lines",
         "name": "Hanoi → Chicago",
         "type": "scattergeo"
        },
        {
         "lat": [
          21.0285,
          48.1351
         ],
         "line": {
          "color": "gray",
          "width": 2
         },
         "locationmode": "country names",
         "lon": [
          105.8542,
          11.582
         ],
         "mode": "lines",
         "name": "Hanoi → Munich",
         "type": "scattergeo"
        },
        {
         "lat": [
          21.0285,
          41.8781
         ],
         "line": {
          "color": "gray",
          "width": 2
         },
         "locationmode": "country names",
         "lon": [
          105.8542,
          -87.6298
         ],
         "mode": "lines",
         "name": "Hanoi → Chicago",
         "type": "scattergeo"
        },
        {
         "lat": [
          45.4642,
          48.1351
         ],
         "line": {
          "color": "gray",
          "width": 2
         },
         "locationmode": "country names",
         "lon": [
          9.19,
          11.582
         ],
         "mode": "lines",
         "name": "Milan → Munich",
         "type": "scattergeo"
        },
        {
         "lat": [
          21.0285,
          50.0647
         ],
         "line": {
          "color": "gray",
          "width": 2
         },
         "locationmode": "country names",
         "lon": [
          105.8542,
          19.945
         ],
         "mode": "lines",
         "name": "Hanoi → Krakow",
         "type": "scattergeo"
        },
        {
         "lat": [
          21.0285,
          48.1351
         ],
         "line": {
          "color": "gray",
          "width": 2
         },
         "locationmode": "country names",
         "lon": [
          105.8542,
          11.582
         ],
         "mode": "lines",
         "name": "Hanoi → Munich",
         "type": "scattergeo"
        },
        {
         "lat": [
          59.3293,
          41.8781
         ],
         "line": {
          "color": "gray",
          "width": 2
         },
         "locationmode": "country names",
         "lon": [
          18.0686,
          -87.6298
         ],
         "mode": "lines",
         "name": "Stockholm → Chicago",
         "type": "scattergeo"
        },
        {
         "lat": [
          59.3293,
          41.8781
         ],
         "line": {
          "color": "gray",
          "width": 2
         },
         "locationmode": "country names",
         "lon": [
          18.0686,
          -87.6298
         ],
         "mode": "lines",
         "name": "Stockholm → Chicago",
         "type": "scattergeo"
        },
        {
         "lat": [
          59.3293,
          50.0647
         ],
         "line": {
          "color": "gray",
          "width": 2
         },
         "locationmode": "country names",
         "lon": [
          18.0686,
          19.945
         ],
         "mode": "lines",
         "name": "Stockholm → Krakow",
         "type": "scattergeo"
        },
        {
         "lat": [
          59.3293,
          31.2304
         ],
         "line": {
          "color": "gray",
          "width": 2
         },
         "locationmode": "country names",
         "lon": [
          18.0686,
          121.4737
         ],
         "mode": "lines",
         "name": "Stockholm → Shanghai",
         "type": "scattergeo"
        },
        {
         "lat": [
          21.0285,
          41.8781
         ],
         "line": {
          "color": "gray",
          "width": 2
         },
         "locationmode": "country names",
         "lon": [
          105.8542,
          -87.6298
         ],
         "mode": "lines",
         "name": "Hanoi → Chicago",
         "type": "scattergeo"
        },
        {
         "lat": [
          21.0285,
          41.8781
         ],
         "line": {
          "color": "gray",
          "width": 2
         },
         "locationmode": "country names",
         "lon": [
          105.8542,
          -87.6298
         ],
         "mode": "lines",
         "name": "Hanoi → Chicago",
         "type": "scattergeo"
        },
        {
         "lat": [
          59.3293,
          31.2304
         ],
         "line": {
          "color": "gray",
          "width": 2
         },
         "locationmode": "country names",
         "lon": [
          18.0686,
          121.4737
         ],
         "mode": "lines",
         "name": "Stockholm → Shanghai",
         "type": "scattergeo"
        },
        {
         "lat": [
          21.0285,
          50.0647
         ],
         "line": {
          "color": "gray",
          "width": 2
         },
         "locationmode": "country names",
         "lon": [
          105.8542,
          19.945
         ],
         "mode": "lines",
         "name": "Hanoi → Krakow",
         "type": "scattergeo"
        },
        {
         "lat": [
          45.4642,
          48.1351
         ],
         "line": {
          "color": "gray",
          "width": 2
         },
         "locationmode": "country names",
         "lon": [
          9.19,
          11.582
         ],
         "mode": "lines",
         "name": "Milan → Munich",
         "type": "scattergeo"
        },
        {
         "lat": [
          19.076,
          41.8781
         ],
         "line": {
          "color": "gray",
          "width": 2
         },
         "locationmode": "country names",
         "lon": [
          72.8777,
          -87.6298
         ],
         "mode": "lines",
         "name": "Mumbai → Chicago",
         "type": "scattergeo"
        },
        {
         "lat": [
          45.4642,
          50.0647
         ],
         "line": {
          "color": "gray",
          "width": 2
         },
         "locationmode": "country names",
         "lon": [
          9.19,
          19.945
         ],
         "mode": "lines",
         "name": "Milan → Krakow",
         "type": "scattergeo"
        },
        {
         "lat": [
          59.3293,
          48.1351
         ],
         "line": {
          "color": "gray",
          "width": 2
         },
         "locationmode": "country names",
         "lon": [
          18.0686,
          11.582
         ],
         "mode": "lines",
         "name": "Stockholm → Munich",
         "type": "scattergeo"
        },
        {
         "lat": [
          19.076,
          41.8781
         ],
         "line": {
          "color": "gray",
          "width": 2
         },
         "locationmode": "country names",
         "lon": [
          72.8777,
          -87.6298
         ],
         "mode": "lines",
         "name": "Mumbai → Chicago",
         "type": "scattergeo"
        },
        {
         "lat": [
          21.0285,
          48.1351
         ],
         "line": {
          "color": "gray",
          "width": 2
         },
         "locationmode": "country names",
         "lon": [
          105.8542,
          11.582
         ],
         "mode": "lines",
         "name": "Hanoi → Munich",
         "type": "scattergeo"
        },
        {
         "lat": [
          19.076,
          50.0647
         ],
         "line": {
          "color": "gray",
          "width": 2
         },
         "locationmode": "country names",
         "lon": [
          72.8777,
          19.945
         ],
         "mode": "lines",
         "name": "Mumbai → Krakow",
         "type": "scattergeo"
        },
        {
         "lat": [
          59.3293,
          48.1351
         ],
         "line": {
          "color": "gray",
          "width": 2
         },
         "locationmode": "country names",
         "lon": [
          18.0686,
          11.582
         ],
         "mode": "lines",
         "name": "Stockholm → Munich",
         "type": "scattergeo"
        },
        {
         "lat": [
          19.076,
          50.0647
         ],
         "line": {
          "color": "gray",
          "width": 2
         },
         "locationmode": "country names",
         "lon": [
          72.8777,
          19.945
         ],
         "mode": "lines",
         "name": "Mumbai → Krakow",
         "type": "scattergeo"
        },
        {
         "lat": [
          45.4642,
          50.0647
         ],
         "line": {
          "color": "gray",
          "width": 2
         },
         "locationmode": "country names",
         "lon": [
          9.19,
          19.945
         ],
         "mode": "lines",
         "name": "Milan → Krakow",
         "type": "scattergeo"
        },
        {
         "lat": [
          59.3293,
          48.1351
         ],
         "line": {
          "color": "gray",
          "width": 2
         },
         "locationmode": "country names",
         "lon": [
          18.0686,
          11.582
         ],
         "mode": "lines",
         "name": "Stockholm → Munich",
         "type": "scattergeo"
        },
        {
         "lat": [
          21.0285,
          41.8781
         ],
         "line": {
          "color": "gray",
          "width": 2
         },
         "locationmode": "country names",
         "lon": [
          105.8542,
          -87.6298
         ],
         "mode": "lines",
         "name": "Hanoi → Chicago",
         "type": "scattergeo"
        },
        {
         "lat": [
          19.076,
          48.1351
         ],
         "line": {
          "color": "gray",
          "width": 2
         },
         "locationmode": "country names",
         "lon": [
          72.8777,
          11.582
         ],
         "mode": "lines",
         "name": "Mumbai → Munich",
         "type": "scattergeo"
        },
        {
         "lat": [
          45.4642,
          48.1351
         ],
         "line": {
          "color": "gray",
          "width": 2
         },
         "locationmode": "country names",
         "lon": [
          9.19,
          11.582
         ],
         "mode": "lines",
         "name": "Milan → Munich",
         "type": "scattergeo"
        },
        {
         "lat": [
          59.3293,
          50.0647
         ],
         "line": {
          "color": "gray",
          "width": 2
         },
         "locationmode": "country names",
         "lon": [
          18.0686,
          19.945
         ],
         "mode": "lines",
         "name": "Stockholm → Krakow",
         "type": "scattergeo"
        },
        {
         "lat": [
          59.3293,
          31.2304
         ],
         "line": {
          "color": "gray",
          "width": 2
         },
         "locationmode": "country names",
         "lon": [
          18.0686,
          121.4737
         ],
         "mode": "lines",
         "name": "Stockholm → Shanghai",
         "type": "scattergeo"
        },
        {
         "lat": [
          45.4642,
          50.0647
         ],
         "line": {
          "color": "gray",
          "width": 2
         },
         "locationmode": "country names",
         "lon": [
          9.19,
          19.945
         ],
         "mode": "lines",
         "name": "Milan → Krakow",
         "type": "scattergeo"
        },
        {
         "lat": [
          21.0285,
          41.8781
         ],
         "line": {
          "color": "gray",
          "width": 2
         },
         "locationmode": "country names",
         "lon": [
          105.8542,
          -87.6298
         ],
         "mode": "lines",
         "name": "Hanoi → Chicago",
         "type": "scattergeo"
        },
        {
         "lat": [
          19.076,
          41.8781
         ],
         "line": {
          "color": "gray",
          "width": 2
         },
         "locationmode": "country names",
         "lon": [
          72.8777,
          -87.6298
         ],
         "mode": "lines",
         "name": "Mumbai → Chicago",
         "type": "scattergeo"
        },
        {
         "lat": [
          21.0285,
          41.8781
         ],
         "line": {
          "color": "gray",
          "width": 2
         },
         "locationmode": "country names",
         "lon": [
          105.8542,
          -87.6298
         ],
         "mode": "lines",
         "name": "Hanoi → Chicago",
         "type": "scattergeo"
        },
        {
         "lat": [
          19.076,
          48.1351
         ],
         "line": {
          "color": "gray",
          "width": 2
         },
         "locationmode": "country names",
         "lon": [
          72.8777,
          11.582
         ],
         "mode": "lines",
         "name": "Mumbai → Munich",
         "type": "scattergeo"
        },
        {
         "lat": [
          19.076,
          31.2304
         ],
         "line": {
          "color": "gray",
          "width": 2
         },
         "locationmode": "country names",
         "lon": [
          72.8777,
          121.4737
         ],
         "mode": "lines",
         "name": "Mumbai → Shanghai",
         "type": "scattergeo"
        },
        {
         "lat": [
          59.3293,
          50.0647
         ],
         "line": {
          "color": "gray",
          "width": 2
         },
         "locationmode": "country names",
         "lon": [
          18.0686,
          19.945
         ],
         "mode": "lines",
         "name": "Stockholm → Krakow",
         "type": "scattergeo"
        },
        {
         "lat": [
          21.0285,
          50.0647
         ],
         "line": {
          "color": "gray",
          "width": 2
         },
         "locationmode": "country names",
         "lon": [
          105.8542,
          19.945
         ],
         "mode": "lines",
         "name": "Hanoi → Krakow",
         "type": "scattergeo"
        },
        {
         "lat": [
          19.076,
          31.2304
         ],
         "line": {
          "color": "gray",
          "width": 2
         },
         "locationmode": "country names",
         "lon": [
          72.8777,
          121.4737
         ],
         "mode": "lines",
         "name": "Mumbai → Shanghai",
         "type": "scattergeo"
        },
        {
         "lat": [
          21.0285,
          48.1351
         ],
         "line": {
          "color": "gray",
          "width": 2
         },
         "locationmode": "country names",
         "lon": [
          105.8542,
          11.582
         ],
         "mode": "lines",
         "name": "Hanoi → Munich",
         "type": "scattergeo"
        },
        {
         "lat": [
          59.3293,
          41.8781
         ],
         "line": {
          "color": "gray",
          "width": 2
         },
         "locationmode": "country names",
         "lon": [
          18.0686,
          -87.6298
         ],
         "mode": "lines",
         "name": "Stockholm → Chicago",
         "type": "scattergeo"
        },
        {
         "lat": [
          19.076,
          31.2304
         ],
         "line": {
          "color": "gray",
          "width": 2
         },
         "locationmode": "country names",
         "lon": [
          72.8777,
          121.4737
         ],
         "mode": "lines",
         "name": "Mumbai → Shanghai",
         "type": "scattergeo"
        },
        {
         "lat": [
          45.4642,
          41.8781
         ],
         "line": {
          "color": "gray",
          "width": 2
         },
         "locationmode": "country names",
         "lon": [
          9.19,
          -87.6298
         ],
         "mode": "lines",
         "name": "Milan → Chicago",
         "type": "scattergeo"
        },
        {
         "lat": [
          45.4642,
          48.1351
         ],
         "line": {
          "color": "gray",
          "width": 2
         },
         "locationmode": "country names",
         "lon": [
          9.19,
          11.582
         ],
         "mode": "lines",
         "name": "Milan → Munich",
         "type": "scattergeo"
        },
        {
         "lat": [
          21.0285,
          48.1351
         ],
         "line": {
          "color": "gray",
          "width": 2
         },
         "locationmode": "country names",
         "lon": [
          105.8542,
          11.582
         ],
         "mode": "lines",
         "name": "Hanoi → Munich",
         "type": "scattergeo"
        },
        {
         "lat": [
          19.076,
          41.8781
         ],
         "line": {
          "color": "gray",
          "width": 2
         },
         "locationmode": "country names",
         "lon": [
          72.8777,
          -87.6298
         ],
         "mode": "lines",
         "name": "Mumbai → Chicago",
         "type": "scattergeo"
        },
        {
         "lat": [
          21.0285,
          48.1351
         ],
         "line": {
          "color": "gray",
          "width": 2
         },
         "locationmode": "country names",
         "lon": [
          105.8542,
          11.582
         ],
         "mode": "lines",
         "name": "Hanoi → Munich",
         "type": "scattergeo"
        },
        {
         "lat": [
          45.4642,
          48.1351
         ],
         "line": {
          "color": "gray",
          "width": 2
         },
         "locationmode": "country names",
         "lon": [
          9.19,
          11.582
         ],
         "mode": "lines",
         "name": "Milan → Munich",
         "type": "scattergeo"
        },
        {
         "lat": [
          21.0285,
          48.1351
         ],
         "line": {
          "color": "gray",
          "width": 2
         },
         "locationmode": "country names",
         "lon": [
          105.8542,
          11.582
         ],
         "mode": "lines",
         "name": "Hanoi → Munich",
         "type": "scattergeo"
        },
        {
         "lat": [
          45.4642,
          31.2304
         ],
         "line": {
          "color": "gray",
          "width": 2
         },
         "locationmode": "country names",
         "lon": [
          9.19,
          121.4737
         ],
         "mode": "lines",
         "name": "Milan → Shanghai",
         "type": "scattergeo"
        },
        {
         "lat": [
          59.3293,
          50.0647
         ],
         "line": {
          "color": "gray",
          "width": 2
         },
         "locationmode": "country names",
         "lon": [
          18.0686,
          19.945
         ],
         "mode": "lines",
         "name": "Stockholm → Krakow",
         "type": "scattergeo"
        },
        {
         "lat": [
          21.0285,
          41.8781
         ],
         "line": {
          "color": "gray",
          "width": 2
         },
         "locationmode": "country names",
         "lon": [
          105.8542,
          -87.6298
         ],
         "mode": "lines",
         "name": "Hanoi → Chicago",
         "type": "scattergeo"
        },
        {
         "lat": [
          59.3293,
          48.1351
         ],
         "line": {
          "color": "gray",
          "width": 2
         },
         "locationmode": "country names",
         "lon": [
          18.0686,
          11.582
         ],
         "mode": "lines",
         "name": "Stockholm → Munich",
         "type": "scattergeo"
        },
        {
         "lat": [
          59.3293,
          31.2304
         ],
         "line": {
          "color": "gray",
          "width": 2
         },
         "locationmode": "country names",
         "lon": [
          18.0686,
          121.4737
         ],
         "mode": "lines",
         "name": "Stockholm → Shanghai",
         "type": "scattergeo"
        }
       ],
       "layout": {
        "geo": {
         "coastlinecolor": "rgb(204, 204, 204)",
         "landcolor": "rgb(243, 243, 243)",
         "projection": {
          "type": "natural earth"
         },
         "scope": "world",
         "showland": true
        },
        "template": {
         "data": {
          "bar": [
           {
            "error_x": {
             "color": "#2a3f5f"
            },
            "error_y": {
             "color": "#2a3f5f"
            },
            "marker": {
             "line": {
              "color": "#E5ECF6",
              "width": 0.5
             },
             "pattern": {
              "fillmode": "overlay",
              "size": 10,
              "solidity": 0.2
             }
            },
            "type": "bar"
           }
          ],
          "barpolar": [
           {
            "marker": {
             "line": {
              "color": "#E5ECF6",
              "width": 0.5
             },
             "pattern": {
              "fillmode": "overlay",
              "size": 10,
              "solidity": 0.2
             }
            },
            "type": "barpolar"
           }
          ],
          "carpet": [
           {
            "aaxis": {
             "endlinecolor": "#2a3f5f",
             "gridcolor": "white",
             "linecolor": "white",
             "minorgridcolor": "white",
             "startlinecolor": "#2a3f5f"
            },
            "baxis": {
             "endlinecolor": "#2a3f5f",
             "gridcolor": "white",
             "linecolor": "white",
             "minorgridcolor": "white",
             "startlinecolor": "#2a3f5f"
            },
            "type": "carpet"
           }
          ],
          "choropleth": [
           {
            "colorbar": {
             "outlinewidth": 0,
             "ticks": ""
            },
            "type": "choropleth"
           }
          ],
          "contour": [
           {
            "colorbar": {
             "outlinewidth": 0,
             "ticks": ""
            },
            "colorscale": [
             [
              0,
              "#0d0887"
             ],
             [
              0.1111111111111111,
              "#46039f"
             ],
             [
              0.2222222222222222,
              "#7201a8"
             ],
             [
              0.3333333333333333,
              "#9c179e"
             ],
             [
              0.4444444444444444,
              "#bd3786"
             ],
             [
              0.5555555555555556,
              "#d8576b"
             ],
             [
              0.6666666666666666,
              "#ed7953"
             ],
             [
              0.7777777777777778,
              "#fb9f3a"
             ],
             [
              0.8888888888888888,
              "#fdca26"
             ],
             [
              1,
              "#f0f921"
             ]
            ],
            "type": "contour"
           }
          ],
          "contourcarpet": [
           {
            "colorbar": {
             "outlinewidth": 0,
             "ticks": ""
            },
            "type": "contourcarpet"
           }
          ],
          "heatmap": [
           {
            "colorbar": {
             "outlinewidth": 0,
             "ticks": ""
            },
            "colorscale": [
             [
              0,
              "#0d0887"
             ],
             [
              0.1111111111111111,
              "#46039f"
             ],
             [
              0.2222222222222222,
              "#7201a8"
             ],
             [
              0.3333333333333333,
              "#9c179e"
             ],
             [
              0.4444444444444444,
              "#bd3786"
             ],
             [
              0.5555555555555556,
              "#d8576b"
             ],
             [
              0.6666666666666666,
              "#ed7953"
             ],
             [
              0.7777777777777778,
              "#fb9f3a"
             ],
             [
              0.8888888888888888,
              "#fdca26"
             ],
             [
              1,
              "#f0f921"
             ]
            ],
            "type": "heatmap"
           }
          ],
          "histogram": [
           {
            "marker": {
             "pattern": {
              "fillmode": "overlay",
              "size": 10,
              "solidity": 0.2
             }
            },
            "type": "histogram"
           }
          ],
          "histogram2d": [
           {
            "colorbar": {
             "outlinewidth": 0,
             "ticks": ""
            },
            "colorscale": [
             [
              0,
              "#0d0887"
             ],
             [
              0.1111111111111111,
              "#46039f"
             ],
             [
              0.2222222222222222,
              "#7201a8"
             ],
             [
              0.3333333333333333,
              "#9c179e"
             ],
             [
              0.4444444444444444,
              "#bd3786"
             ],
             [
              0.5555555555555556,
              "#d8576b"
             ],
             [
              0.6666666666666666,
              "#ed7953"
             ],
             [
              0.7777777777777778,
              "#fb9f3a"
             ],
             [
              0.8888888888888888,
              "#fdca26"
             ],
             [
              1,
              "#f0f921"
             ]
            ],
            "type": "histogram2d"
           }
          ],
          "histogram2dcontour": [
           {
            "colorbar": {
             "outlinewidth": 0,
             "ticks": ""
            },
            "colorscale": [
             [
              0,
              "#0d0887"
             ],
             [
              0.1111111111111111,
              "#46039f"
             ],
             [
              0.2222222222222222,
              "#7201a8"
             ],
             [
              0.3333333333333333,
              "#9c179e"
             ],
             [
              0.4444444444444444,
              "#bd3786"
             ],
             [
              0.5555555555555556,
              "#d8576b"
             ],
             [
              0.6666666666666666,
              "#ed7953"
             ],
             [
              0.7777777777777778,
              "#fb9f3a"
             ],
             [
              0.8888888888888888,
              "#fdca26"
             ],
             [
              1,
              "#f0f921"
             ]
            ],
            "type": "histogram2dcontour"
           }
          ],
          "mesh3d": [
           {
            "colorbar": {
             "outlinewidth": 0,
             "ticks": ""
            },
            "type": "mesh3d"
           }
          ],
          "parcoords": [
           {
            "line": {
             "colorbar": {
              "outlinewidth": 0,
              "ticks": ""
             }
            },
            "type": "parcoords"
           }
          ],
          "pie": [
           {
            "automargin": true,
            "type": "pie"
           }
          ],
          "scatter": [
           {
            "fillpattern": {
             "fillmode": "overlay",
             "size": 10,
             "solidity": 0.2
            },
            "type": "scatter"
           }
          ],
          "scatter3d": [
           {
            "line": {
             "colorbar": {
              "outlinewidth": 0,
              "ticks": ""
             }
            },
            "marker": {
             "colorbar": {
              "outlinewidth": 0,
              "ticks": ""
             }
            },
            "type": "scatter3d"
           }
          ],
          "scattercarpet": [
           {
            "marker": {
             "colorbar": {
              "outlinewidth": 0,
              "ticks": ""
             }
            },
            "type": "scattercarpet"
           }
          ],
          "scattergeo": [
           {
            "marker": {
             "colorbar": {
              "outlinewidth": 0,
              "ticks": ""
             }
            },
            "type": "scattergeo"
           }
          ],
          "scattergl": [
           {
            "marker": {
             "colorbar": {
              "outlinewidth": 0,
              "ticks": ""
             }
            },
            "type": "scattergl"
           }
          ],
          "scattermap": [
           {
            "marker": {
             "colorbar": {
              "outlinewidth": 0,
              "ticks": ""
             }
            },
            "type": "scattermap"
           }
          ],
          "scattermapbox": [
           {
            "marker": {
             "colorbar": {
              "outlinewidth": 0,
              "ticks": ""
             }
            },
            "type": "scattermapbox"
           }
          ],
          "scatterpolar": [
           {
            "marker": {
             "colorbar": {
              "outlinewidth": 0,
              "ticks": ""
             }
            },
            "type": "scatterpolar"
           }
          ],
          "scatterpolargl": [
           {
            "marker": {
             "colorbar": {
              "outlinewidth": 0,
              "ticks": ""
             }
            },
            "type": "scatterpolargl"
           }
          ],
          "scatterternary": [
           {
            "marker": {
             "colorbar": {
              "outlinewidth": 0,
              "ticks": ""
             }
            },
            "type": "scatterternary"
           }
          ],
          "surface": [
           {
            "colorbar": {
             "outlinewidth": 0,
             "ticks": ""
            },
            "colorscale": [
             [
              0,
              "#0d0887"
             ],
             [
              0.1111111111111111,
              "#46039f"
             ],
             [
              0.2222222222222222,
              "#7201a8"
             ],
             [
              0.3333333333333333,
              "#9c179e"
             ],
             [
              0.4444444444444444,
              "#bd3786"
             ],
             [
              0.5555555555555556,
              "#d8576b"
             ],
             [
              0.6666666666666666,
              "#ed7953"
             ],
             [
              0.7777777777777778,
              "#fb9f3a"
             ],
             [
              0.8888888888888888,
              "#fdca26"
             ],
             [
              1,
              "#f0f921"
             ]
            ],
            "type": "surface"
           }
          ],
          "table": [
           {
            "cells": {
             "fill": {
              "color": "#EBF0F8"
             },
             "line": {
              "color": "white"
             }
            },
            "header": {
             "fill": {
              "color": "#C8D4E3"
             },
             "line": {
              "color": "white"
             }
            },
            "type": "table"
           }
          ]
         },
         "layout": {
          "annotationdefaults": {
           "arrowcolor": "#2a3f5f",
           "arrowhead": 0,
           "arrowwidth": 1
          },
          "autotypenumbers": "strict",
          "coloraxis": {
           "colorbar": {
            "outlinewidth": 0,
            "ticks": ""
           }
          },
          "colorscale": {
           "diverging": [
            [
             0,
             "#8e0152"
            ],
            [
             0.1,
             "#c51b7d"
            ],
            [
             0.2,
             "#de77ae"
            ],
            [
             0.3,
             "#f1b6da"
            ],
            [
             0.4,
             "#fde0ef"
            ],
            [
             0.5,
             "#f7f7f7"
            ],
            [
             0.6,
             "#e6f5d0"
            ],
            [
             0.7,
             "#b8e186"
            ],
            [
             0.8,
             "#7fbc41"
            ],
            [
             0.9,
             "#4d9221"
            ],
            [
             1,
             "#276419"
            ]
           ],
           "sequential": [
            [
             0,
             "#0d0887"
            ],
            [
             0.1111111111111111,
             "#46039f"
            ],
            [
             0.2222222222222222,
             "#7201a8"
            ],
            [
             0.3333333333333333,
             "#9c179e"
            ],
            [
             0.4444444444444444,
             "#bd3786"
            ],
            [
             0.5555555555555556,
             "#d8576b"
            ],
            [
             0.6666666666666666,
             "#ed7953"
            ],
            [
             0.7777777777777778,
             "#fb9f3a"
            ],
            [
             0.8888888888888888,
             "#fdca26"
            ],
            [
             1,
             "#f0f921"
            ]
           ],
           "sequentialminus": [
            [
             0,
             "#0d0887"
            ],
            [
             0.1111111111111111,
             "#46039f"
            ],
            [
             0.2222222222222222,
             "#7201a8"
            ],
            [
             0.3333333333333333,
             "#9c179e"
            ],
            [
             0.4444444444444444,
             "#bd3786"
            ],
            [
             0.5555555555555556,
             "#d8576b"
            ],
            [
             0.6666666666666666,
             "#ed7953"
            ],
            [
             0.7777777777777778,
             "#fb9f3a"
            ],
            [
             0.8888888888888888,
             "#fdca26"
            ],
            [
             1,
             "#f0f921"
            ]
           ]
          },
          "colorway": [
           "#636efa",
           "#EF553B",
           "#00cc96",
           "#ab63fa",
           "#FFA15A",
           "#19d3f3",
           "#FF6692",
           "#B6E880",
           "#FF97FF",
           "#FECB52"
          ],
          "font": {
           "color": "#2a3f5f"
          },
          "geo": {
           "bgcolor": "white",
           "lakecolor": "white",
           "landcolor": "#E5ECF6",
           "showlakes": true,
           "showland": true,
           "subunitcolor": "white"
          },
          "hoverlabel": {
           "align": "left"
          },
          "hovermode": "closest",
          "mapbox": {
           "style": "light"
          },
          "paper_bgcolor": "white",
          "plot_bgcolor": "#E5ECF6",
          "polar": {
           "angularaxis": {
            "gridcolor": "white",
            "linecolor": "white",
            "ticks": ""
           },
           "bgcolor": "#E5ECF6",
           "radialaxis": {
            "gridcolor": "white",
            "linecolor": "white",
            "ticks": ""
           }
          },
          "scene": {
           "xaxis": {
            "backgroundcolor": "#E5ECF6",
            "gridcolor": "white",
            "gridwidth": 2,
            "linecolor": "white",
            "showbackground": true,
            "ticks": "",
            "zerolinecolor": "white"
           },
           "yaxis": {
            "backgroundcolor": "#E5ECF6",
            "gridcolor": "white",
            "gridwidth": 2,
            "linecolor": "white",
            "showbackground": true,
            "ticks": "",
            "zerolinecolor": "white"
           },
           "zaxis": {
            "backgroundcolor": "#E5ECF6",
            "gridcolor": "white",
            "gridwidth": 2,
            "linecolor": "white",
            "showbackground": true,
            "ticks": "",
            "zerolinecolor": "white"
           }
          },
          "shapedefaults": {
           "line": {
            "color": "#2a3f5f"
           }
          },
          "ternary": {
           "aaxis": {
            "gridcolor": "white",
            "linecolor": "white",
            "ticks": ""
           },
           "baxis": {
            "gridcolor": "white",
            "linecolor": "white",
            "ticks": ""
           },
           "bgcolor": "#E5ECF6",
           "caxis": {
            "gridcolor": "white",
            "linecolor": "white",
            "ticks": ""
           }
          },
          "title": {
           "x": 0.05
          },
          "xaxis": {
           "automargin": true,
           "gridcolor": "white",
           "linecolor": "white",
           "ticks": "",
           "title": {
            "standoff": 15
           },
           "zerolinecolor": "white",
           "zerolinewidth": 2
          },
          "yaxis": {
           "automargin": true,
           "gridcolor": "white",
           "linecolor": "white",
           "ticks": "",
           "title": {
            "standoff": 15
           },
           "zerolinecolor": "white",
           "zerolinewidth": 2
          }
         }
        },
        "title": {
         "text": "Shipments: Origins and Destinations"
        }
       }
      }
     },
     "metadata": {},
     "output_type": "display_data"
    }
   ],
   "source": [
    "import plotly.graph_objects as go\n",
    "import plotly.io as pio\n",
    "pio.renderers.default = \"vscode\"\n",
    "\n",
    "# Get the coordinated in the same dataframe\n",
    "shipments_coordinates = pd.merge(shipments, routes[['Origin', 'Destination', 'Origin_Lat', 'Origin_Lon','Destination_Lat', 'Destination_Lon']],on=['Origin', 'Destination'])\n",
    "\n",
    "# Create the map\n",
    "fig = go.Figure()\n",
    "\n",
    "# Add markers for Origins\n",
    "fig.add_trace(go.Scattergeo(\n",
    "    locationmode='country names',\n",
    "    lon=shipments_coordinates['Origin_Lon'],\n",
    "    lat=shipments_coordinates['Origin_Lat'],\n",
    "    mode='markers',\n",
    "    marker=dict(size=8, color='darkblue', symbol='circle'),  # Blue circles for origins\n",
    "    name='Origin',\n",
    "    text=shipments_coordinates['Origin']  # City names as hover text\n",
    "))\n",
    "\n",
    "# Add markers for Destinations\n",
    "fig.add_trace(go.Scattergeo(\n",
    "    locationmode='country names',\n",
    "    lon=shipments_coordinates['Destination_Lon'],\n",
    "    lat=shipments_coordinates['Destination_Lat'],\n",
    "    mode='markers',\n",
    "    marker=dict(size=8, color='lightcoral', symbol='diamond'),  # Red diamonds for destinations\n",
    "    name='Destination',\n",
    "    text=shipments_coordinates['Destination']  # City names as hover text\n",
    "))\n",
    "\n",
    "# Add lines between Origins and Destinations\n",
    "for i in range(len(shipments_coordinates)):\n",
    "    fig.add_trace(go.Scattergeo(\n",
    "        locationmode='country names',\n",
    "        lon=[shipments_coordinates['Origin_Lon'][i], shipments_coordinates['Destination_Lon'][i]],\n",
    "        lat=[shipments_coordinates['Origin_Lat'][i], shipments_coordinates['Destination_Lat'][i]],\n",
    "        mode='lines',\n",
    "        line=dict(width=2, color='gray'),\n",
    "        name=f\"{shipments_coordinates['Origin'][i]} → {shipments_coordinates['Destination'][i]}\"\n",
    "    ))\n",
    "\n",
    "# Update map layout\n",
    "fig.update_layout(\n",
    "    title='Shipments: Origins and Destinations',\n",
    "    geo=dict(\n",
    "        scope='world',\n",
    "        projection_type='natural earth',\n",
    "        showland=True,\n",
    "        landcolor='rgb(243, 243, 243)',\n",
    "        coastlinecolor='rgb(204, 204, 204)'\n",
    "    )\n",
    ")\n",
    "\n",
    "# Display the map\n",
    "fig.show()"
   ]
  },
  {
   "cell_type": "markdown",
   "id": "519b488f-172c-4c98-bac5-b9b1729d1532",
   "metadata": {},
   "source": [
    "Route visualisation - Sankey diagram:"
   ]
  },
  {
   "cell_type": "code",
   "execution_count": 10,
   "id": "84a6d3ce-64f6-4e3f-8ebd-a5dff5753b0f",
   "metadata": {
    "scrolled": true
   },
   "outputs": [
    {
     "data": {
      "application/vnd.plotly.v1+json": {
       "config": {
        "plotlyServerURL": "https://plot.ly"
       },
       "data": [
        {
         "link": {
          "color": [
           "dimgray",
           "dimgray",
           "dimgray",
           "dimgray",
           "darkgray",
           "darkgray",
           "darkgray",
           "darkgray",
           "silver",
           "silver",
           "silver",
           "silver",
           "gainsboro",
           "gainsboro",
           "gainsboro",
           "gainsboro"
          ],
          "label": [
           "PART 1",
           "PART 1",
           "PART 1",
           "PART 1",
           "PART 2",
           "PART 2",
           "PART 2",
           "PART 2",
           "PART 3",
           "PART 3",
           "PART 3",
           "PART 3",
           "PART 4",
           "PART 4",
           "PART 4",
           "PART 4"
          ],
          "source": {
           "bdata": "AAAAAAEBAQECAgICAwMDAw==",
           "dtype": "i1"
          },
          "target": {
           "bdata": "BAUGBwQFBgcEBQYHBAUGBw==",
           "dtype": "i1"
          },
          "value": {
           "bdata": "LBknGiAiKhQeGRkhGh8eJg==",
           "dtype": "i1"
          }
         },
         "node": {
          "color": [
           "darkblue",
           "darkblue",
           "darkblue",
           "darkblue",
           "lightcoral",
           "lightcoral",
           "lightcoral",
           "lightcoral"
          ],
          "label": [
           "Hanoi",
           "Milan",
           "Mumbai",
           "Stockholm",
           "Chicago",
           "Krakow",
           "Munich",
           "Shanghai"
          ],
          "line": {
           "color": "black",
           "width": 0.5
          },
          "pad": 15,
          "thickness": 20
         },
         "type": "sankey"
        }
       ],
       "layout": {
        "font": {
         "size": 12
        },
        "template": {
         "data": {
          "bar": [
           {
            "error_x": {
             "color": "#2a3f5f"
            },
            "error_y": {
             "color": "#2a3f5f"
            },
            "marker": {
             "line": {
              "color": "#E5ECF6",
              "width": 0.5
             },
             "pattern": {
              "fillmode": "overlay",
              "size": 10,
              "solidity": 0.2
             }
            },
            "type": "bar"
           }
          ],
          "barpolar": [
           {
            "marker": {
             "line": {
              "color": "#E5ECF6",
              "width": 0.5
             },
             "pattern": {
              "fillmode": "overlay",
              "size": 10,
              "solidity": 0.2
             }
            },
            "type": "barpolar"
           }
          ],
          "carpet": [
           {
            "aaxis": {
             "endlinecolor": "#2a3f5f",
             "gridcolor": "white",
             "linecolor": "white",
             "minorgridcolor": "white",
             "startlinecolor": "#2a3f5f"
            },
            "baxis": {
             "endlinecolor": "#2a3f5f",
             "gridcolor": "white",
             "linecolor": "white",
             "minorgridcolor": "white",
             "startlinecolor": "#2a3f5f"
            },
            "type": "carpet"
           }
          ],
          "choropleth": [
           {
            "colorbar": {
             "outlinewidth": 0,
             "ticks": ""
            },
            "type": "choropleth"
           }
          ],
          "contour": [
           {
            "colorbar": {
             "outlinewidth": 0,
             "ticks": ""
            },
            "colorscale": [
             [
              0,
              "#0d0887"
             ],
             [
              0.1111111111111111,
              "#46039f"
             ],
             [
              0.2222222222222222,
              "#7201a8"
             ],
             [
              0.3333333333333333,
              "#9c179e"
             ],
             [
              0.4444444444444444,
              "#bd3786"
             ],
             [
              0.5555555555555556,
              "#d8576b"
             ],
             [
              0.6666666666666666,
              "#ed7953"
             ],
             [
              0.7777777777777778,
              "#fb9f3a"
             ],
             [
              0.8888888888888888,
              "#fdca26"
             ],
             [
              1,
              "#f0f921"
             ]
            ],
            "type": "contour"
           }
          ],
          "contourcarpet": [
           {
            "colorbar": {
             "outlinewidth": 0,
             "ticks": ""
            },
            "type": "contourcarpet"
           }
          ],
          "heatmap": [
           {
            "colorbar": {
             "outlinewidth": 0,
             "ticks": ""
            },
            "colorscale": [
             [
              0,
              "#0d0887"
             ],
             [
              0.1111111111111111,
              "#46039f"
             ],
             [
              0.2222222222222222,
              "#7201a8"
             ],
             [
              0.3333333333333333,
              "#9c179e"
             ],
             [
              0.4444444444444444,
              "#bd3786"
             ],
             [
              0.5555555555555556,
              "#d8576b"
             ],
             [
              0.6666666666666666,
              "#ed7953"
             ],
             [
              0.7777777777777778,
              "#fb9f3a"
             ],
             [
              0.8888888888888888,
              "#fdca26"
             ],
             [
              1,
              "#f0f921"
             ]
            ],
            "type": "heatmap"
           }
          ],
          "histogram": [
           {
            "marker": {
             "pattern": {
              "fillmode": "overlay",
              "size": 10,
              "solidity": 0.2
             }
            },
            "type": "histogram"
           }
          ],
          "histogram2d": [
           {
            "colorbar": {
             "outlinewidth": 0,
             "ticks": ""
            },
            "colorscale": [
             [
              0,
              "#0d0887"
             ],
             [
              0.1111111111111111,
              "#46039f"
             ],
             [
              0.2222222222222222,
              "#7201a8"
             ],
             [
              0.3333333333333333,
              "#9c179e"
             ],
             [
              0.4444444444444444,
              "#bd3786"
             ],
             [
              0.5555555555555556,
              "#d8576b"
             ],
             [
              0.6666666666666666,
              "#ed7953"
             ],
             [
              0.7777777777777778,
              "#fb9f3a"
             ],
             [
              0.8888888888888888,
              "#fdca26"
             ],
             [
              1,
              "#f0f921"
             ]
            ],
            "type": "histogram2d"
           }
          ],
          "histogram2dcontour": [
           {
            "colorbar": {
             "outlinewidth": 0,
             "ticks": ""
            },
            "colorscale": [
             [
              0,
              "#0d0887"
             ],
             [
              0.1111111111111111,
              "#46039f"
             ],
             [
              0.2222222222222222,
              "#7201a8"
             ],
             [
              0.3333333333333333,
              "#9c179e"
             ],
             [
              0.4444444444444444,
              "#bd3786"
             ],
             [
              0.5555555555555556,
              "#d8576b"
             ],
             [
              0.6666666666666666,
              "#ed7953"
             ],
             [
              0.7777777777777778,
              "#fb9f3a"
             ],
             [
              0.8888888888888888,
              "#fdca26"
             ],
             [
              1,
              "#f0f921"
             ]
            ],
            "type": "histogram2dcontour"
           }
          ],
          "mesh3d": [
           {
            "colorbar": {
             "outlinewidth": 0,
             "ticks": ""
            },
            "type": "mesh3d"
           }
          ],
          "parcoords": [
           {
            "line": {
             "colorbar": {
              "outlinewidth": 0,
              "ticks": ""
             }
            },
            "type": "parcoords"
           }
          ],
          "pie": [
           {
            "automargin": true,
            "type": "pie"
           }
          ],
          "scatter": [
           {
            "fillpattern": {
             "fillmode": "overlay",
             "size": 10,
             "solidity": 0.2
            },
            "type": "scatter"
           }
          ],
          "scatter3d": [
           {
            "line": {
             "colorbar": {
              "outlinewidth": 0,
              "ticks": ""
             }
            },
            "marker": {
             "colorbar": {
              "outlinewidth": 0,
              "ticks": ""
             }
            },
            "type": "scatter3d"
           }
          ],
          "scattercarpet": [
           {
            "marker": {
             "colorbar": {
              "outlinewidth": 0,
              "ticks": ""
             }
            },
            "type": "scattercarpet"
           }
          ],
          "scattergeo": [
           {
            "marker": {
             "colorbar": {
              "outlinewidth": 0,
              "ticks": ""
             }
            },
            "type": "scattergeo"
           }
          ],
          "scattergl": [
           {
            "marker": {
             "colorbar": {
              "outlinewidth": 0,
              "ticks": ""
             }
            },
            "type": "scattergl"
           }
          ],
          "scattermap": [
           {
            "marker": {
             "colorbar": {
              "outlinewidth": 0,
              "ticks": ""
             }
            },
            "type": "scattermap"
           }
          ],
          "scattermapbox": [
           {
            "marker": {
             "colorbar": {
              "outlinewidth": 0,
              "ticks": ""
             }
            },
            "type": "scattermapbox"
           }
          ],
          "scatterpolar": [
           {
            "marker": {
             "colorbar": {
              "outlinewidth": 0,
              "ticks": ""
             }
            },
            "type": "scatterpolar"
           }
          ],
          "scatterpolargl": [
           {
            "marker": {
             "colorbar": {
              "outlinewidth": 0,
              "ticks": ""
             }
            },
            "type": "scatterpolargl"
           }
          ],
          "scatterternary": [
           {
            "marker": {
             "colorbar": {
              "outlinewidth": 0,
              "ticks": ""
             }
            },
            "type": "scatterternary"
           }
          ],
          "surface": [
           {
            "colorbar": {
             "outlinewidth": 0,
             "ticks": ""
            },
            "colorscale": [
             [
              0,
              "#0d0887"
             ],
             [
              0.1111111111111111,
              "#46039f"
             ],
             [
              0.2222222222222222,
              "#7201a8"
             ],
             [
              0.3333333333333333,
              "#9c179e"
             ],
             [
              0.4444444444444444,
              "#bd3786"
             ],
             [
              0.5555555555555556,
              "#d8576b"
             ],
             [
              0.6666666666666666,
              "#ed7953"
             ],
             [
              0.7777777777777778,
              "#fb9f3a"
             ],
             [
              0.8888888888888888,
              "#fdca26"
             ],
             [
              1,
              "#f0f921"
             ]
            ],
            "type": "surface"
           }
          ],
          "table": [
           {
            "cells": {
             "fill": {
              "color": "#EBF0F8"
             },
             "line": {
              "color": "white"
             }
            },
            "header": {
             "fill": {
              "color": "#C8D4E3"
             },
             "line": {
              "color": "white"
             }
            },
            "type": "table"
           }
          ]
         },
         "layout": {
          "annotationdefaults": {
           "arrowcolor": "#2a3f5f",
           "arrowhead": 0,
           "arrowwidth": 1
          },
          "autotypenumbers": "strict",
          "coloraxis": {
           "colorbar": {
            "outlinewidth": 0,
            "ticks": ""
           }
          },
          "colorscale": {
           "diverging": [
            [
             0,
             "#8e0152"
            ],
            [
             0.1,
             "#c51b7d"
            ],
            [
             0.2,
             "#de77ae"
            ],
            [
             0.3,
             "#f1b6da"
            ],
            [
             0.4,
             "#fde0ef"
            ],
            [
             0.5,
             "#f7f7f7"
            ],
            [
             0.6,
             "#e6f5d0"
            ],
            [
             0.7,
             "#b8e186"
            ],
            [
             0.8,
             "#7fbc41"
            ],
            [
             0.9,
             "#4d9221"
            ],
            [
             1,
             "#276419"
            ]
           ],
           "sequential": [
            [
             0,
             "#0d0887"
            ],
            [
             0.1111111111111111,
             "#46039f"
            ],
            [
             0.2222222222222222,
             "#7201a8"
            ],
            [
             0.3333333333333333,
             "#9c179e"
            ],
            [
             0.4444444444444444,
             "#bd3786"
            ],
            [
             0.5555555555555556,
             "#d8576b"
            ],
            [
             0.6666666666666666,
             "#ed7953"
            ],
            [
             0.7777777777777778,
             "#fb9f3a"
            ],
            [
             0.8888888888888888,
             "#fdca26"
            ],
            [
             1,
             "#f0f921"
            ]
           ],
           "sequentialminus": [
            [
             0,
             "#0d0887"
            ],
            [
             0.1111111111111111,
             "#46039f"
            ],
            [
             0.2222222222222222,
             "#7201a8"
            ],
            [
             0.3333333333333333,
             "#9c179e"
            ],
            [
             0.4444444444444444,
             "#bd3786"
            ],
            [
             0.5555555555555556,
             "#d8576b"
            ],
            [
             0.6666666666666666,
             "#ed7953"
            ],
            [
             0.7777777777777778,
             "#fb9f3a"
            ],
            [
             0.8888888888888888,
             "#fdca26"
            ],
            [
             1,
             "#f0f921"
            ]
           ]
          },
          "colorway": [
           "#636efa",
           "#EF553B",
           "#00cc96",
           "#ab63fa",
           "#FFA15A",
           "#19d3f3",
           "#FF6692",
           "#B6E880",
           "#FF97FF",
           "#FECB52"
          ],
          "font": {
           "color": "#2a3f5f"
          },
          "geo": {
           "bgcolor": "white",
           "lakecolor": "white",
           "landcolor": "#E5ECF6",
           "showlakes": true,
           "showland": true,
           "subunitcolor": "white"
          },
          "hoverlabel": {
           "align": "left"
          },
          "hovermode": "closest",
          "mapbox": {
           "style": "light"
          },
          "paper_bgcolor": "white",
          "plot_bgcolor": "#E5ECF6",
          "polar": {
           "angularaxis": {
            "gridcolor": "white",
            "linecolor": "white",
            "ticks": ""
           },
           "bgcolor": "#E5ECF6",
           "radialaxis": {
            "gridcolor": "white",
            "linecolor": "white",
            "ticks": ""
           }
          },
          "scene": {
           "xaxis": {
            "backgroundcolor": "#E5ECF6",
            "gridcolor": "white",
            "gridwidth": 2,
            "linecolor": "white",
            "showbackground": true,
            "ticks": "",
            "zerolinecolor": "white"
           },
           "yaxis": {
            "backgroundcolor": "#E5ECF6",
            "gridcolor": "white",
            "gridwidth": 2,
            "linecolor": "white",
            "showbackground": true,
            "ticks": "",
            "zerolinecolor": "white"
           },
           "zaxis": {
            "backgroundcolor": "#E5ECF6",
            "gridcolor": "white",
            "gridwidth": 2,
            "linecolor": "white",
            "showbackground": true,
            "ticks": "",
            "zerolinecolor": "white"
           }
          },
          "shapedefaults": {
           "line": {
            "color": "#2a3f5f"
           }
          },
          "ternary": {
           "aaxis": {
            "gridcolor": "white",
            "linecolor": "white",
            "ticks": ""
           },
           "baxis": {
            "gridcolor": "white",
            "linecolor": "white",
            "ticks": ""
           },
           "bgcolor": "#E5ECF6",
           "caxis": {
            "gridcolor": "white",
            "linecolor": "white",
            "ticks": ""
           }
          },
          "title": {
           "x": 0.05
          },
          "xaxis": {
           "automargin": true,
           "gridcolor": "white",
           "linecolor": "white",
           "ticks": "",
           "title": {
            "standoff": 15
           },
           "zerolinecolor": "white",
           "zerolinewidth": 2
          },
          "yaxis": {
           "automargin": true,
           "gridcolor": "white",
           "linecolor": "white",
           "ticks": "",
           "title": {
            "standoff": 15
           },
           "zerolinecolor": "white",
           "zerolinewidth": 2
          }
         }
        },
        "title": {
         "text": "Origin-Destination Sankey Diagram"
        }
       }
      }
     },
     "metadata": {},
     "output_type": "display_data"
    }
   ],
   "source": [
    "def create_sankey(data, title):\n",
    "    # Step 1: Count shipments for each Origin-Destination pair\n",
    "    grouped_df = data.groupby(['Origin', 'Destination', 'Item']).size().reset_index(name='Value')\n",
    "    \n",
    "    # Step 2: Create unique labels for Sankey nodes\n",
    "    all_nodes = list(pd.concat([grouped_df['Origin'], grouped_df['Destination']]).unique())\n",
    "    node_indices = {node: idx for idx, node in enumerate(all_nodes)}\n",
    "    \n",
    "    item_colors = {\n",
    "        'PART 1': 'dimgray',    # Dark gray for Product 1\n",
    "        'PART 2': 'darkgray',        # Medium gray for Product 2\n",
    "        'PART 3': 'silver',   # Light gray for Product 3\n",
    "        'PART 4': 'gainsboro'    # Very light gray for Product 4\n",
    "    }\n",
    "    \n",
    "    \n",
    "    # Step 3: Assign colors based on the item\n",
    "    grouped_df['Color'] = grouped_df['Item'].map(item_colors)\n",
    "    \n",
    "    # Step 4: Create unique labels for Sankey nodes\n",
    "    all_nodes = list(pd.concat([grouped_df['Origin'], grouped_df['Destination']]).unique())\n",
    "    node_indices = {node: idx for idx, node in enumerate(all_nodes)}\n",
    "    \n",
    "    # Step 5: Prepare data for Sankey diagram\n",
    "    sankey_data = {\n",
    "        'node': {\n",
    "            'label': all_nodes,  # Labels for nodes\n",
    "            'color': ['darkblue' if node in grouped_df['Origin'].unique() else 'lightcoral' for node in all_nodes]\n",
    "      \n",
    "        },\n",
    "        'link': {\n",
    "            'source': grouped_df['Origin'].map(node_indices),  # Map origins to indices\n",
    "            'target': grouped_df['Destination'].map(node_indices),  # Map destinations to indices\n",
    "            'value': grouped_df['Value'],  # Shipment count as link value\n",
    "            'color': grouped_df['Color'],  # Link colors based on items\n",
    "            'label': grouped_df['Item']\n",
    "        }\n",
    "    }\n",
    "    \n",
    "    # Step 6: Create the Sankey diagram\n",
    "    fig = go.Figure(go.Sankey(\n",
    "        node=dict(\n",
    "            pad=15,\n",
    "            thickness=20,\n",
    "            line=dict(color=\"black\", width=0.5),\n",
    "            label=sankey_data['node']['label'],\n",
    "            color=sankey_data['node']['color']\n",
    "        ),\n",
    "        link=dict(\n",
    "            source=sankey_data['link']['source'],\n",
    "            target=sankey_data['link']['target'],\n",
    "            value=sankey_data['link']['value'],\n",
    "            color=sankey_data['link']['color'],\n",
    "            label=sankey_data['link']['label'],\n",
    "        )\n",
    "    ))\n",
    "    # Update layout\n",
    "    return fig.update_layout(title_text=title, font_size=12)\n",
    "\n",
    "fig = create_sankey(shipments_coordinates, \"Origin-Destination Sankey Diagram\")\n",
    "# Show the diagram\n",
    "fig.show()"
   ]
  },
  {
   "cell_type": "markdown",
   "id": "3bb5331e-c60b-40d9-9786-3996c558f931",
   "metadata": {},
   "source": [
    "## Bonus - Useful Tips for Tackling Problems\n",
    "\n",
    "When approaching complex problems, it’s tempting to aim for a full-scale optimization of the entire system. While this goal is appealing, the reality is that constraints like budgets, time, and resources often make it impractical. Instead, focusing on specific, impactful areas can yield significant improvements and demonstrate value.\n",
    "\n",
    "Some tips and frameworks to guide your approach:\n",
    "\n",
    "### Problem Bounding\n",
    "\n",
    "#### 1. Focus on the Vital Few: The Pareto Principle\n",
    "\n",
    "The Pareto Principle, also known as the 80/20 Rule, suggests that 80% of the outcomes are often driven by 20% of the inputs. This principle helps narrow the focus to areas that contribute most to the problem:\n",
    "\n",
    "Examples in logistics:\n",
    "* 80% of transportation costs may arise from just 20% of the routes.\n",
    "* 80% of delays may occur due to inefficiencies in 20% of the factories or transportation modes.\n",
    "\n",
    "How to apply this in your analysis:\n",
    "Use the data to identify the \"vital few\" factors driving the majority of the issues, such as costliest routes or consistently delayed factories. Prioritize these high-impact areas for optimization.\n",
    "\n",
    "#### 2. Prioritize \"Low-Hanging Fruits\" Within the Prioritized Areas\n",
    "\n",
    "While the Pareto Principle helps identify the key areas to focus on, it’s essential to consider low-hanging fruits within those areas. These are opportunities where small, straightforward changes can yield significant results. This is particularly true when considering the environment in which each factory operates.\n",
    "\n",
    "Why focus on low-hanging fruits?\n",
    "* They demonstrate quick wins, which build credibility and momentum.\n",
    "* They often require fewer investments.\n",
    "\n",
    "How to identify low-hanging fruits? Look for patterns in the data where inefficiencies are clear and addressable, such as:\n",
    "* Routes with consistently high costs.\n",
    "* Factories with frequent delays.\n",
    "* Over-reliance on expensive transportation modes for non-urgent shipments.\n",
    "\n",
    "In a real environment, you would also consider the availability of local resources, prior knowledge of the factory, level of local collaboration, etc.\n",
    "\n",
    "By targeting low-hanging fruits in high-priority areas, you create immediate value while setting the stage for more comprehensive optimization.\n",
    "\n",
    "### Problem Resolution\n",
    "\n",
    "#### 1. Root Cause Analysis or Ishikawa (Fishbone) Diagram\n",
    "\n",
    "What is the Ishikawa Diagram?\n",
    "Also known as the \"fishbone\" diagram, this tool helps systematically identify the root causes of a problem by categorizing potential factors.\n",
    "\n",
    "Uses the 4 Ps or 4 Ms (sometimes 6 Ms):\n",
    "* 4 Ps when analyzing service-related or organizational issues.\n",
    "* 4 Ms for manufacturing, production, or logistics-related problems.\n",
    "\n",
    "**The Four Ps** Primarily used in service industries, the 4 Ps categorize the causes of problems into:\n",
    "\n",
    "* **P**eople: Human-related factors, such as skills, training, attitude, or communication.\n",
    "* **P**rocesses: Workflow and procedural inefficiencies or inconsistencies.\n",
    "* **P**olicies: Rules, regulations, or management decisions impacting operations.\n",
    "* **P**lant/Place: Physical location or environment where the process occurs.\n",
    "\n",
    "**The Four Ms (or Six Ms)** Primarily used in manufacturing industries:\n",
    "\n",
    "* hu**M**an (People): Human factors, including workforce skills, training, and engagement.\n",
    "* **M**achine: Equipment, tools, and technology issues.\n",
    "* **M**ethod (Process): The way tasks or processes are performed.\n",
    "* **M**aterials: The raw materials or inputs used in production.\n",
    "\n",
    "**Extension:**\n",
    "* **M**easurement: Metrics and measurements, including incorrect or insufficient data.\n",
    "* **M**other Nature (Environment): Environmental factors, including weather, climate, or natural conditions.\n",
    "\n",
    "How to use Root Cause Analysis:\n",
    "* Start with a problem (e.g., delays at a specific factory).\n",
    "* Break it down into contributing categories such as:\n",
    "    * People: Staff inefficiencies or skills gaps.\n",
    "    * Processes: Poor scheduling or lack of standardization.\n",
    "    * Equipment: Transport vehicle issues or capacity constraints.\n",
    "    * Environment: Weather, road conditions, or port congestion.\n",
    "\n",
    "Dive deeper into each category to pinpoint actionable root causes. This system ensures that your solutions target the underlying issues rather than just addressing symptoms."
   ]
  }
 ],
 "metadata": {
  "kernelspec": {
   "display_name": "venv",
   "language": "python",
   "name": "python3"
  },
  "language_info": {
   "codemirror_mode": {
    "name": "ipython",
    "version": 3
   },
   "file_extension": ".py",
   "mimetype": "text/x-python",
   "name": "python",
   "nbconvert_exporter": "python",
   "pygments_lexer": "ipython3",
   "version": "3.13.2"
  }
 },
 "nbformat": 4,
 "nbformat_minor": 5
}
