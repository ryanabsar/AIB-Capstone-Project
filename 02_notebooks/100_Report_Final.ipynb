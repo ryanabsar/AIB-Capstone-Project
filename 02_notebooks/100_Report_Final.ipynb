{
 "cells": [
  {
   "cell_type": "code",
   "execution_count": 5,
   "id": "e145aaeb",
   "metadata": {},
   "outputs": [],
   "source": [
    "from IPython.display import display,update_display, Markdown\n"
   ]
  },
  {
   "cell_type": "code",
   "execution_count": 1,
   "id": "25b41c73",
   "metadata": {},
   "outputs": [
    {
     "data": {
      "text/markdown": [
       "### Sales Summary\n",
       "- Total: $13,300\n",
       "- Growth: 8% YoY"
      ],
      "text/plain": [
       "<IPython.core.display.Markdown object>"
      ]
     },
     "metadata": {},
     "output_type": "display_data"
    }
   ],
   "source": [
    "output_placeholder = display(Markdown(\"\"), display_id=\"top_output\")\n"
   ]
  },
  {
   "cell_type": "code",
   "execution_count": 4,
   "id": "fe6be4a4",
   "metadata": {},
   "outputs": [],
   "source": [
    "# Code in bottom cell\n",
    "from IPython.display import update_display, Markdown\n",
    "\n",
    "# Your actual analysis or output\n",
    "result = \"### Sales Summary\\n- Total: $13,300\\n- Growth: 8% YoY\"\n",
    "\n",
    "# Send the result to the top\n",
    "update_display(Markdown(result), display_id=\"top_output\")\n"
   ]
  },
  {
   "cell_type": "markdown",
   "id": "425e0dd5",
   "metadata": {},
   "source": [
    "# 1. Introduction"
   ]
  },
  {
   "cell_type": "code",
   "execution_count": null,
   "id": "3de34ddd",
   "metadata": {},
   "outputs": [],
   "source": []
  }
 ],
 "metadata": {
  "kernelspec": {
   "display_name": "venv",
   "language": "python",
   "name": "python3"
  },
  "language_info": {
   "codemirror_mode": {
    "name": "ipython",
    "version": 3
   },
   "file_extension": ".py",
   "mimetype": "text/x-python",
   "name": "python",
   "nbconvert_exporter": "python",
   "pygments_lexer": "ipython3",
   "version": "3.11.5"
  }
 },
 "nbformat": 4,
 "nbformat_minor": 5
}
